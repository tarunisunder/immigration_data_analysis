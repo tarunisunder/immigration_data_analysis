{
 "cells": [
  {
   "cell_type": "markdown",
   "metadata": {
    "vscode": {
     "languageId": "r"
    }
   },
   "source": [
    "## Question 1 - Location Capacity  and Rate"
   ]
  },
  {
   "cell_type": "code",
   "execution_count": 1,
   "metadata": {
    "vscode": {
     "languageId": "r"
    }
   },
   "outputs": [
    {
     "data": {
      "text/html": [
       "<style>\n",
       ".list-inline {list-style: none; margin:0; padding: 0}\n",
       ".list-inline>li {display: inline-block}\n",
       ".list-inline>li:not(:last-child)::after {content: \"\\00b7\"; padding: 0 .5ex}\n",
       "</style>\n",
       "<ol class=list-inline><li>1740</li><li>14</li></ol>\n"
      ],
      "text/latex": [
       "\\begin{enumerate*}\n",
       "\\item 1740\n",
       "\\item 14\n",
       "\\end{enumerate*}\n"
      ],
      "text/markdown": [
       "1. 1740\n",
       "2. 14\n",
       "\n",
       "\n"
      ],
      "text/plain": [
       "[1] 1740   14"
      ]
     },
     "metadata": {},
     "output_type": "display_data"
    }
   ],
   "source": [
    "data <- readRDS(\"data/cohort_dat_assess.RDS\")\n",
    "dim(data)"
   ]
  },
  {
   "cell_type": "code",
   "execution_count": 2,
   "metadata": {
    "vscode": {
     "languageId": "r"
    }
   },
   "outputs": [
    {
     "data": {
      "text/html": [
       "<table class=\"dataframe\">\n",
       "<caption>A data.frame: 5 x 14</caption>\n",
       "<thead>\n",
       "\t<tr><th></th><th scope=col>person_id</th><th scope=col>case_id</th><th scope=col>arrival_location_id</th><th scope=col>case_size</th><th scope=col>ArrivalDate</th><th scope=col>arrival_age</th><th scope=col>Nationality_norm</th><th scope=col>sex</th><th scope=col>free_case</th><th scope=col>hard_singles_male</th><th scope=col>hard_singles_female</th><th scope=col>hard_spf</th><th scope=col>case_placement_order</th><th scope=col>arrival_location_order</th></tr>\n",
       "\t<tr><th></th><th scope=col>&lt;chr&gt;</th><th scope=col>&lt;chr&gt;</th><th scope=col>&lt;chr&gt;</th><th scope=col>&lt;dbl&gt;</th><th scope=col>&lt;date&gt;</th><th scope=col>&lt;dbl&gt;</th><th scope=col>&lt;fct&gt;</th><th scope=col>&lt;fct&gt;</th><th scope=col>&lt;dbl&gt;</th><th scope=col>&lt;dbl&gt;</th><th scope=col>&lt;dbl&gt;</th><th scope=col>&lt;dbl&gt;</th><th scope=col>&lt;int&gt;</th><th scope=col>&lt;int&gt;</th></tr>\n",
       "</thead>\n",
       "<tbody>\n",
       "\t<tr><th scope=row>1</th><td>c9f1f43713aec0031d0aea40e352dcb3e0e3996b02b85cb586c06892bdf471f9</td><td>1d31071c3708db8e408bc7db26f95b2c</td><td>88311c24</td><td>1</td><td>2023-02-15</td><td>20</td><td>burma                 </td><td>Male  </td><td>1</td><td>1</td><td>0</td><td>0</td><td>1</td><td>1</td></tr>\n",
       "\t<tr><th scope=row>2</th><td>ce9ba115156522cc5bb0e49376d0e14c6466824c55bf74f5ad1fee0b3f4cfde4</td><td>3c01df8e5923ad49c08fe61e41972e32</td><td>2cc2591c</td><td>2</td><td>2023-02-15</td><td>28</td><td>centralafricanrepublic</td><td>Female</td><td>1</td><td>1</td><td>0</td><td>1</td><td>2</td><td>2</td></tr>\n",
       "\t<tr><th scope=row>3</th><td>b731703d813525598f2c5619acaf713f267fec1074cc8dedf5c424873f0dc10a</td><td>471c3ac6818d8852b0bbfb82783a90d1</td><td>56af9059</td><td>6</td><td>2023-02-15</td><td>36</td><td>afghanistan           </td><td>Male  </td><td>0</td><td>0</td><td>0</td><td>0</td><td>3</td><td>3</td></tr>\n",
       "\t<tr><th scope=row>4</th><td>7cc766e9de02dbfe21de38e2586b424b4fce3dbda7e35969791b0308973da466</td><td>471c3ac6818d8852b0bbfb82783a90d1</td><td>56af9059</td><td>6</td><td>2023-02-15</td><td>36</td><td>afghanistan           </td><td>Female</td><td>0</td><td>0</td><td>0</td><td>0</td><td>3</td><td>3</td></tr>\n",
       "\t<tr><th scope=row>5</th><td>ec32d62b6729a36ce96a4f80435a4fb2b916aaaa83199da51190793ef22f86bf</td><td>4ebd2d38396e5de256877b762172507e</td><td>b5b999a4</td><td>1</td><td>2023-02-15</td><td>31</td><td>burma                 </td><td>Female</td><td>0</td><td>0</td><td>1</td><td>0</td><td>4</td><td>4</td></tr>\n",
       "</tbody>\n",
       "</table>\n"
      ],
      "text/latex": [
       "A data.frame: 5 x 14\n",
       "\\begin{tabular}{r|llllllllllllll}\n",
       "  & person\\_id & case\\_id & arrival\\_location\\_id & case\\_size & ArrivalDate & arrival\\_age & Nationality\\_norm & sex & free\\_case & hard\\_singles\\_male & hard\\_singles\\_female & hard\\_spf & case\\_placement\\_order & arrival\\_location\\_order\\\\\n",
       "  & <chr> & <chr> & <chr> & <dbl> & <date> & <dbl> & <fct> & <fct> & <dbl> & <dbl> & <dbl> & <dbl> & <int> & <int>\\\\\n",
       "\\hline\n",
       "\t1 & c9f1f43713aec0031d0aea40e352dcb3e0e3996b02b85cb586c06892bdf471f9 & 1d31071c3708db8e408bc7db26f95b2c & 88311c24 & 1 & 2023-02-15 & 20 & burma                  & Male   & 1 & 1 & 0 & 0 & 1 & 1\\\\\n",
       "\t2 & ce9ba115156522cc5bb0e49376d0e14c6466824c55bf74f5ad1fee0b3f4cfde4 & 3c01df8e5923ad49c08fe61e41972e32 & 2cc2591c & 2 & 2023-02-15 & 28 & centralafricanrepublic & Female & 1 & 1 & 0 & 1 & 2 & 2\\\\\n",
       "\t3 & b731703d813525598f2c5619acaf713f267fec1074cc8dedf5c424873f0dc10a & 471c3ac6818d8852b0bbfb82783a90d1 & 56af9059 & 6 & 2023-02-15 & 36 & afghanistan            & Male   & 0 & 0 & 0 & 0 & 3 & 3\\\\\n",
       "\t4 & 7cc766e9de02dbfe21de38e2586b424b4fce3dbda7e35969791b0308973da466 & 471c3ac6818d8852b0bbfb82783a90d1 & 56af9059 & 6 & 2023-02-15 & 36 & afghanistan            & Female & 0 & 0 & 0 & 0 & 3 & 3\\\\\n",
       "\t5 & ec32d62b6729a36ce96a4f80435a4fb2b916aaaa83199da51190793ef22f86bf & 4ebd2d38396e5de256877b762172507e & b5b999a4 & 1 & 2023-02-15 & 31 & burma                  & Female & 0 & 0 & 1 & 0 & 4 & 4\\\\\n",
       "\\end{tabular}\n"
      ],
      "text/markdown": [
       "\n",
       "A data.frame: 5 x 14\n",
       "\n",
       "| <!--/--> | person_id &lt;chr&gt; | case_id &lt;chr&gt; | arrival_location_id &lt;chr&gt; | case_size &lt;dbl&gt; | ArrivalDate &lt;date&gt; | arrival_age &lt;dbl&gt; | Nationality_norm &lt;fct&gt; | sex &lt;fct&gt; | free_case &lt;dbl&gt; | hard_singles_male &lt;dbl&gt; | hard_singles_female &lt;dbl&gt; | hard_spf &lt;dbl&gt; | case_placement_order &lt;int&gt; | arrival_location_order &lt;int&gt; |\n",
       "|---|---|---|---|---|---|---|---|---|---|---|---|---|---|---|\n",
       "| 1 | c9f1f43713aec0031d0aea40e352dcb3e0e3996b02b85cb586c06892bdf471f9 | 1d31071c3708db8e408bc7db26f95b2c | 88311c24 | 1 | 2023-02-15 | 20 | burma                  | Male   | 1 | 1 | 0 | 0 | 1 | 1 |\n",
       "| 2 | ce9ba115156522cc5bb0e49376d0e14c6466824c55bf74f5ad1fee0b3f4cfde4 | 3c01df8e5923ad49c08fe61e41972e32 | 2cc2591c | 2 | 2023-02-15 | 28 | centralafricanrepublic | Female | 1 | 1 | 0 | 1 | 2 | 2 |\n",
       "| 3 | b731703d813525598f2c5619acaf713f267fec1074cc8dedf5c424873f0dc10a | 471c3ac6818d8852b0bbfb82783a90d1 | 56af9059 | 6 | 2023-02-15 | 36 | afghanistan            | Male   | 0 | 0 | 0 | 0 | 3 | 3 |\n",
       "| 4 | 7cc766e9de02dbfe21de38e2586b424b4fce3dbda7e35969791b0308973da466 | 471c3ac6818d8852b0bbfb82783a90d1 | 56af9059 | 6 | 2023-02-15 | 36 | afghanistan            | Female | 0 | 0 | 0 | 0 | 3 | 3 |\n",
       "| 5 | ec32d62b6729a36ce96a4f80435a4fb2b916aaaa83199da51190793ef22f86bf | 4ebd2d38396e5de256877b762172507e | b5b999a4 | 1 | 2023-02-15 | 31 | burma                  | Female | 0 | 0 | 1 | 0 | 4 | 4 |\n",
       "\n"
      ],
      "text/plain": [
       "  person_id                                                       \n",
       "1 c9f1f43713aec0031d0aea40e352dcb3e0e3996b02b85cb586c06892bdf471f9\n",
       "2 ce9ba115156522cc5bb0e49376d0e14c6466824c55bf74f5ad1fee0b3f4cfde4\n",
       "3 b731703d813525598f2c5619acaf713f267fec1074cc8dedf5c424873f0dc10a\n",
       "4 7cc766e9de02dbfe21de38e2586b424b4fce3dbda7e35969791b0308973da466\n",
       "5 ec32d62b6729a36ce96a4f80435a4fb2b916aaaa83199da51190793ef22f86bf\n",
       "  case_id                          arrival_location_id case_size ArrivalDate\n",
       "1 1d31071c3708db8e408bc7db26f95b2c 88311c24            1         2023-02-15 \n",
       "2 3c01df8e5923ad49c08fe61e41972e32 2cc2591c            2         2023-02-15 \n",
       "3 471c3ac6818d8852b0bbfb82783a90d1 56af9059            6         2023-02-15 \n",
       "4 471c3ac6818d8852b0bbfb82783a90d1 56af9059            6         2023-02-15 \n",
       "5 4ebd2d38396e5de256877b762172507e b5b999a4            1         2023-02-15 \n",
       "  arrival_age Nationality_norm       sex    free_case hard_singles_male\n",
       "1 20          burma                  Male   1         1                \n",
       "2 28          centralafricanrepublic Female 1         1                \n",
       "3 36          afghanistan            Male   0         0                \n",
       "4 36          afghanistan            Female 0         0                \n",
       "5 31          burma                  Female 0         0                \n",
       "  hard_singles_female hard_spf case_placement_order arrival_location_order\n",
       "1 0                   0        1                    1                     \n",
       "2 0                   1        2                    2                     \n",
       "3 0                   0        3                    3                     \n",
       "4 0                   0        3                    3                     \n",
       "5 1                   0        4                    4                     "
      ]
     },
     "metadata": {},
     "output_type": "display_data"
    }
   ],
   "source": [
    "head(data, 5)"
   ]
  },
  {
   "cell_type": "markdown",
   "metadata": {},
   "source": [
    "To find each location's capacity quota - we need to find the sum of case_size per unique case_id for each location"
   ]
  },
  {
   "cell_type": "code",
   "execution_count": 3,
   "metadata": {
    "vscode": {
     "languageId": "r"
    }
   },
   "outputs": [
    {
     "name": "stderr",
     "output_type": "stream",
     "text": [
      "\n",
      "Attaching package: 'dplyr'\n",
      "\n",
      "\n",
      "The following objects are masked from 'package:stats':\n",
      "\n",
      "    filter, lag\n",
      "\n",
      "\n",
      "The following objects are masked from 'package:base':\n",
      "\n",
      "    intersect, setdiff, setequal, union\n",
      "\n",
      "\n"
     ]
    }
   ],
   "source": [
    "library(dplyr)"
   ]
  },
  {
   "cell_type": "code",
   "execution_count": 4,
   "metadata": {
    "vscode": {
     "languageId": "r"
    }
   },
   "outputs": [
    {
     "name": "stderr",
     "output_type": "stream",
     "text": [
      "\u001b[1m\u001b[22m`summarise()` has grouped output by 'arrival_location_id'. You can override\n",
      "using the `.groups` argument.\n"
     ]
    },
    {
     "data": {
      "text/html": [
       "<table class=\"dataframe\">\n",
       "<caption>A tibble: 10 x 2</caption>\n",
       "<thead>\n",
       "\t<tr><th scope=col>arrival_location_id</th><th scope=col>capacity_quota</th></tr>\n",
       "\t<tr><th scope=col>&lt;chr&gt;</th><th scope=col>&lt;dbl&gt;</th></tr>\n",
       "</thead>\n",
       "<tbody>\n",
       "\t<tr><td>0a63bef4</td><td> 57</td></tr>\n",
       "\t<tr><td>0a91d577</td><td> 34</td></tr>\n",
       "\t<tr><td>0b8769f2</td><td> 32</td></tr>\n",
       "\t<tr><td>11b8b71f</td><td> 65</td></tr>\n",
       "\t<tr><td>18d79a06</td><td> 47</td></tr>\n",
       "\t<tr><td>19334d00</td><td> 93</td></tr>\n",
       "\t<tr><td>19c12683</td><td>172</td></tr>\n",
       "\t<tr><td>2449a303</td><td>103</td></tr>\n",
       "\t<tr><td>2c30329f</td><td> 52</td></tr>\n",
       "\t<tr><td>2cc2591c</td><td>104</td></tr>\n",
       "</tbody>\n",
       "</table>\n"
      ],
      "text/latex": [
       "A tibble: 10 x 2\n",
       "\\begin{tabular}{ll}\n",
       " arrival\\_location\\_id & capacity\\_quota\\\\\n",
       " <chr> & <dbl>\\\\\n",
       "\\hline\n",
       "\t 0a63bef4 &  57\\\\\n",
       "\t 0a91d577 &  34\\\\\n",
       "\t 0b8769f2 &  32\\\\\n",
       "\t 11b8b71f &  65\\\\\n",
       "\t 18d79a06 &  47\\\\\n",
       "\t 19334d00 &  93\\\\\n",
       "\t 19c12683 & 172\\\\\n",
       "\t 2449a303 & 103\\\\\n",
       "\t 2c30329f &  52\\\\\n",
       "\t 2cc2591c & 104\\\\\n",
       "\\end{tabular}\n"
      ],
      "text/markdown": [
       "\n",
       "A tibble: 10 x 2\n",
       "\n",
       "| arrival_location_id &lt;chr&gt; | capacity_quota &lt;dbl&gt; |\n",
       "|---|---|\n",
       "| 0a63bef4 |  57 |\n",
       "| 0a91d577 |  34 |\n",
       "| 0b8769f2 |  32 |\n",
       "| 11b8b71f |  65 |\n",
       "| 18d79a06 |  47 |\n",
       "| 19334d00 |  93 |\n",
       "| 19c12683 | 172 |\n",
       "| 2449a303 | 103 |\n",
       "| 2c30329f |  52 |\n",
       "| 2cc2591c | 104 |\n",
       "\n"
      ],
      "text/plain": [
       "   arrival_location_id capacity_quota\n",
       "1  0a63bef4             57           \n",
       "2  0a91d577             34           \n",
       "3  0b8769f2             32           \n",
       "4  11b8b71f             65           \n",
       "5  18d79a06             47           \n",
       "6  19334d00             93           \n",
       "7  19c12683            172           \n",
       "8  2449a303            103           \n",
       "9  2c30329f             52           \n",
       "10 2cc2591c            104           "
      ]
     },
     "metadata": {},
     "output_type": "display_data"
    }
   ],
   "source": [
    "# total capacity of each arrival location\n",
    "\n",
    "#group by arrival location and case id, and since they are repeated within a case, we take either avg/min/max of case size\n",
    "# then group by arrival location and sum the case size to get the total capacity of each arrival location\n",
    "#(after group by we need to do an aggregate function which in this case is min/max/avg) \n",
    "\n",
    "location_capacity <- data %>% \n",
    "    group_by(arrival_location_id, case_id) %>% \n",
    "    summarise(sum_case_size= mean(case_size)) %>%\n",
    "    group_by(arrival_location_id) %>% \n",
    "    summarise(capacity_quota = sum(sum_case_size))\n",
    "    \n",
    "head(location_capacity, 10)"
   ]
  },
  {
   "cell_type": "code",
   "execution_count": 5,
   "metadata": {
    "vscode": {
     "languageId": "r"
    }
   },
   "outputs": [
    {
     "data": {
      "text/html": [
       "3392"
      ],
      "text/latex": [
       "3392"
      ],
      "text/markdown": [
       "3392"
      ],
      "text/plain": [
       "[1] 3392"
      ]
     },
     "metadata": {},
     "output_type": "display_data"
    }
   ],
   "source": [
    "#find the total capacity \n",
    "total_capacity <- sum(location_capacity$capacity_quota)\n",
    "total_capacity"
   ]
  },
  {
   "cell_type": "code",
   "execution_count": 6,
   "metadata": {
    "vscode": {
     "languageId": "r"
    }
   },
   "outputs": [
    {
     "data": {
      "text/html": [
       "<table class=\"dataframe\">\n",
       "<caption>A tibble: 5 x 3</caption>\n",
       "<thead>\n",
       "\t<tr><th scope=col>arrival_location_id</th><th scope=col>capacity_quota</th><th scope=col>capacity_rate</th></tr>\n",
       "\t<tr><th scope=col>&lt;chr&gt;</th><th scope=col>&lt;dbl&gt;</th><th scope=col>&lt;dbl&gt;</th></tr>\n",
       "</thead>\n",
       "<tbody>\n",
       "\t<tr><td>0a63bef4</td><td>57</td><td> 59.50877</td></tr>\n",
       "\t<tr><td>0a91d577</td><td>34</td><td> 99.76471</td></tr>\n",
       "\t<tr><td>0b8769f2</td><td>32</td><td>106.00000</td></tr>\n",
       "\t<tr><td>11b8b71f</td><td>65</td><td> 52.18462</td></tr>\n",
       "\t<tr><td>18d79a06</td><td>47</td><td> 72.17021</td></tr>\n",
       "</tbody>\n",
       "</table>\n"
      ],
      "text/latex": [
       "A tibble: 5 x 3\n",
       "\\begin{tabular}{lll}\n",
       " arrival\\_location\\_id & capacity\\_quota & capacity\\_rate\\\\\n",
       " <chr> & <dbl> & <dbl>\\\\\n",
       "\\hline\n",
       "\t 0a63bef4 & 57 &  59.50877\\\\\n",
       "\t 0a91d577 & 34 &  99.76471\\\\\n",
       "\t 0b8769f2 & 32 & 106.00000\\\\\n",
       "\t 11b8b71f & 65 &  52.18462\\\\\n",
       "\t 18d79a06 & 47 &  72.17021\\\\\n",
       "\\end{tabular}\n"
      ],
      "text/markdown": [
       "\n",
       "A tibble: 5 x 3\n",
       "\n",
       "| arrival_location_id &lt;chr&gt; | capacity_quota &lt;dbl&gt; | capacity_rate &lt;dbl&gt; |\n",
       "|---|---|---|\n",
       "| 0a63bef4 | 57 |  59.50877 |\n",
       "| 0a91d577 | 34 |  99.76471 |\n",
       "| 0b8769f2 | 32 | 106.00000 |\n",
       "| 11b8b71f | 65 |  52.18462 |\n",
       "| 18d79a06 | 47 |  72.17021 |\n",
       "\n"
      ],
      "text/plain": [
       "  arrival_location_id capacity_quota capacity_rate\n",
       "1 0a63bef4            57              59.50877    \n",
       "2 0a91d577            34              99.76471    \n",
       "3 0b8769f2            32             106.00000    \n",
       "4 11b8b71f            65              52.18462    \n",
       "5 18d79a06            47              72.17021    "
      ]
     },
     "metadata": {},
     "output_type": "display_data"
    }
   ],
   "source": [
    "#calculating capcity rate for each arrival location - cacpacity rate = capacity_quota/total_capacity\n",
    "location_capacity <- location_capacity %>%\n",
    "                     mutate(capacity_rate = total_capacity/capacity_quota)\n",
    "                     \n",
    "head(location_capacity, 5)"
   ]
  },
  {
   "cell_type": "markdown",
   "metadata": {},
   "source": [
    "### Part A.  - average capacity across all locations\n"
   ]
  },
  {
   "cell_type": "code",
   "execution_count": 7,
   "metadata": {
    "vscode": {
     "languageId": "r"
    }
   },
   "outputs": [
    {
     "data": {
      "text/html": [
       "67.84"
      ],
      "text/latex": [
       "67.84"
      ],
      "text/markdown": [
       "67.84"
      ],
      "text/plain": [
       "[1] 67.84"
      ]
     },
     "metadata": {},
     "output_type": "display_data"
    }
   ],
   "source": [
    "# average capacity across all locations \n",
    "avg_capacity <- mean(location_capacity$capacity_quota)\n",
    "avg_capacity"
   ]
  },
  {
   "cell_type": "markdown",
   "metadata": {},
   "source": [
    " <b>The Average capcity across all locations is 67.84 <b>"
   ]
  },
  {
   "cell_type": "markdown",
   "metadata": {},
   "source": [
    "### Part B. - average rate across all locations"
   ]
  },
  {
   "cell_type": "code",
   "execution_count": 8,
   "metadata": {
    "vscode": {
     "languageId": "r"
    }
   },
   "outputs": [
    {
     "data": {
      "text/html": [
       "90.5684251732756"
      ],
      "text/latex": [
       "90.5684251732756"
      ],
      "text/markdown": [
       "90.5684251732756"
      ],
      "text/plain": [
       "[1] 90.56843"
      ]
     },
     "metadata": {},
     "output_type": "display_data"
    }
   ],
   "source": [
    "# average capcity rate across all locations\n",
    "avg_capacity_rate <- mean(location_capacity$capacity_rate)\n",
    "avg_capacity_rate"
   ]
  },
  {
   "cell_type": "markdown",
   "metadata": {},
   "source": [
    "<b>The Average capcity rate across all locations is 90.56<b>"
   ]
  },
  {
   "cell_type": "markdown",
   "metadata": {},
   "source": [
    "## Question 2 - Eligibility Constraints"
   ]
  },
  {
   "cell_type": "markdown",
   "metadata": {},
   "source": [
    "APPROACH\n",
    "\n",
    "1. Join nationalities and casetypes dataframes to get the constraints of each arrival_location (i.e list of countries they can accept, and case characteristics)\n",
    "2. For each case, get a list of nationalities and and list of case constraints (SPF, SingleMale, SingleFemale, etc)\n",
    "3. Do a cross join of the two, and check the constraints. \n"
   ]
  },
  {
   "cell_type": "code",
   "execution_count": 9,
   "metadata": {
    "vscode": {
     "languageId": "r"
    }
   },
   "outputs": [
    {
     "data": {
      "text/html": [
       "<table class=\"dataframe\">\n",
       "<caption>A data.frame: 5 x 2</caption>\n",
       "<thead>\n",
       "\t<tr><th></th><th scope=col>arrival_location_id</th><th scope=col>Nationality_norm</th></tr>\n",
       "\t<tr><th></th><th scope=col>&lt;chr&gt;</th><th scope=col>&lt;chr&gt;</th></tr>\n",
       "</thead>\n",
       "<tbody>\n",
       "\t<tr><th scope=row>1</th><td>91350746</td><td>afghanistan</td></tr>\n",
       "\t<tr><th scope=row>2</th><td>91350746</td><td>burma      </td></tr>\n",
       "\t<tr><th scope=row>3</th><td>91350746</td><td>demrepcongo</td></tr>\n",
       "\t<tr><th scope=row>4</th><td>91350746</td><td>colombia   </td></tr>\n",
       "\t<tr><th scope=row>5</th><td>91350746</td><td>cuba       </td></tr>\n",
       "</tbody>\n",
       "</table>\n"
      ],
      "text/latex": [
       "A data.frame: 5 x 2\n",
       "\\begin{tabular}{r|ll}\n",
       "  & arrival\\_location\\_id & Nationality\\_norm\\\\\n",
       "  & <chr> & <chr>\\\\\n",
       "\\hline\n",
       "\t1 & 91350746 & afghanistan\\\\\n",
       "\t2 & 91350746 & burma      \\\\\n",
       "\t3 & 91350746 & demrepcongo\\\\\n",
       "\t4 & 91350746 & colombia   \\\\\n",
       "\t5 & 91350746 & cuba       \\\\\n",
       "\\end{tabular}\n"
      ],
      "text/markdown": [
       "\n",
       "A data.frame: 5 x 2\n",
       "\n",
       "| <!--/--> | arrival_location_id &lt;chr&gt; | Nationality_norm &lt;chr&gt; |\n",
       "|---|---|---|\n",
       "| 1 | 91350746 | afghanistan |\n",
       "| 2 | 91350746 | burma       |\n",
       "| 3 | 91350746 | demrepcongo |\n",
       "| 4 | 91350746 | colombia    |\n",
       "| 5 | 91350746 | cuba        |\n",
       "\n"
      ],
      "text/plain": [
       "  arrival_location_id Nationality_norm\n",
       "1 91350746            afghanistan     \n",
       "2 91350746            burma           \n",
       "3 91350746            demrepcongo     \n",
       "4 91350746            colombia        \n",
       "5 91350746            cuba            "
      ]
     },
     "metadata": {},
     "output_type": "display_data"
    },
    {
     "data": {
      "text/html": [
       "<table class=\"dataframe\">\n",
       "<caption>A data.frame: 5 x 3</caption>\n",
       "<thead>\n",
       "\t<tr><th></th><th scope=col>arrival_location_id</th><th scope=col>CaseType</th><th scope=col>Accepted</th></tr>\n",
       "\t<tr><th></th><th scope=col>&lt;chr&gt;</th><th scope=col>&lt;chr&gt;</th><th scope=col>&lt;chr&gt;</th></tr>\n",
       "</thead>\n",
       "<tbody>\n",
       "\t<tr><th scope=row>1</th><td>91350746</td><td>SingleIndividualFemale</td><td>Yes</td></tr>\n",
       "\t<tr><th scope=row>2</th><td>91350746</td><td>SingleIndividualMale  </td><td>Yes</td></tr>\n",
       "\t<tr><th scope=row>3</th><td>91350746</td><td>SingleParentFamilies  </td><td>Yes</td></tr>\n",
       "\t<tr><th scope=row>4</th><td>3e767dee</td><td>SingleIndividualFemale</td><td>Yes</td></tr>\n",
       "\t<tr><th scope=row>5</th><td>3e767dee</td><td>SingleIndividualMale  </td><td>Yes</td></tr>\n",
       "</tbody>\n",
       "</table>\n"
      ],
      "text/latex": [
       "A data.frame: 5 x 3\n",
       "\\begin{tabular}{r|lll}\n",
       "  & arrival\\_location\\_id & CaseType & Accepted\\\\\n",
       "  & <chr> & <chr> & <chr>\\\\\n",
       "\\hline\n",
       "\t1 & 91350746 & SingleIndividualFemale & Yes\\\\\n",
       "\t2 & 91350746 & SingleIndividualMale   & Yes\\\\\n",
       "\t3 & 91350746 & SingleParentFamilies   & Yes\\\\\n",
       "\t4 & 3e767dee & SingleIndividualFemale & Yes\\\\\n",
       "\t5 & 3e767dee & SingleIndividualMale   & Yes\\\\\n",
       "\\end{tabular}\n"
      ],
      "text/markdown": [
       "\n",
       "A data.frame: 5 x 3\n",
       "\n",
       "| <!--/--> | arrival_location_id &lt;chr&gt; | CaseType &lt;chr&gt; | Accepted &lt;chr&gt; |\n",
       "|---|---|---|---|\n",
       "| 1 | 91350746 | SingleIndividualFemale | Yes |\n",
       "| 2 | 91350746 | SingleIndividualMale   | Yes |\n",
       "| 3 | 91350746 | SingleParentFamilies   | Yes |\n",
       "| 4 | 3e767dee | SingleIndividualFemale | Yes |\n",
       "| 5 | 3e767dee | SingleIndividualMale   | Yes |\n",
       "\n"
      ],
      "text/plain": [
       "  arrival_location_id CaseType               Accepted\n",
       "1 91350746            SingleIndividualFemale Yes     \n",
       "2 91350746            SingleIndividualMale   Yes     \n",
       "3 91350746            SingleParentFamilies   Yes     \n",
       "4 3e767dee            SingleIndividualFemale Yes     \n",
       "5 3e767dee            SingleIndividualMale   Yes     "
      ]
     },
     "metadata": {},
     "output_type": "display_data"
    }
   ],
   "source": [
    "nationality <- read.csv(\"data/AFF_Nationality.csv\")\n",
    "head(nationality, 5)\n",
    "\n",
    "casetype <- read.csv(\"data/AFF_CaseType.csv\")\n",
    "head(casetype, 5)"
   ]
  },
  {
   "cell_type": "code",
   "execution_count": 10,
   "metadata": {
    "vscode": {
     "languageId": "r"
    }
   },
   "outputs": [
    {
     "data": {
      "text/html": [
       "<table class=\"dataframe\">\n",
       "<caption>A data.frame: 1 x 1</caption>\n",
       "<thead>\n",
       "\t<tr><th scope=col>n_distinct(arrival_location_id)</th></tr>\n",
       "\t<tr><th scope=col>&lt;int&gt;</th></tr>\n",
       "</thead>\n",
       "<tbody>\n",
       "\t<tr><td>45</td></tr>\n",
       "</tbody>\n",
       "</table>\n"
      ],
      "text/latex": [
       "A data.frame: 1 x 1\n",
       "\\begin{tabular}{l}\n",
       " n\\_distinct(arrival\\_location\\_id)\\\\\n",
       " <int>\\\\\n",
       "\\hline\n",
       "\t 45\\\\\n",
       "\\end{tabular}\n"
      ],
      "text/markdown": [
       "\n",
       "A data.frame: 1 x 1\n",
       "\n",
       "| n_distinct(arrival_location_id) &lt;int&gt; |\n",
       "|---|\n",
       "| 45 |\n",
       "\n"
      ],
      "text/plain": [
       "  n_distinct(arrival_location_id)\n",
       "1 45                             "
      ]
     },
     "metadata": {},
     "output_type": "display_data"
    },
    {
     "data": {
      "text/html": [
       "<table class=\"dataframe\">\n",
       "<caption>A data.frame: 1 x 1</caption>\n",
       "<thead>\n",
       "\t<tr><th scope=col>n_distinct(arrival_location_id)</th></tr>\n",
       "\t<tr><th scope=col>&lt;int&gt;</th></tr>\n",
       "</thead>\n",
       "<tbody>\n",
       "\t<tr><td>50</td></tr>\n",
       "</tbody>\n",
       "</table>\n"
      ],
      "text/latex": [
       "A data.frame: 1 x 1\n",
       "\\begin{tabular}{l}\n",
       " n\\_distinct(arrival\\_location\\_id)\\\\\n",
       " <int>\\\\\n",
       "\\hline\n",
       "\t 50\\\\\n",
       "\\end{tabular}\n"
      ],
      "text/markdown": [
       "\n",
       "A data.frame: 1 x 1\n",
       "\n",
       "| n_distinct(arrival_location_id) &lt;int&gt; |\n",
       "|---|\n",
       "| 50 |\n",
       "\n"
      ],
      "text/plain": [
       "  n_distinct(arrival_location_id)\n",
       "1 50                             "
      ]
     },
     "metadata": {},
     "output_type": "display_data"
    }
   ],
   "source": [
    "#find number of unique arrival_location_id in casetype data with accepted cases\n",
    "\n",
    "casetype %>% filter (Accepted == 'Yes') %>% summarise(n_distinct(arrival_location_id))\n",
    "# length(unique(casetype$arrival_location_id))\n",
    "\n",
    "\n",
    "#find number of unique arrival_location_id in casetype data\n",
    "casetype %>% summarise(n_distinct(arrival_location_id))\n"
   ]
  },
  {
   "cell_type": "markdown",
   "metadata": {},
   "source": [
    "#### Locations that cannot accomodate any constraints"
   ]
  },
  {
   "cell_type": "code",
   "execution_count": 11,
   "metadata": {
    "vscode": {
     "languageId": "r"
    }
   },
   "outputs": [
    {
     "data": {
      "text/html": [
       "<table class=\"dataframe\">\n",
       "<caption>A tibble: 5 x 2</caption>\n",
       "<thead>\n",
       "\t<tr><th scope=col>arrival_location_id</th><th scope=col>sum_not_accepted</th></tr>\n",
       "\t<tr><th scope=col>&lt;chr&gt;</th><th scope=col>&lt;int&gt;</th></tr>\n",
       "</thead>\n",
       "<tbody>\n",
       "\t<tr><td>2449a303</td><td>3</td></tr>\n",
       "\t<tr><td>547082d0</td><td>3</td></tr>\n",
       "\t<tr><td>a61b01d3</td><td>3</td></tr>\n",
       "\t<tr><td>cd0b4268</td><td>3</td></tr>\n",
       "\t<tr><td>cdf929eb</td><td>3</td></tr>\n",
       "</tbody>\n",
       "</table>\n"
      ],
      "text/latex": [
       "A tibble: 5 x 2\n",
       "\\begin{tabular}{ll}\n",
       " arrival\\_location\\_id & sum\\_not\\_accepted\\\\\n",
       " <chr> & <int>\\\\\n",
       "\\hline\n",
       "\t 2449a303 & 3\\\\\n",
       "\t 547082d0 & 3\\\\\n",
       "\t a61b01d3 & 3\\\\\n",
       "\t cd0b4268 & 3\\\\\n",
       "\t cdf929eb & 3\\\\\n",
       "\\end{tabular}\n"
      ],
      "text/markdown": [
       "\n",
       "A tibble: 5 x 2\n",
       "\n",
       "| arrival_location_id &lt;chr&gt; | sum_not_accepted &lt;int&gt; |\n",
       "|---|---|\n",
       "| 2449a303 | 3 |\n",
       "| 547082d0 | 3 |\n",
       "| a61b01d3 | 3 |\n",
       "| cd0b4268 | 3 |\n",
       "| cdf929eb | 3 |\n",
       "\n"
      ],
      "text/plain": [
       "  arrival_location_id sum_not_accepted\n",
       "1 2449a303            3               \n",
       "2 547082d0            3               \n",
       "3 a61b01d3            3               \n",
       "4 cd0b4268            3               \n",
       "5 cdf929eb            3               "
      ]
     },
     "metadata": {},
     "output_type": "display_data"
    },
    {
     "data": {
      "text/html": [
       "<table class=\"dataframe\">\n",
       "<caption>A data.frame: 5 x 2</caption>\n",
       "<thead>\n",
       "\t<tr><th scope=col>arrival_location_id</th><th scope=col>unique_casetype_l</th></tr>\n",
       "\t<tr><th scope=col>&lt;chr&gt;</th><th scope=col>&lt;list&gt;</th></tr>\n",
       "</thead>\n",
       "<tbody>\n",
       "\t<tr><td>2449a303</td><td></td></tr>\n",
       "\t<tr><td>547082d0</td><td></td></tr>\n",
       "\t<tr><td>a61b01d3</td><td></td></tr>\n",
       "\t<tr><td>cd0b4268</td><td></td></tr>\n",
       "\t<tr><td>cdf929eb</td><td></td></tr>\n",
       "</tbody>\n",
       "</table>\n"
      ],
      "text/latex": [
       "A data.frame: 5 x 2\n",
       "\\begin{tabular}{ll}\n",
       " arrival\\_location\\_id & unique\\_casetype\\_l\\\\\n",
       " <chr> & <list>\\\\\n",
       "\\hline\n",
       "\t 2449a303 & \\\\\n",
       "\t 547082d0 & \\\\\n",
       "\t a61b01d3 & \\\\\n",
       "\t cd0b4268 & \\\\\n",
       "\t cdf929eb & \\\\\n",
       "\\end{tabular}\n"
      ],
      "text/markdown": [
       "\n",
       "A data.frame: 5 x 2\n",
       "\n",
       "| arrival_location_id &lt;chr&gt; | unique_casetype_l &lt;list&gt; |\n",
       "|---|---|\n",
       "| 2449a303 | <!----> |\n",
       "| 547082d0 | <!----> |\n",
       "| a61b01d3 | <!----> |\n",
       "| cd0b4268 | <!----> |\n",
       "| cdf929eb | <!----> |\n",
       "\n"
      ],
      "text/plain": [
       "  arrival_location_id unique_casetype_l\n",
       "1 2449a303                             \n",
       "2 547082d0                             \n",
       "3 a61b01d3                             \n",
       "4 cd0b4268                             \n",
       "5 cdf929eb                             "
      ]
     },
     "metadata": {},
     "output_type": "display_data"
    }
   ],
   "source": [
    "## finding locations that can't accomodate any constraints - group by arrival_location_id and find the sum if 'No' in Accepted column\n",
    "xdf = casetype %>% \n",
    "      filter (Accepted == 'No') %>%\n",
    "      group_by(arrival_location_id) %>%\n",
    "      summarise(sum_not_accepted = sum(Accepted == 'No')) %>% \n",
    "      filter(sum_not_accepted == 3)\n",
    "\n",
    "xdf\n",
    "\n",
    "\n",
    "\n",
    "locations_with_no_constraint_accom <- data.frame(\n",
    "  arrival_location_id = xdf$arrival_location_id,\n",
    "  unique_casetype_l = character(length = nrow(xdf))\n",
    ")\n",
    "\n",
    "#change unique_casetype_l to a list\n",
    "locations_with_no_constraint_accom$unique_casetype_l <-\n",
    " as.list(locations_with_no_constraint_accom$unique_casetype_l)\n",
    "\n",
    "\n",
    "locations_with_no_constraint_accom  "
   ]
  },
  {
   "cell_type": "code",
   "execution_count": 12,
   "metadata": {
    "vscode": {
     "languageId": "r"
    }
   },
   "outputs": [
    {
     "data": {
      "text/html": [
       "<table class=\"dataframe\">\n",
       "<caption>A data.frame: 1 x 1</caption>\n",
       "<thead>\n",
       "\t<tr><th scope=col>n_distinct(case_id)</th></tr>\n",
       "\t<tr><th scope=col>&lt;int&gt;</th></tr>\n",
       "</thead>\n",
       "<tbody>\n",
       "\t<tr><td>211</td></tr>\n",
       "</tbody>\n",
       "</table>\n"
      ],
      "text/latex": [
       "A data.frame: 1 x 1\n",
       "\\begin{tabular}{l}\n",
       " n\\_distinct(case\\_id)\\\\\n",
       " <int>\\\\\n",
       "\\hline\n",
       "\t 211\\\\\n",
       "\\end{tabular}\n"
      ],
      "text/markdown": [
       "\n",
       "A data.frame: 1 x 1\n",
       "\n",
       "| n_distinct(case_id) &lt;int&gt; |\n",
       "|---|\n",
       "| 211 |\n",
       "\n"
      ],
      "text/plain": [
       "  n_distinct(case_id)\n",
       "1 211                "
      ]
     },
     "metadata": {},
     "output_type": "display_data"
    }
   ],
   "source": [
    "## focusing only on free cases\n",
    "data_free_cases <- data %>% filter(free_case == 1)\n",
    "\n",
    "#find distinct case_id in data_free_cases\n",
    "data_free_cases %>% summarise(n_distinct(case_id))"
   ]
  },
  {
   "cell_type": "code",
   "execution_count": 13,
   "metadata": {
    "vscode": {
     "languageId": "r"
    }
   },
   "outputs": [
    {
     "data": {
      "text/html": [
       "<table class=\"dataframe\">\n",
       "<caption>A data.frame: 1 x 1</caption>\n",
       "<thead>\n",
       "\t<tr><th scope=col>n_distinct(case_id)</th></tr>\n",
       "\t<tr><th scope=col>&lt;int&gt;</th></tr>\n",
       "</thead>\n",
       "<tbody>\n",
       "\t<tr><td>109</td></tr>\n",
       "</tbody>\n",
       "</table>\n"
      ],
      "text/latex": [
       "A data.frame: 1 x 1\n",
       "\\begin{tabular}{l}\n",
       " n\\_distinct(case\\_id)\\\\\n",
       " <int>\\\\\n",
       "\\hline\n",
       "\t 109\\\\\n",
       "\\end{tabular}\n"
      ],
      "text/markdown": [
       "\n",
       "A data.frame: 1 x 1\n",
       "\n",
       "| n_distinct(case_id) &lt;int&gt; |\n",
       "|---|\n",
       "| 109 |\n",
       "\n"
      ],
      "text/plain": [
       "  n_distinct(case_id)\n",
       "1 109                "
      ]
     },
     "metadata": {},
     "output_type": "display_data"
    }
   ],
   "source": [
    "##checking the free cases that have no constraints\n",
    "\n",
    "data_free_cases %>% \n",
    "    filter(hard_singles_male == 0 & hard_singles_female ==0 & hard_spf ==0) %>%\n",
    "    summarise(n_distinct(case_id))"
   ]
  },
  {
   "cell_type": "code",
   "execution_count": 14,
   "metadata": {
    "vscode": {
     "languageId": "r"
    }
   },
   "outputs": [
    {
     "data": {
      "text/html": [
       "<table class=\"dataframe\">\n",
       "<caption>A tibble: 5 x 2</caption>\n",
       "<thead>\n",
       "\t<tr><th scope=col>case_id</th><th scope=col>unique_nationality_count</th></tr>\n",
       "\t<tr><th scope=col>&lt;chr&gt;</th><th scope=col>&lt;int&gt;</th></tr>\n",
       "</thead>\n",
       "<tbody>\n",
       "\t<tr><td>127c782ae14732909574ab9bc3be5f74</td><td>2</td></tr>\n",
       "\t<tr><td>47e2cf5d31fbf875f2e85521a1daf3a0</td><td>2</td></tr>\n",
       "\t<tr><td>4947c3e4172599b258186dea16422062</td><td>2</td></tr>\n",
       "\t<tr><td>87253f40d2bb0828aebd58d5dacdc64e</td><td>2</td></tr>\n",
       "\t<tr><td>a04a1232dbe0004c3d262b8f50e68bc9</td><td>2</td></tr>\n",
       "</tbody>\n",
       "</table>\n"
      ],
      "text/latex": [
       "A tibble: 5 x 2\n",
       "\\begin{tabular}{ll}\n",
       " case\\_id & unique\\_nationality\\_count\\\\\n",
       " <chr> & <int>\\\\\n",
       "\\hline\n",
       "\t 127c782ae14732909574ab9bc3be5f74 & 2\\\\\n",
       "\t 47e2cf5d31fbf875f2e85521a1daf3a0 & 2\\\\\n",
       "\t 4947c3e4172599b258186dea16422062 & 2\\\\\n",
       "\t 87253f40d2bb0828aebd58d5dacdc64e & 2\\\\\n",
       "\t a04a1232dbe0004c3d262b8f50e68bc9 & 2\\\\\n",
       "\\end{tabular}\n"
      ],
      "text/markdown": [
       "\n",
       "A tibble: 5 x 2\n",
       "\n",
       "| case_id &lt;chr&gt; | unique_nationality_count &lt;int&gt; |\n",
       "|---|---|\n",
       "| 127c782ae14732909574ab9bc3be5f74 | 2 |\n",
       "| 47e2cf5d31fbf875f2e85521a1daf3a0 | 2 |\n",
       "| 4947c3e4172599b258186dea16422062 | 2 |\n",
       "| 87253f40d2bb0828aebd58d5dacdc64e | 2 |\n",
       "| a04a1232dbe0004c3d262b8f50e68bc9 | 2 |\n",
       "\n"
      ],
      "text/plain": [
       "  case_id                          unique_nationality_count\n",
       "1 127c782ae14732909574ab9bc3be5f74 2                       \n",
       "2 47e2cf5d31fbf875f2e85521a1daf3a0 2                       \n",
       "3 4947c3e4172599b258186dea16422062 2                       \n",
       "4 87253f40d2bb0828aebd58d5dacdc64e 2                       \n",
       "5 a04a1232dbe0004c3d262b8f50e68bc9 2                       "
      ]
     },
     "metadata": {},
     "output_type": "display_data"
    },
    {
     "data": {
      "text/html": [
       "211"
      ],
      "text/latex": [
       "211"
      ],
      "text/markdown": [
       "211"
      ],
      "text/plain": [
       "[1] 211"
      ]
     },
     "metadata": {},
     "output_type": "display_data"
    }
   ],
   "source": [
    "# for each case_id, find the number of unique_nationality_norm\n",
    "tdf = data_free_cases %>% \n",
    "        group_by(case_id) %>% \n",
    "        summarise(unique_nationality_count = n_distinct(Nationality_norm)) %>%\n",
    "        filter(unique_nationality_count > 1)\n",
    "tdf\n",
    "\n",
    "\n",
    "#find unique caes in data_free_cases\n",
    "nrow(data_free_cases %>% group_by(case_id) %>% summarise(n_distinct(case_id)))\n"
   ]
  },
  {
   "cell_type": "markdown",
   "metadata": {},
   "source": [
    "From the above, we see that there are some cases that contain multiple nationalities - so the nationality constraint cannot be ignored for these cases."
   ]
  },
  {
   "cell_type": "code",
   "execution_count": 15,
   "metadata": {
    "vscode": {
     "languageId": "r"
    }
   },
   "outputs": [],
   "source": [
    "#changing the data type of factor columns to character\n",
    "fctr_cols <- sapply(data_free_cases, is.factor)\n",
    "# fctr_cols\n",
    "data_free_cases[fctr_cols] <- lapply(data_free_cases[fctr_cols], as.character)"
   ]
  },
  {
   "cell_type": "markdown",
   "metadata": {},
   "source": [
    "### Dataframes to set up constraints"
   ]
  },
  {
   "cell_type": "code",
   "execution_count": 16,
   "metadata": {
    "vscode": {
     "languageId": "r"
    }
   },
   "outputs": [
    {
     "name": "stdout",
     "output_type": "stream",
     "text": [
      "[1] \"**** nationalities by location ****\"\n"
     ]
    },
    {
     "data": {
      "text/html": [
       "<table class=\"dataframe\">\n",
       "<caption>A tibble: 2 x 2</caption>\n",
       "<thead>\n",
       "\t<tr><th scope=col>arrival_location_id</th><th scope=col>unique_nationalities_l</th></tr>\n",
       "\t<tr><th scope=col>&lt;chr&gt;</th><th scope=col>&lt;list&gt;</th></tr>\n",
       "</thead>\n",
       "<tbody>\n",
       "\t<tr><td>0a63bef4</td><td>afghanistan, burma      , congo      , colombia   , guatemala  , honduras   , iran       , iraq       , moldova    , peru       , syria      , ukraine    , venezuela  </td></tr>\n",
       "\t<tr><td>0a91d577</td><td>guatemala             , centralafricanrepublic, pakistan              , mali                  , russia                , colombia              , indonesia             , palestine             , iraq                  , cambodia              , sudan                 , venezuela             , demrepcongo           , burma                 , moldova               , ivorycoast            , ukraine               , somalia               , eritrea               , cameroon              , chad                  , vietnam               , iran                  , yemen                 , elsalvador            , honduras              , haiti                 , nepal                 , china                 , syria                 , burundi               , southsudan            </td></tr>\n",
       "</tbody>\n",
       "</table>\n"
      ],
      "text/latex": [
       "A tibble: 2 x 2\n",
       "\\begin{tabular}{ll}\n",
       " arrival\\_location\\_id & unique\\_nationalities\\_l\\\\\n",
       " <chr> & <list>\\\\\n",
       "\\hline\n",
       "\t 0a63bef4 & afghanistan, burma      , congo      , colombia   , guatemala  , honduras   , iran       , iraq       , moldova    , peru       , syria      , ukraine    , venezuela  \\\\\n",
       "\t 0a91d577 & guatemala             , centralafricanrepublic, pakistan              , mali                  , russia                , colombia              , indonesia             , palestine             , iraq                  , cambodia              , sudan                 , venezuela             , demrepcongo           , burma                 , moldova               , ivorycoast            , ukraine               , somalia               , eritrea               , cameroon              , chad                  , vietnam               , iran                  , yemen                 , elsalvador            , honduras              , haiti                 , nepal                 , china                 , syria                 , burundi               , southsudan            \\\\\n",
       "\\end{tabular}\n"
      ],
      "text/markdown": [
       "\n",
       "A tibble: 2 x 2\n",
       "\n",
       "| arrival_location_id &lt;chr&gt; | unique_nationalities_l &lt;list&gt; |\n",
       "|---|---|\n",
       "| 0a63bef4 | afghanistan, burma      , congo      , colombia   , guatemala  , honduras   , iran       , iraq       , moldova    , peru       , syria      , ukraine    , venezuela   |\n",
       "| 0a91d577 | guatemala             , centralafricanrepublic, pakistan              , mali                  , russia                , colombia              , indonesia             , palestine             , iraq                  , cambodia              , sudan                 , venezuela             , demrepcongo           , burma                 , moldova               , ivorycoast            , ukraine               , somalia               , eritrea               , cameroon              , chad                  , vietnam               , iran                  , yemen                 , elsalvador            , honduras              , haiti                 , nepal                 , china                 , syria                 , burundi               , southsudan             |\n",
       "\n"
      ],
      "text/plain": [
       "  arrival_location_id\n",
       "1 0a63bef4           \n",
       "2 0a91d577           \n",
       "  unique_nationalities_l                                                                                                                                                                                                                                                                                                                                                                                                                                                                                                                                                                                                                                                                                                                                                                        \n",
       "1 afghanistan, burma      , congo      , colombia   , guatemala  , honduras   , iran       , iraq       , moldova    , peru       , syria      , ukraine    , venezuela                                                                                                                                                                                                                                                                                                                                                                                                                                                                                                                                                                                                                         \n",
       "2 guatemala             , centralafricanrepublic, pakistan              , mali                  , russia                , colombia              , indonesia             , palestine             , iraq                  , cambodia              , sudan                 , venezuela             , demrepcongo           , burma                 , moldova               , ivorycoast            , ukraine               , somalia               , eritrea               , cameroon              , chad                  , vietnam               , iran                  , yemen                 , elsalvador            , honduras              , haiti                 , nepal                 , china                 , syria                 , burundi               , southsudan            "
      ]
     },
     "metadata": {},
     "output_type": "display_data"
    },
    {
     "data": {
      "text/html": [
       "50"
      ],
      "text/latex": [
       "50"
      ],
      "text/markdown": [
       "50"
      ],
      "text/plain": [
       "[1] 50"
      ]
     },
     "metadata": {},
     "output_type": "display_data"
    },
    {
     "name": "stdout",
     "output_type": "stream",
     "text": [
      "[1] \"**** nationalities by case ****\"\n"
     ]
    },
    {
     "name": "stderr",
     "output_type": "stream",
     "text": [
      "\u001b[1m\u001b[22m`summarise()` has grouped output by 'arrival_location_id'. You can override\n",
      "using the `.groups` argument.\n"
     ]
    },
    {
     "data": {
      "text/html": [
       "<table class=\"dataframe\">\n",
       "<caption>A grouped_df: 2 x 3</caption>\n",
       "<thead>\n",
       "\t<tr><th scope=col>arrival_location_id</th><th scope=col>case_id</th><th scope=col>unique_nationalities_c</th></tr>\n",
       "\t<tr><th scope=col>&lt;chr&gt;</th><th scope=col>&lt;chr&gt;</th><th scope=col>&lt;list&gt;</th></tr>\n",
       "</thead>\n",
       "<tbody>\n",
       "\t<tr><td>0a91d577</td><td>3016d6f92dbf2c4b4734cd34e34e5b76</td><td>colombia</td></tr>\n",
       "\t<tr><td>0b8769f2</td><td>5af9e51b30600d5957da5eb48509a368</td><td>venezuela</td></tr>\n",
       "</tbody>\n",
       "</table>\n"
      ],
      "text/latex": [
       "A grouped\\_df: 2 x 3\n",
       "\\begin{tabular}{lll}\n",
       " arrival\\_location\\_id & case\\_id & unique\\_nationalities\\_c\\\\\n",
       " <chr> & <chr> & <list>\\\\\n",
       "\\hline\n",
       "\t 0a91d577 & 3016d6f92dbf2c4b4734cd34e34e5b76 & colombia\\\\\n",
       "\t 0b8769f2 & 5af9e51b30600d5957da5eb48509a368 & venezuela\\\\\n",
       "\\end{tabular}\n"
      ],
      "text/markdown": [
       "\n",
       "A grouped_df: 2 x 3\n",
       "\n",
       "| arrival_location_id &lt;chr&gt; | case_id &lt;chr&gt; | unique_nationalities_c &lt;list&gt; |\n",
       "|---|---|---|\n",
       "| 0a91d577 | 3016d6f92dbf2c4b4734cd34e34e5b76 | colombia |\n",
       "| 0b8769f2 | 5af9e51b30600d5957da5eb48509a368 | venezuela |\n",
       "\n"
      ],
      "text/plain": [
       "  arrival_location_id case_id                          unique_nationalities_c\n",
       "1 0a91d577            3016d6f92dbf2c4b4734cd34e34e5b76 colombia              \n",
       "2 0b8769f2            5af9e51b30600d5957da5eb48509a368 venezuela             "
      ]
     },
     "metadata": {},
     "output_type": "display_data"
    },
    {
     "data": {
      "text/html": [
       "211"
      ],
      "text/latex": [
       "211"
      ],
      "text/markdown": [
       "211"
      ],
      "text/plain": [
       "[1] 211"
      ]
     },
     "metadata": {},
     "output_type": "display_data"
    },
    {
     "name": "stdout",
     "output_type": "stream",
     "text": [
      "[1] \"***** casetype by location ****\"\n"
     ]
    },
    {
     "data": {
      "text/html": [
       "<table class=\"dataframe\">\n",
       "<caption>A tibble: 2 x 2</caption>\n",
       "<thead>\n",
       "\t<tr><th scope=col>arrival_location_id</th><th scope=col>unique_casetype_l</th></tr>\n",
       "\t<tr><th scope=col>&lt;chr&gt;</th><th scope=col>&lt;list&gt;</th></tr>\n",
       "</thead>\n",
       "<tbody>\n",
       "\t<tr><td>0a63bef4</td><td>SingleIndividualFemale, SingleIndividualMale  , SingleParentFamilies  </td></tr>\n",
       "\t<tr><td>0a91d577</td><td>SingleIndividualFemale, SingleIndividualMale  , SingleParentFamilies  </td></tr>\n",
       "</tbody>\n",
       "</table>\n"
      ],
      "text/latex": [
       "A tibble: 2 x 2\n",
       "\\begin{tabular}{ll}\n",
       " arrival\\_location\\_id & unique\\_casetype\\_l\\\\\n",
       " <chr> & <list>\\\\\n",
       "\\hline\n",
       "\t 0a63bef4 & SingleIndividualFemale, SingleIndividualMale  , SingleParentFamilies  \\\\\n",
       "\t 0a91d577 & SingleIndividualFemale, SingleIndividualMale  , SingleParentFamilies  \\\\\n",
       "\\end{tabular}\n"
      ],
      "text/markdown": [
       "\n",
       "A tibble: 2 x 2\n",
       "\n",
       "| arrival_location_id &lt;chr&gt; | unique_casetype_l &lt;list&gt; |\n",
       "|---|---|\n",
       "| 0a63bef4 | SingleIndividualFemale, SingleIndividualMale  , SingleParentFamilies   |\n",
       "| 0a91d577 | SingleIndividualFemale, SingleIndividualMale  , SingleParentFamilies   |\n",
       "\n"
      ],
      "text/plain": [
       "  arrival_location_id\n",
       "1 0a63bef4           \n",
       "2 0a91d577           \n",
       "  unique_casetype_l                                                     \n",
       "1 SingleIndividualFemale, SingleIndividualMale  , SingleParentFamilies  \n",
       "2 SingleIndividualFemale, SingleIndividualMale  , SingleParentFamilies  "
      ]
     },
     "metadata": {},
     "output_type": "display_data"
    },
    {
     "data": {
      "text/html": [
       "50"
      ],
      "text/latex": [
       "50"
      ],
      "text/markdown": [
       "50"
      ],
      "text/plain": [
       "[1] 50"
      ]
     },
     "metadata": {},
     "output_type": "display_data"
    },
    {
     "name": "stderr",
     "output_type": "stream",
     "text": [
      "\u001b[1m\u001b[22m`summarise()` has grouped output by 'arrival_location_id'. You can override\n",
      "using the `.groups` argument.\n",
      "\u001b[1m\u001b[22m`summarise()` has grouped output by 'arrival_location_id'. You can override\n",
      "using the `.groups` argument.\n",
      "\u001b[1m\u001b[22m`summarise()` has grouped output by 'arrival_location_id'. You can override\n",
      "using the `.groups` argument.\n"
     ]
    },
    {
     "name": "stdout",
     "output_type": "stream",
     "text": [
      "[1] \"**** constraints by case ***\"\n"
     ]
    },
    {
     "name": "stderr",
     "output_type": "stream",
     "text": [
      "\u001b[1m\u001b[22m`summarise()` has grouped output by 'arrival_location_id'. You can override\n",
      "using the `.groups` argument.\n"
     ]
    }
   ],
   "source": [
    "#dataframes to set up nationalality constraints\n",
    "# for each nationality - which locations can they accomodate \n",
    "\n",
    "print('**** nationalities by location ****')\n",
    "nationalities_by_location = nationality %>% \n",
    "                            group_by(arrival_location_id) %>%\n",
    "                            summarise(unique_nationalities_l = list(unique(Nationality_norm)))\n",
    "\n",
    "head(nationalities_by_location,2)\n",
    "nrow(nationalities_by_location)\n",
    "\n",
    "print('**** nationalities by case ****')\n",
    "# for each case, which nationalities need to be accomodated\n",
    "nationalities_by_case <- data_free_cases %>%\n",
    "                        group_by(arrival_location_id, case_id) %>%\n",
    "                        summarise(unique_nationalities_c = list(unique(Nationality_norm)))\n",
    "\n",
    "\n",
    "head(nationalities_by_case,2)\n",
    "nrow(nationalities_by_case)\n",
    "\n",
    "\n",
    "print('***** casetype by location ****')\n",
    "\n",
    "\n",
    "\n",
    "# data frames to set up case   constraints\n",
    "# for each location, case types that can be accomodated\n",
    "\n",
    "\n",
    "casetype_by_location = casetype %>% \n",
    "                        filter(Accepted == \"Yes\") %>% \n",
    "                        group_by(arrival_location_id) %>% \n",
    "                        summarise(unique_casetype_l = list(unique(CaseType)))\n",
    "\n",
    "#TARUNI CHECK\n",
    "casetype_by_location = rbind(casetype_by_location, locations_with_no_constraint_accom)\n",
    "\n",
    "\n",
    "head(casetype_by_location,2)\n",
    "nrow(casetype_by_location)\n",
    "\n",
    "# print('****print hsf, hsm spf ***')\n",
    "\n",
    "# for each case, case types that need to be accomodated\n",
    "hard_singles_male_by_case <- data_free_cases %>% \n",
    "                            group_by(arrival_location_id, case_id) %>% \n",
    "                            summarise(unique_hard_singles_male_c = max(hard_singles_male)) %>%\n",
    "                            mutate(constraints= ifelse(unique_hard_singles_male_c == 1, 'SingleIndividualMale', 'no'))\n",
    "\n",
    "hard_singles_female_by_case <- data_free_cases %>%\n",
    "                                group_by(arrival_location_id, case_id) %>% \n",
    "                                summarise(unique_hard_singles_female_c = max(hard_singles_female)) %>%\n",
    "                                mutate(constraints = ifelse(unique_hard_singles_female_c == 1, 'SingleIndividualFemale', 'no'))\n",
    "\n",
    "\n",
    "hard_spf_by_case <- data_free_cases %>%\n",
    "                     group_by(arrival_location_id, case_id) %>% \n",
    "                     summarise(unique_hard_spf_c = max(hard_spf))%>%\n",
    "                     mutate(constraints = ifelse(unique_hard_spf_c  == 1, 'SingleParentFamilies', 'no'))\n",
    "\n",
    "# head(hard_singles_female_by_case)\n",
    "# head(hard_singles_male_by_case)\n",
    "# head(hard_spf_by_case)\n",
    "\n",
    "\n",
    "print('**** constraints by case ***')\n",
    "\n",
    "# now we need to cross join data_free_cases and nationality dataframes to get all possible combinations of free case and locations\n",
    "#cross join data_free_cases and nationality dataframes \n",
    "\n",
    "\n",
    "\n",
    "# For each free case - location combination, we check if 1. nationality constraints and 2. case constraints are satisfied\n",
    "\n",
    "\n",
    "constraints_by_case =rbind(hard_singles_female_by_case,hard_singles_male_by_case,hard_spf_by_case) %>% \n",
    "                    group_by(arrival_location_id, case_id) %>% \n",
    "                    summarise(constraints = list(unique(constraints))) \n",
    "                    \n",
    "\n",
    "# remove 'no' from each element of the constraints list\n",
    "constraints_by_case$constraints <- lapply(constraints_by_case$constraints, function(x) x[x != 'no'])\n",
    "# head(constraints_by_case,2)"
   ]
  },
  {
   "cell_type": "code",
   "execution_count": 17,
   "metadata": {
    "vscode": {
     "languageId": "r"
    }
   },
   "outputs": [
    {
     "data": {
      "text/html": [
       "<table class=\"dataframe\">\n",
       "<caption>A grouped_df: 5 x 3</caption>\n",
       "<thead>\n",
       "\t<tr><th scope=col>arrival_location_id</th><th scope=col>case_id</th><th scope=col>constraints</th></tr>\n",
       "\t<tr><th scope=col>&lt;chr&gt;</th><th scope=col>&lt;chr&gt;</th><th scope=col>&lt;list&gt;</th></tr>\n",
       "</thead>\n",
       "<tbody>\n",
       "\t<tr><td>0a91d577</td><td>3016d6f92dbf2c4b4734cd34e34e5b76</td><td></td></tr>\n",
       "\t<tr><td>0b8769f2</td><td>5af9e51b30600d5957da5eb48509a368</td><td>SingleParentFamilies</td></tr>\n",
       "\t<tr><td>0b8769f2</td><td>c7bd61f95f6844da38cf7631f4c4f856</td><td>SingleParentFamilies</td></tr>\n",
       "\t<tr><td>0b8769f2</td><td>ccae717b09082b7528132b8c18c91b24</td><td></td></tr>\n",
       "\t<tr><td>0b8769f2</td><td>ebe9adc54f7edcfa281ea7f247f80465</td><td>SingleParentFamilies</td></tr>\n",
       "</tbody>\n",
       "</table>\n"
      ],
      "text/latex": [
       "A grouped\\_df: 5 x 3\n",
       "\\begin{tabular}{lll}\n",
       " arrival\\_location\\_id & case\\_id & constraints\\\\\n",
       " <chr> & <chr> & <list>\\\\\n",
       "\\hline\n",
       "\t 0a91d577 & 3016d6f92dbf2c4b4734cd34e34e5b76 & \\\\\n",
       "\t 0b8769f2 & 5af9e51b30600d5957da5eb48509a368 & SingleParentFamilies\\\\\n",
       "\t 0b8769f2 & c7bd61f95f6844da38cf7631f4c4f856 & SingleParentFamilies\\\\\n",
       "\t 0b8769f2 & ccae717b09082b7528132b8c18c91b24 & \\\\\n",
       "\t 0b8769f2 & ebe9adc54f7edcfa281ea7f247f80465 & SingleParentFamilies\\\\\n",
       "\\end{tabular}\n"
      ],
      "text/markdown": [
       "\n",
       "A grouped_df: 5 x 3\n",
       "\n",
       "| arrival_location_id &lt;chr&gt; | case_id &lt;chr&gt; | constraints &lt;list&gt; |\n",
       "|---|---|---|\n",
       "| 0a91d577 | 3016d6f92dbf2c4b4734cd34e34e5b76 | <!----> |\n",
       "| 0b8769f2 | 5af9e51b30600d5957da5eb48509a368 | SingleParentFamilies |\n",
       "| 0b8769f2 | c7bd61f95f6844da38cf7631f4c4f856 | SingleParentFamilies |\n",
       "| 0b8769f2 | ccae717b09082b7528132b8c18c91b24 | <!----> |\n",
       "| 0b8769f2 | ebe9adc54f7edcfa281ea7f247f80465 | SingleParentFamilies |\n",
       "\n"
      ],
      "text/plain": [
       "  arrival_location_id case_id                          constraints         \n",
       "1 0a91d577            3016d6f92dbf2c4b4734cd34e34e5b76                     \n",
       "2 0b8769f2            5af9e51b30600d5957da5eb48509a368 SingleParentFamilies\n",
       "3 0b8769f2            c7bd61f95f6844da38cf7631f4c4f856 SingleParentFamilies\n",
       "4 0b8769f2            ccae717b09082b7528132b8c18c91b24                     \n",
       "5 0b8769f2            ebe9adc54f7edcfa281ea7f247f80465 SingleParentFamilies"
      ]
     },
     "metadata": {},
     "output_type": "display_data"
    },
    {
     "data": {
      "text/html": [
       "211"
      ],
      "text/latex": [
       "211"
      ],
      "text/markdown": [
       "211"
      ],
      "text/plain": [
       "[1] 211"
      ]
     },
     "metadata": {},
     "output_type": "display_data"
    }
   ],
   "source": [
    "head(constraints_by_case,5)\n",
    "nrow(constraints_by_case)"
   ]
  },
  {
   "cell_type": "markdown",
   "metadata": {},
   "source": [
    "### Cross joining locations with cases to get all possible combinations"
   ]
  },
  {
   "cell_type": "code",
   "execution_count": 18,
   "metadata": {
    "vscode": {
     "languageId": "r"
    }
   },
   "outputs": [
    {
     "name": "stdout",
     "output_type": "stream",
     "text": [
      "[1] \"**** arrival locations ****\"\n"
     ]
    },
    {
     "data": {
      "text/html": [
       "<table class=\"dataframe\">\n",
       "<caption>A data.frame: 2 x 3</caption>\n",
       "<thead>\n",
       "\t<tr><th></th><th scope=col>arrival_location_id</th><th scope=col>unique_nationalities_l</th><th scope=col>unique_casetype_l</th></tr>\n",
       "\t<tr><th></th><th scope=col>&lt;chr&gt;</th><th scope=col>&lt;list&gt;</th><th scope=col>&lt;list&gt;</th></tr>\n",
       "</thead>\n",
       "<tbody>\n",
       "\t<tr><th scope=row>1</th><td>0a63bef4</td><td>afghanistan, burma      , congo      , colombia   , guatemala  , honduras   , iran       , iraq       , moldova    , peru       , syria      , ukraine    , venezuela  </td><td>SingleIndividualFemale, SingleIndividualMale  , SingleParentFamilies  </td></tr>\n",
       "\t<tr><th scope=row>2</th><td>0a91d577</td><td>guatemala             , centralafricanrepublic, pakistan              , mali                  , russia                , colombia              , indonesia             , palestine             , iraq                  , cambodia              , sudan                 , venezuela             , demrepcongo           , burma                 , moldova               , ivorycoast            , ukraine               , somalia               , eritrea               , cameroon              , chad                  , vietnam               , iran                  , yemen                 , elsalvador            , honduras              , haiti                 , nepal                 , china                 , syria                 , burundi               , southsudan            </td><td>SingleIndividualFemale, SingleIndividualMale  , SingleParentFamilies  </td></tr>\n",
       "</tbody>\n",
       "</table>\n"
      ],
      "text/latex": [
       "A data.frame: 2 x 3\n",
       "\\begin{tabular}{r|lll}\n",
       "  & arrival\\_location\\_id & unique\\_nationalities\\_l & unique\\_casetype\\_l\\\\\n",
       "  & <chr> & <list> & <list>\\\\\n",
       "\\hline\n",
       "\t1 & 0a63bef4 & afghanistan, burma      , congo      , colombia   , guatemala  , honduras   , iran       , iraq       , moldova    , peru       , syria      , ukraine    , venezuela   & SingleIndividualFemale, SingleIndividualMale  , SingleParentFamilies  \\\\\n",
       "\t2 & 0a91d577 & guatemala             , centralafricanrepublic, pakistan              , mali                  , russia                , colombia              , indonesia             , palestine             , iraq                  , cambodia              , sudan                 , venezuela             , demrepcongo           , burma                 , moldova               , ivorycoast            , ukraine               , somalia               , eritrea               , cameroon              , chad                  , vietnam               , iran                  , yemen                 , elsalvador            , honduras              , haiti                 , nepal                 , china                 , syria                 , burundi               , southsudan             & SingleIndividualFemale, SingleIndividualMale  , SingleParentFamilies  \\\\\n",
       "\\end{tabular}\n"
      ],
      "text/markdown": [
       "\n",
       "A data.frame: 2 x 3\n",
       "\n",
       "| <!--/--> | arrival_location_id &lt;chr&gt; | unique_nationalities_l &lt;list&gt; | unique_casetype_l &lt;list&gt; |\n",
       "|---|---|---|---|\n",
       "| 1 | 0a63bef4 | afghanistan, burma      , congo      , colombia   , guatemala  , honduras   , iran       , iraq       , moldova    , peru       , syria      , ukraine    , venezuela   | SingleIndividualFemale, SingleIndividualMale  , SingleParentFamilies   |\n",
       "| 2 | 0a91d577 | guatemala             , centralafricanrepublic, pakistan              , mali                  , russia                , colombia              , indonesia             , palestine             , iraq                  , cambodia              , sudan                 , venezuela             , demrepcongo           , burma                 , moldova               , ivorycoast            , ukraine               , somalia               , eritrea               , cameroon              , chad                  , vietnam               , iran                  , yemen                 , elsalvador            , honduras              , haiti                 , nepal                 , china                 , syria                 , burundi               , southsudan             | SingleIndividualFemale, SingleIndividualMale  , SingleParentFamilies   |\n",
       "\n"
      ],
      "text/plain": [
       "  arrival_location_id\n",
       "1 0a63bef4           \n",
       "2 0a91d577           \n",
       "  unique_nationalities_l                                                                                                                                                                                                                                                                                                                                                                                                                                                                                                                                                                                                                                                                                                                                                                        \n",
       "1 afghanistan, burma      , congo      , colombia   , guatemala  , honduras   , iran       , iraq       , moldova    , peru       , syria      , ukraine    , venezuela                                                                                                                                                                                                                                                                                                                                                                                                                                                                                                                                                                                                                         \n",
       "2 guatemala             , centralafricanrepublic, pakistan              , mali                  , russia                , colombia              , indonesia             , palestine             , iraq                  , cambodia              , sudan                 , venezuela             , demrepcongo           , burma                 , moldova               , ivorycoast            , ukraine               , somalia               , eritrea               , cameroon              , chad                  , vietnam               , iran                  , yemen                 , elsalvador            , honduras              , haiti                 , nepal                 , china                 , syria                 , burundi               , southsudan            \n",
       "  unique_casetype_l                                                     \n",
       "1 SingleIndividualFemale, SingleIndividualMale  , SingleParentFamilies  \n",
       "2 SingleIndividualFemale, SingleIndividualMale  , SingleParentFamilies  "
      ]
     },
     "metadata": {},
     "output_type": "display_data"
    },
    {
     "name": "stdout",
     "output_type": "stream",
     "text": [
      "[1] \"**** case info ****\"\n"
     ]
    },
    {
     "data": {
      "text/html": [
       "<table class=\"dataframe\">\n",
       "<caption>A data.frame: 2 x 3</caption>\n",
       "<thead>\n",
       "\t<tr><th></th><th scope=col>case_id</th><th scope=col>unique_nationalities_c</th><th scope=col>constraints</th></tr>\n",
       "\t<tr><th></th><th scope=col>&lt;chr&gt;</th><th scope=col>&lt;list&gt;</th><th scope=col>&lt;list&gt;</th></tr>\n",
       "</thead>\n",
       "<tbody>\n",
       "\t<tr><th scope=row>1</th><td>3016d6f92dbf2c4b4734cd34e34e5b76</td><td>colombia</td><td></td></tr>\n",
       "\t<tr><th scope=row>2</th><td>5af9e51b30600d5957da5eb48509a368</td><td>venezuela</td><td>SingleParentFamilies</td></tr>\n",
       "</tbody>\n",
       "</table>\n"
      ],
      "text/latex": [
       "A data.frame: 2 x 3\n",
       "\\begin{tabular}{r|lll}\n",
       "  & case\\_id & unique\\_nationalities\\_c & constraints\\\\\n",
       "  & <chr> & <list> & <list>\\\\\n",
       "\\hline\n",
       "\t1 & 3016d6f92dbf2c4b4734cd34e34e5b76 & colombia & \\\\\n",
       "\t2 & 5af9e51b30600d5957da5eb48509a368 & venezuela & SingleParentFamilies\\\\\n",
       "\\end{tabular}\n"
      ],
      "text/markdown": [
       "\n",
       "A data.frame: 2 x 3\n",
       "\n",
       "| <!--/--> | case_id &lt;chr&gt; | unique_nationalities_c &lt;list&gt; | constraints &lt;list&gt; |\n",
       "|---|---|---|---|\n",
       "| 1 | 3016d6f92dbf2c4b4734cd34e34e5b76 | colombia | <!----> |\n",
       "| 2 | 5af9e51b30600d5957da5eb48509a368 | venezuela | SingleParentFamilies |\n",
       "\n"
      ],
      "text/plain": [
       "  case_id                          unique_nationalities_c constraints         \n",
       "1 3016d6f92dbf2c4b4734cd34e34e5b76 colombia                                   \n",
       "2 5af9e51b30600d5957da5eb48509a368 venezuela              SingleParentFamilies"
      ]
     },
     "metadata": {},
     "output_type": "display_data"
    },
    {
     "name": "stdout",
     "output_type": "stream",
     "text": [
      "[1] \"**** all possible case location combinations ****\"\n"
     ]
    },
    {
     "data": {
      "text/html": [
       "<table class=\"dataframe\">\n",
       "<caption>A data.frame: 2 x 6</caption>\n",
       "<thead>\n",
       "\t<tr><th></th><th scope=col>case_id</th><th scope=col>unique_nationalities_c</th><th scope=col>constraints</th><th scope=col>arrival_location_id</th><th scope=col>unique_nationalities_l</th><th scope=col>unique_casetype_l</th></tr>\n",
       "\t<tr><th></th><th scope=col>&lt;chr&gt;</th><th scope=col>&lt;list&gt;</th><th scope=col>&lt;list&gt;</th><th scope=col>&lt;chr&gt;</th><th scope=col>&lt;list&gt;</th><th scope=col>&lt;list&gt;</th></tr>\n",
       "</thead>\n",
       "<tbody>\n",
       "\t<tr><th scope=row>1</th><td>3016d6f92dbf2c4b4734cd34e34e5b76</td><td>colombia</td><td></td><td>0a63bef4</td><td>afghanistan, burma      , congo      , colombia   , guatemala  , honduras   , iran       , iraq       , moldova    , peru       , syria      , ukraine    , venezuela  </td><td>SingleIndividualFemale, SingleIndividualMale  , SingleParentFamilies  </td></tr>\n",
       "\t<tr><th scope=row>2</th><td>5af9e51b30600d5957da5eb48509a368</td><td>venezuela</td><td>SingleParentFamilies</td><td>0a63bef4</td><td>afghanistan, burma      , congo      , colombia   , guatemala  , honduras   , iran       , iraq       , moldova    , peru       , syria      , ukraine    , venezuela  </td><td>SingleIndividualFemale, SingleIndividualMale  , SingleParentFamilies  </td></tr>\n",
       "</tbody>\n",
       "</table>\n"
      ],
      "text/latex": [
       "A data.frame: 2 x 6\n",
       "\\begin{tabular}{r|llllll}\n",
       "  & case\\_id & unique\\_nationalities\\_c & constraints & arrival\\_location\\_id & unique\\_nationalities\\_l & unique\\_casetype\\_l\\\\\n",
       "  & <chr> & <list> & <list> & <chr> & <list> & <list>\\\\\n",
       "\\hline\n",
       "\t1 & 3016d6f92dbf2c4b4734cd34e34e5b76 & colombia &  & 0a63bef4 & afghanistan, burma      , congo      , colombia   , guatemala  , honduras   , iran       , iraq       , moldova    , peru       , syria      , ukraine    , venezuela   & SingleIndividualFemale, SingleIndividualMale  , SingleParentFamilies  \\\\\n",
       "\t2 & 5af9e51b30600d5957da5eb48509a368 & venezuela & SingleParentFamilies & 0a63bef4 & afghanistan, burma      , congo      , colombia   , guatemala  , honduras   , iran       , iraq       , moldova    , peru       , syria      , ukraine    , venezuela   & SingleIndividualFemale, SingleIndividualMale  , SingleParentFamilies  \\\\\n",
       "\\end{tabular}\n"
      ],
      "text/markdown": [
       "\n",
       "A data.frame: 2 x 6\n",
       "\n",
       "| <!--/--> | case_id &lt;chr&gt; | unique_nationalities_c &lt;list&gt; | constraints &lt;list&gt; | arrival_location_id &lt;chr&gt; | unique_nationalities_l &lt;list&gt; | unique_casetype_l &lt;list&gt; |\n",
       "|---|---|---|---|---|---|---|\n",
       "| 1 | 3016d6f92dbf2c4b4734cd34e34e5b76 | colombia | <!----> | 0a63bef4 | afghanistan, burma      , congo      , colombia   , guatemala  , honduras   , iran       , iraq       , moldova    , peru       , syria      , ukraine    , venezuela   | SingleIndividualFemale, SingleIndividualMale  , SingleParentFamilies   |\n",
       "| 2 | 5af9e51b30600d5957da5eb48509a368 | venezuela | SingleParentFamilies | 0a63bef4 | afghanistan, burma      , congo      , colombia   , guatemala  , honduras   , iran       , iraq       , moldova    , peru       , syria      , ukraine    , venezuela   | SingleIndividualFemale, SingleIndividualMale  , SingleParentFamilies   |\n",
       "\n"
      ],
      "text/plain": [
       "  case_id                          unique_nationalities_c constraints         \n",
       "1 3016d6f92dbf2c4b4734cd34e34e5b76 colombia                                   \n",
       "2 5af9e51b30600d5957da5eb48509a368 venezuela              SingleParentFamilies\n",
       "  arrival_location_id\n",
       "1 0a63bef4           \n",
       "2 0a63bef4           \n",
       "  unique_nationalities_l                                                                                                                                                 \n",
       "1 afghanistan, burma      , congo      , colombia   , guatemala  , honduras   , iran       , iraq       , moldova    , peru       , syria      , ukraine    , venezuela  \n",
       "2 afghanistan, burma      , congo      , colombia   , guatemala  , honduras   , iran       , iraq       , moldova    , peru       , syria      , ukraine    , venezuela  \n",
       "  unique_casetype_l                                                     \n",
       "1 SingleIndividualFemale, SingleIndividualMale  , SingleParentFamilies  \n",
       "2 SingleIndividualFemale, SingleIndividualMale  , SingleParentFamilies  "
      ]
     },
     "metadata": {},
     "output_type": "display_data"
    },
    {
     "data": {
      "text/html": [
       "<style>\n",
       ".list-inline {list-style: none; margin:0; padding: 0}\n",
       ".list-inline>li {display: inline-block}\n",
       ".list-inline>li:not(:last-child)::after {content: \"\\00b7\"; padding: 0 .5ex}\n",
       "</style>\n",
       "<ol class=list-inline><li>50</li><li>3</li></ol>\n"
      ],
      "text/latex": [
       "\\begin{enumerate*}\n",
       "\\item 50\n",
       "\\item 3\n",
       "\\end{enumerate*}\n"
      ],
      "text/markdown": [
       "1. 50\n",
       "2. 3\n",
       "\n",
       "\n"
      ],
      "text/plain": [
       "[1] 50  3"
      ]
     },
     "metadata": {},
     "output_type": "display_data"
    },
    {
     "data": {
      "text/html": [
       "<style>\n",
       ".list-inline {list-style: none; margin:0; padding: 0}\n",
       ".list-inline>li {display: inline-block}\n",
       ".list-inline>li:not(:last-child)::after {content: \"\\00b7\"; padding: 0 .5ex}\n",
       "</style>\n",
       "<ol class=list-inline><li>211</li><li>3</li></ol>\n"
      ],
      "text/latex": [
       "\\begin{enumerate*}\n",
       "\\item 211\n",
       "\\item 3\n",
       "\\end{enumerate*}\n"
      ],
      "text/markdown": [
       "1. 211\n",
       "2. 3\n",
       "\n",
       "\n"
      ],
      "text/plain": [
       "[1] 211   3"
      ]
     },
     "metadata": {},
     "output_type": "display_data"
    },
    {
     "data": {
      "text/html": [
       "<style>\n",
       ".list-inline {list-style: none; margin:0; padding: 0}\n",
       ".list-inline>li {display: inline-block}\n",
       ".list-inline>li:not(:last-child)::after {content: \"\\00b7\"; padding: 0 .5ex}\n",
       "</style>\n",
       "<ol class=list-inline><li>10550</li><li>6</li></ol>\n"
      ],
      "text/latex": [
       "\\begin{enumerate*}\n",
       "\\item 10550\n",
       "\\item 6\n",
       "\\end{enumerate*}\n"
      ],
      "text/markdown": [
       "1. 10550\n",
       "2. 6\n",
       "\n",
       "\n"
      ],
      "text/plain": [
       "[1] 10550     6"
      ]
     },
     "metadata": {},
     "output_type": "display_data"
    }
   ],
   "source": [
    "\n",
    "arrival_locations <- merge(nationalities_by_location, casetype_by_location, by = 'arrival_location_id')\n",
    "print('**** arrival locations ****')\n",
    "head(arrival_locations,2)\n",
    "\n",
    "# arrival_locations_merge <- merge(arrival_locations, data_free_cases, by = NULL)\n",
    "\n",
    "case_info <- merge(nationalities_by_case, constraints_by_case, by = c('arrival_location_id', 'case_id')) %>% \n",
    "                select(-arrival_location_id)\n",
    "print('**** case info ****')\n",
    "head(case_info,2)\n",
    "\n",
    "#cross join case_info with arrival_locations to get all possible combinations of case_id and arrival_location_id    \n",
    "case_info_merge <- merge(case_info, arrival_locations, by = NULL)\n",
    "# head(case_info_merge,2)\n",
    "\n",
    "print('**** all possible case location combinations ****')\n",
    "head(case_info_merge,2)\n",
    "\n",
    "#checking if the merge is correct\n",
    "dim(arrival_locations)\n",
    "dim(case_info)\n",
    "dim(case_info_merge)"
   ]
  },
  {
   "cell_type": "code",
   "execution_count": 19,
   "metadata": {
    "vscode": {
     "languageId": "r"
    }
   },
   "outputs": [
    {
     "data": {
      "text/html": [
       "<style>\n",
       ".list-inline {list-style: none; margin:0; padding: 0}\n",
       ".list-inline>li {display: inline-block}\n",
       ".list-inline>li:not(:last-child)::after {content: \"\\00b7\"; padding: 0 .5ex}\n",
       "</style>\n",
       "<ol class=list-inline><li>10550</li><li>8</li></ol>\n"
      ],
      "text/latex": [
       "\\begin{enumerate*}\n",
       "\\item 10550\n",
       "\\item 8\n",
       "\\end{enumerate*}\n"
      ],
      "text/markdown": [
       "1. 10550\n",
       "2. 8\n",
       "\n",
       "\n"
      ],
      "text/plain": [
       "[1] 10550     8"
      ]
     },
     "metadata": {},
     "output_type": "display_data"
    },
    {
     "data": {
      "text/html": [
       "<table class=\"dataframe\">\n",
       "<caption>A data.frame: 2 x 8</caption>\n",
       "<thead>\n",
       "\t<tr><th></th><th scope=col>case_id</th><th scope=col>unique_nationalities_c</th><th scope=col>constraints</th><th scope=col>arrival_location_id</th><th scope=col>unique_nationalities_l</th><th scope=col>unique_casetype_l</th><th scope=col>location_accom</th><th scope=col>case_accom</th></tr>\n",
       "\t<tr><th></th><th scope=col>&lt;chr&gt;</th><th scope=col>&lt;list&gt;</th><th scope=col>&lt;list&gt;</th><th scope=col>&lt;chr&gt;</th><th scope=col>&lt;list&gt;</th><th scope=col>&lt;list&gt;</th><th scope=col>&lt;lgl&gt;</th><th scope=col>&lt;lgl&gt;</th></tr>\n",
       "</thead>\n",
       "<tbody>\n",
       "\t<tr><th scope=row>1</th><td>3016d6f92dbf2c4b4734cd34e34e5b76</td><td>colombia</td><td></td><td>0a63bef4</td><td>afghanistan, burma      , congo      , colombia   , guatemala  , honduras   , iran       , iraq       , moldova    , peru       , syria      , ukraine    , venezuela  </td><td>SingleIndividualFemale, SingleIndividualMale  , SingleParentFamilies  </td><td>TRUE</td><td>TRUE</td></tr>\n",
       "\t<tr><th scope=row>2</th><td>5af9e51b30600d5957da5eb48509a368</td><td>venezuela</td><td>SingleParentFamilies</td><td>0a63bef4</td><td>afghanistan, burma      , congo      , colombia   , guatemala  , honduras   , iran       , iraq       , moldova    , peru       , syria      , ukraine    , venezuela  </td><td>SingleIndividualFemale, SingleIndividualMale  , SingleParentFamilies  </td><td>TRUE</td><td>TRUE</td></tr>\n",
       "</tbody>\n",
       "</table>\n"
      ],
      "text/latex": [
       "A data.frame: 2 x 8\n",
       "\\begin{tabular}{r|llllllll}\n",
       "  & case\\_id & unique\\_nationalities\\_c & constraints & arrival\\_location\\_id & unique\\_nationalities\\_l & unique\\_casetype\\_l & location\\_accom & case\\_accom\\\\\n",
       "  & <chr> & <list> & <list> & <chr> & <list> & <list> & <lgl> & <lgl>\\\\\n",
       "\\hline\n",
       "\t1 & 3016d6f92dbf2c4b4734cd34e34e5b76 & colombia &  & 0a63bef4 & afghanistan, burma      , congo      , colombia   , guatemala  , honduras   , iran       , iraq       , moldova    , peru       , syria      , ukraine    , venezuela   & SingleIndividualFemale, SingleIndividualMale  , SingleParentFamilies   & TRUE & TRUE\\\\\n",
       "\t2 & 5af9e51b30600d5957da5eb48509a368 & venezuela & SingleParentFamilies & 0a63bef4 & afghanistan, burma      , congo      , colombia   , guatemala  , honduras   , iran       , iraq       , moldova    , peru       , syria      , ukraine    , venezuela   & SingleIndividualFemale, SingleIndividualMale  , SingleParentFamilies   & TRUE & TRUE\\\\\n",
       "\\end{tabular}\n"
      ],
      "text/markdown": [
       "\n",
       "A data.frame: 2 x 8\n",
       "\n",
       "| <!--/--> | case_id &lt;chr&gt; | unique_nationalities_c &lt;list&gt; | constraints &lt;list&gt; | arrival_location_id &lt;chr&gt; | unique_nationalities_l &lt;list&gt; | unique_casetype_l &lt;list&gt; | location_accom &lt;lgl&gt; | case_accom &lt;lgl&gt; |\n",
       "|---|---|---|---|---|---|---|---|---|\n",
       "| 1 | 3016d6f92dbf2c4b4734cd34e34e5b76 | colombia | <!----> | 0a63bef4 | afghanistan, burma      , congo      , colombia   , guatemala  , honduras   , iran       , iraq       , moldova    , peru       , syria      , ukraine    , venezuela   | SingleIndividualFemale, SingleIndividualMale  , SingleParentFamilies   | TRUE | TRUE |\n",
       "| 2 | 5af9e51b30600d5957da5eb48509a368 | venezuela | SingleParentFamilies | 0a63bef4 | afghanistan, burma      , congo      , colombia   , guatemala  , honduras   , iran       , iraq       , moldova    , peru       , syria      , ukraine    , venezuela   | SingleIndividualFemale, SingleIndividualMale  , SingleParentFamilies   | TRUE | TRUE |\n",
       "\n"
      ],
      "text/plain": [
       "  case_id                          unique_nationalities_c constraints         \n",
       "1 3016d6f92dbf2c4b4734cd34e34e5b76 colombia                                   \n",
       "2 5af9e51b30600d5957da5eb48509a368 venezuela              SingleParentFamilies\n",
       "  arrival_location_id\n",
       "1 0a63bef4           \n",
       "2 0a63bef4           \n",
       "  unique_nationalities_l                                                                                                                                                 \n",
       "1 afghanistan, burma      , congo      , colombia   , guatemala  , honduras   , iran       , iraq       , moldova    , peru       , syria      , ukraine    , venezuela  \n",
       "2 afghanistan, burma      , congo      , colombia   , guatemala  , honduras   , iran       , iraq       , moldova    , peru       , syria      , ukraine    , venezuela  \n",
       "  unique_casetype_l                                                     \n",
       "1 SingleIndividualFemale, SingleIndividualMale  , SingleParentFamilies  \n",
       "2 SingleIndividualFemale, SingleIndividualMale  , SingleParentFamilies  \n",
       "  location_accom case_accom\n",
       "1 TRUE           TRUE      \n",
       "2 TRUE           TRUE      "
      ]
     },
     "metadata": {},
     "output_type": "display_data"
    }
   ],
   "source": [
    "# head(case_info_merge,10)\n",
    "\n",
    "#check eligibility\n",
    "\n",
    "case_info_merge$location_accom = mapply(function(c, l) all(c %in% l), case_info_merge$unique_nationalities_c, case_info_merge$unique_nationalities_l)\n",
    "case_info_merge$case_accom = mapply(function(c, l) all(c %in% l), case_info_merge$constraints, case_info_merge$unique_casetype_l)\n",
    "\n",
    "dim(case_info_merge)\n",
    "\n",
    "head(case_info_merge, 2)"
   ]
  },
  {
   "cell_type": "code",
   "execution_count": 20,
   "metadata": {
    "vscode": {
     "languageId": "r"
    }
   },
   "outputs": [],
   "source": [
    "\n",
    "#filter by the rows where both location_accom and case_accom are true\n",
    "case_info_merge <- case_info_merge %>% filter(location_accom == TRUE & case_accom == TRUE)\n",
    "# head(case_info_merge,10)\n",
    "\n",
    "eligible_cases = case_info_merge\n"
   ]
  },
  {
   "cell_type": "code",
   "execution_count": 21,
   "metadata": {
    "vscode": {
     "languageId": "r"
    }
   },
   "outputs": [],
   "source": [
    "#check if join works for a case with no constraints and a location that can accomodate no constraints\n",
    "\n",
    "#case with no constraints = 101f0746ae4dfe8c6d7607020fd1b50e\n",
    "# location with no constraints accom  =2449a303\n",
    "\n",
    "\n",
    "# case_info_merge %>% filter(case_id == '101f0746ae4dfe8c6d7607020fd1b50e' & arrival_location_id == '2449a303')"
   ]
  },
  {
   "cell_type": "markdown",
   "metadata": {},
   "source": [
    "### Eligible Cases"
   ]
  },
  {
   "cell_type": "code",
   "execution_count": 22,
   "metadata": {
    "vscode": {
     "languageId": "r"
    }
   },
   "outputs": [
    {
     "data": {
      "text/html": [
       "<style>\n",
       ".list-inline {list-style: none; margin:0; padding: 0}\n",
       ".list-inline>li {display: inline-block}\n",
       ".list-inline>li:not(:last-child)::after {content: \"\\00b7\"; padding: 0 .5ex}\n",
       "</style>\n",
       "<ol class=list-inline><li>5241</li><li>8</li></ol>\n"
      ],
      "text/latex": [
       "\\begin{enumerate*}\n",
       "\\item 5241\n",
       "\\item 8\n",
       "\\end{enumerate*}\n"
      ],
      "text/markdown": [
       "1. 5241\n",
       "2. 8\n",
       "\n",
       "\n"
      ],
      "text/plain": [
       "[1] 5241    8"
      ]
     },
     "metadata": {},
     "output_type": "display_data"
    },
    {
     "data": {
      "text/html": [
       "<table class=\"dataframe\">\n",
       "<caption>A data.frame: 5 x 8</caption>\n",
       "<thead>\n",
       "\t<tr><th></th><th scope=col>case_id</th><th scope=col>unique_nationalities_c</th><th scope=col>constraints</th><th scope=col>arrival_location_id</th><th scope=col>unique_nationalities_l</th><th scope=col>unique_casetype_l</th><th scope=col>location_accom</th><th scope=col>case_accom</th></tr>\n",
       "\t<tr><th></th><th scope=col>&lt;chr&gt;</th><th scope=col>&lt;list&gt;</th><th scope=col>&lt;list&gt;</th><th scope=col>&lt;chr&gt;</th><th scope=col>&lt;list&gt;</th><th scope=col>&lt;list&gt;</th><th scope=col>&lt;lgl&gt;</th><th scope=col>&lt;lgl&gt;</th></tr>\n",
       "</thead>\n",
       "<tbody>\n",
       "\t<tr><th scope=row>1</th><td>3016d6f92dbf2c4b4734cd34e34e5b76</td><td>colombia</td><td></td><td>0a63bef4</td><td>afghanistan, burma      , congo      , colombia   , guatemala  , honduras   , iran       , iraq       , moldova    , peru       , syria      , ukraine    , venezuela  </td><td>SingleIndividualFemale, SingleIndividualMale  , SingleParentFamilies  </td><td>TRUE</td><td>TRUE</td></tr>\n",
       "\t<tr><th scope=row>2</th><td>5af9e51b30600d5957da5eb48509a368</td><td>venezuela</td><td>SingleParentFamilies</td><td>0a63bef4</td><td>afghanistan, burma      , congo      , colombia   , guatemala  , honduras   , iran       , iraq       , moldova    , peru       , syria      , ukraine    , venezuela  </td><td>SingleIndividualFemale, SingleIndividualMale  , SingleParentFamilies  </td><td>TRUE</td><td>TRUE</td></tr>\n",
       "\t<tr><th scope=row>3</th><td>ccae717b09082b7528132b8c18c91b24</td><td>syria</td><td></td><td>0a63bef4</td><td>afghanistan, burma      , congo      , colombia   , guatemala  , honduras   , iran       , iraq       , moldova    , peru       , syria      , ukraine    , venezuela  </td><td>SingleIndividualFemale, SingleIndividualMale  , SingleParentFamilies  </td><td>TRUE</td><td>TRUE</td></tr>\n",
       "\t<tr><th scope=row>4</th><td>ebe9adc54f7edcfa281ea7f247f80465</td><td>venezuela</td><td>SingleParentFamilies</td><td>0a63bef4</td><td>afghanistan, burma      , congo      , colombia   , guatemala  , honduras   , iran       , iraq       , moldova    , peru       , syria      , ukraine    , venezuela  </td><td>SingleIndividualFemale, SingleIndividualMale  , SingleParentFamilies  </td><td>TRUE</td><td>TRUE</td></tr>\n",
       "\t<tr><th scope=row>5</th><td>0376d9bd13537af8cd39a4b7143e7ee9</td><td>syria</td><td></td><td>0a63bef4</td><td>afghanistan, burma      , congo      , colombia   , guatemala  , honduras   , iran       , iraq       , moldova    , peru       , syria      , ukraine    , venezuela  </td><td>SingleIndividualFemale, SingleIndividualMale  , SingleParentFamilies  </td><td>TRUE</td><td>TRUE</td></tr>\n",
       "</tbody>\n",
       "</table>\n"
      ],
      "text/latex": [
       "A data.frame: 5 x 8\n",
       "\\begin{tabular}{r|llllllll}\n",
       "  & case\\_id & unique\\_nationalities\\_c & constraints & arrival\\_location\\_id & unique\\_nationalities\\_l & unique\\_casetype\\_l & location\\_accom & case\\_accom\\\\\n",
       "  & <chr> & <list> & <list> & <chr> & <list> & <list> & <lgl> & <lgl>\\\\\n",
       "\\hline\n",
       "\t1 & 3016d6f92dbf2c4b4734cd34e34e5b76 & colombia &  & 0a63bef4 & afghanistan, burma      , congo      , colombia   , guatemala  , honduras   , iran       , iraq       , moldova    , peru       , syria      , ukraine    , venezuela   & SingleIndividualFemale, SingleIndividualMale  , SingleParentFamilies   & TRUE & TRUE\\\\\n",
       "\t2 & 5af9e51b30600d5957da5eb48509a368 & venezuela & SingleParentFamilies & 0a63bef4 & afghanistan, burma      , congo      , colombia   , guatemala  , honduras   , iran       , iraq       , moldova    , peru       , syria      , ukraine    , venezuela   & SingleIndividualFemale, SingleIndividualMale  , SingleParentFamilies   & TRUE & TRUE\\\\\n",
       "\t3 & ccae717b09082b7528132b8c18c91b24 & syria &  & 0a63bef4 & afghanistan, burma      , congo      , colombia   , guatemala  , honduras   , iran       , iraq       , moldova    , peru       , syria      , ukraine    , venezuela   & SingleIndividualFemale, SingleIndividualMale  , SingleParentFamilies   & TRUE & TRUE\\\\\n",
       "\t4 & ebe9adc54f7edcfa281ea7f247f80465 & venezuela & SingleParentFamilies & 0a63bef4 & afghanistan, burma      , congo      , colombia   , guatemala  , honduras   , iran       , iraq       , moldova    , peru       , syria      , ukraine    , venezuela   & SingleIndividualFemale, SingleIndividualMale  , SingleParentFamilies   & TRUE & TRUE\\\\\n",
       "\t5 & 0376d9bd13537af8cd39a4b7143e7ee9 & syria &  & 0a63bef4 & afghanistan, burma      , congo      , colombia   , guatemala  , honduras   , iran       , iraq       , moldova    , peru       , syria      , ukraine    , venezuela   & SingleIndividualFemale, SingleIndividualMale  , SingleParentFamilies   & TRUE & TRUE\\\\\n",
       "\\end{tabular}\n"
      ],
      "text/markdown": [
       "\n",
       "A data.frame: 5 x 8\n",
       "\n",
       "| <!--/--> | case_id &lt;chr&gt; | unique_nationalities_c &lt;list&gt; | constraints &lt;list&gt; | arrival_location_id &lt;chr&gt; | unique_nationalities_l &lt;list&gt; | unique_casetype_l &lt;list&gt; | location_accom &lt;lgl&gt; | case_accom &lt;lgl&gt; |\n",
       "|---|---|---|---|---|---|---|---|---|\n",
       "| 1 | 3016d6f92dbf2c4b4734cd34e34e5b76 | colombia | <!----> | 0a63bef4 | afghanistan, burma      , congo      , colombia   , guatemala  , honduras   , iran       , iraq       , moldova    , peru       , syria      , ukraine    , venezuela   | SingleIndividualFemale, SingleIndividualMale  , SingleParentFamilies   | TRUE | TRUE |\n",
       "| 2 | 5af9e51b30600d5957da5eb48509a368 | venezuela | SingleParentFamilies | 0a63bef4 | afghanistan, burma      , congo      , colombia   , guatemala  , honduras   , iran       , iraq       , moldova    , peru       , syria      , ukraine    , venezuela   | SingleIndividualFemale, SingleIndividualMale  , SingleParentFamilies   | TRUE | TRUE |\n",
       "| 3 | ccae717b09082b7528132b8c18c91b24 | syria | <!----> | 0a63bef4 | afghanistan, burma      , congo      , colombia   , guatemala  , honduras   , iran       , iraq       , moldova    , peru       , syria      , ukraine    , venezuela   | SingleIndividualFemale, SingleIndividualMale  , SingleParentFamilies   | TRUE | TRUE |\n",
       "| 4 | ebe9adc54f7edcfa281ea7f247f80465 | venezuela | SingleParentFamilies | 0a63bef4 | afghanistan, burma      , congo      , colombia   , guatemala  , honduras   , iran       , iraq       , moldova    , peru       , syria      , ukraine    , venezuela   | SingleIndividualFemale, SingleIndividualMale  , SingleParentFamilies   | TRUE | TRUE |\n",
       "| 5 | 0376d9bd13537af8cd39a4b7143e7ee9 | syria | <!----> | 0a63bef4 | afghanistan, burma      , congo      , colombia   , guatemala  , honduras   , iran       , iraq       , moldova    , peru       , syria      , ukraine    , venezuela   | SingleIndividualFemale, SingleIndividualMale  , SingleParentFamilies   | TRUE | TRUE |\n",
       "\n"
      ],
      "text/plain": [
       "  case_id                          unique_nationalities_c constraints         \n",
       "1 3016d6f92dbf2c4b4734cd34e34e5b76 colombia                                   \n",
       "2 5af9e51b30600d5957da5eb48509a368 venezuela              SingleParentFamilies\n",
       "3 ccae717b09082b7528132b8c18c91b24 syria                                      \n",
       "4 ebe9adc54f7edcfa281ea7f247f80465 venezuela              SingleParentFamilies\n",
       "5 0376d9bd13537af8cd39a4b7143e7ee9 syria                                      \n",
       "  arrival_location_id\n",
       "1 0a63bef4           \n",
       "2 0a63bef4           \n",
       "3 0a63bef4           \n",
       "4 0a63bef4           \n",
       "5 0a63bef4           \n",
       "  unique_nationalities_l                                                                                                                                                 \n",
       "1 afghanistan, burma      , congo      , colombia   , guatemala  , honduras   , iran       , iraq       , moldova    , peru       , syria      , ukraine    , venezuela  \n",
       "2 afghanistan, burma      , congo      , colombia   , guatemala  , honduras   , iran       , iraq       , moldova    , peru       , syria      , ukraine    , venezuela  \n",
       "3 afghanistan, burma      , congo      , colombia   , guatemala  , honduras   , iran       , iraq       , moldova    , peru       , syria      , ukraine    , venezuela  \n",
       "4 afghanistan, burma      , congo      , colombia   , guatemala  , honduras   , iran       , iraq       , moldova    , peru       , syria      , ukraine    , venezuela  \n",
       "5 afghanistan, burma      , congo      , colombia   , guatemala  , honduras   , iran       , iraq       , moldova    , peru       , syria      , ukraine    , venezuela  \n",
       "  unique_casetype_l                                                     \n",
       "1 SingleIndividualFemale, SingleIndividualMale  , SingleParentFamilies  \n",
       "2 SingleIndividualFemale, SingleIndividualMale  , SingleParentFamilies  \n",
       "3 SingleIndividualFemale, SingleIndividualMale  , SingleParentFamilies  \n",
       "4 SingleIndividualFemale, SingleIndividualMale  , SingleParentFamilies  \n",
       "5 SingleIndividualFemale, SingleIndividualMale  , SingleParentFamilies  \n",
       "  location_accom case_accom\n",
       "1 TRUE           TRUE      \n",
       "2 TRUE           TRUE      \n",
       "3 TRUE           TRUE      \n",
       "4 TRUE           TRUE      \n",
       "5 TRUE           TRUE      "
      ]
     },
     "metadata": {},
     "output_type": "display_data"
    }
   ],
   "source": [
    "dim(eligible_cases)\n",
    "head(eligible_cases, 5)\n",
    "\n",
    "# eligible_cases"
   ]
  },
  {
   "cell_type": "markdown",
   "metadata": {},
   "source": [
    "## Question 2 - Part A"
   ]
  },
  {
   "cell_type": "code",
   "execution_count": 23,
   "metadata": {
    "vscode": {
     "languageId": "r"
    }
   },
   "outputs": [
    {
     "data": {
      "text/html": [
       "<table class=\"dataframe\">\n",
       "<caption>A tibble: 5 x 2</caption>\n",
       "<thead>\n",
       "\t<tr><th scope=col>case_id</th><th scope=col>count_of_locations</th></tr>\n",
       "\t<tr><th scope=col>&lt;chr&gt;</th><th scope=col>&lt;int&gt;</th></tr>\n",
       "</thead>\n",
       "<tbody>\n",
       "\t<tr><td>00ebf80e98ad62ff7fbc2e7b423f592a</td><td>24</td></tr>\n",
       "\t<tr><td>01c06c951c9a5f4c57e19975e70f9f6e</td><td>29</td></tr>\n",
       "\t<tr><td>01ec723682e2a490d930a06e38ba6891</td><td>33</td></tr>\n",
       "\t<tr><td>0376d9bd13537af8cd39a4b7143e7ee9</td><td>33</td></tr>\n",
       "\t<tr><td>0421935425294ee30e13f865c168b8f2</td><td>21</td></tr>\n",
       "</tbody>\n",
       "</table>\n"
      ],
      "text/latex": [
       "A tibble: 5 x 2\n",
       "\\begin{tabular}{ll}\n",
       " case\\_id & count\\_of\\_locations\\\\\n",
       " <chr> & <int>\\\\\n",
       "\\hline\n",
       "\t 00ebf80e98ad62ff7fbc2e7b423f592a & 24\\\\\n",
       "\t 01c06c951c9a5f4c57e19975e70f9f6e & 29\\\\\n",
       "\t 01ec723682e2a490d930a06e38ba6891 & 33\\\\\n",
       "\t 0376d9bd13537af8cd39a4b7143e7ee9 & 33\\\\\n",
       "\t 0421935425294ee30e13f865c168b8f2 & 21\\\\\n",
       "\\end{tabular}\n"
      ],
      "text/markdown": [
       "\n",
       "A tibble: 5 x 2\n",
       "\n",
       "| case_id &lt;chr&gt; | count_of_locations &lt;int&gt; |\n",
       "|---|---|\n",
       "| 00ebf80e98ad62ff7fbc2e7b423f592a | 24 |\n",
       "| 01c06c951c9a5f4c57e19975e70f9f6e | 29 |\n",
       "| 01ec723682e2a490d930a06e38ba6891 | 33 |\n",
       "| 0376d9bd13537af8cd39a4b7143e7ee9 | 33 |\n",
       "| 0421935425294ee30e13f865c168b8f2 | 21 |\n",
       "\n"
      ],
      "text/plain": [
       "  case_id                          count_of_locations\n",
       "1 00ebf80e98ad62ff7fbc2e7b423f592a 24                \n",
       "2 01c06c951c9a5f4c57e19975e70f9f6e 29                \n",
       "3 01ec723682e2a490d930a06e38ba6891 33                \n",
       "4 0376d9bd13537af8cd39a4b7143e7ee9 33                \n",
       "5 0421935425294ee30e13f865c168b8f2 21                "
      ]
     },
     "metadata": {},
     "output_type": "display_data"
    },
    {
     "name": "stdout",
     "output_type": "stream",
     "text": [
      "[1] 24.83886\n"
     ]
    }
   ],
   "source": [
    "# in eligible_cases, group by case_id and count the number of arrival_location_id\n",
    "\n",
    "eligible_cases_count <- eligible_cases %>%\n",
    "                         group_by(case_id) %>% \n",
    "                         summarise(count_of_locations = n())\n",
    "                         \n",
    "head(eligible_cases_count, 5)\n",
    "\n",
    "#avg of count_of_locations\n",
    "avg_count_of_locations <- mean(eligible_cases_count$count_of_locations)\n",
    "print(avg_count_of_locations)"
   ]
  },
  {
   "cell_type": "markdown",
   "metadata": {},
   "source": [
    "### Avegage locations eligible across all free cases is 24.83"
   ]
  },
  {
   "cell_type": "markdown",
   "metadata": {},
   "source": [
    "## Question 2 Part B"
   ]
  },
  {
   "cell_type": "code",
   "execution_count": 24,
   "metadata": {
    "vscode": {
     "languageId": "r"
    }
   },
   "outputs": [
    {
     "name": "stdout",
     "output_type": "stream",
     "text": [
      "[1] 2\n"
     ]
    }
   ],
   "source": [
    "min_count_of_locations <- min(eligible_cases_count$count_of_locations)\n",
    "print(min_count_of_locations)"
   ]
  },
  {
   "cell_type": "markdown",
   "metadata": {},
   "source": [
    "### Min num of locations eligible across all free cases is 2"
   ]
  },
  {
   "cell_type": "markdown",
   "metadata": {},
   "source": [
    "## Question 2 Part C"
   ]
  },
  {
   "cell_type": "code",
   "execution_count": 25,
   "metadata": {
    "vscode": {
     "languageId": "r"
    }
   },
   "outputs": [
    {
     "name": "stdout",
     "output_type": "stream",
     "text": [
      "[1] 45\n"
     ]
    }
   ],
   "source": [
    "max_count_of_locations <- max(eligible_cases_count$count_of_locations)\n",
    "print(max_count_of_locations)"
   ]
  },
  {
   "cell_type": "markdown",
   "metadata": {},
   "source": [
    "### Max num of locations eligible across all free cases is 45"
   ]
  },
  {
   "cell_type": "markdown",
   "metadata": {},
   "source": [
    "### Eligible locations for each case"
   ]
  },
  {
   "cell_type": "code",
   "execution_count": 26,
   "metadata": {
    "vscode": {
     "languageId": "r"
    }
   },
   "outputs": [
    {
     "data": {
      "text/html": [
       "<table class=\"dataframe\">\n",
       "<caption>A tibble: 5 x 3</caption>\n",
       "<thead>\n",
       "\t<tr><th scope=col>case_id</th><th scope=col>unique_locations</th><th scope=col>count_of_unique_locations</th></tr>\n",
       "\t<tr><th scope=col>&lt;chr&gt;</th><th scope=col>&lt;list&gt;</th><th scope=col>&lt;int&gt;</th></tr>\n",
       "</thead>\n",
       "<tbody>\n",
       "\t<tr><td>3fc41c6d61713e249759adb790b52e53</td><td>0a91d577, cc1dfeed</td><td>2</td></tr>\n",
       "\t<tr><td>52e40eb234ae4e915249c8f1b151d72b</td><td>0a91d577, 3e767dee</td><td>2</td></tr>\n",
       "\t<tr><td>85b51a5743da5d3afa3f4fff5e49930c</td><td>0a91d577, 3e767dee</td><td>2</td></tr>\n",
       "\t<tr><td>87253f40d2bb0828aebd58d5dacdc64e</td><td>0a91d577, eb58ce03</td><td>2</td></tr>\n",
       "\t<tr><td>95c52b4f4e134fa302b8b73237e073d8</td><td>0a91d577, 3e767dee</td><td>2</td></tr>\n",
       "</tbody>\n",
       "</table>\n"
      ],
      "text/latex": [
       "A tibble: 5 x 3\n",
       "\\begin{tabular}{lll}\n",
       " case\\_id & unique\\_locations & count\\_of\\_unique\\_locations\\\\\n",
       " <chr> & <list> & <int>\\\\\n",
       "\\hline\n",
       "\t 3fc41c6d61713e249759adb790b52e53 & 0a91d577, cc1dfeed & 2\\\\\n",
       "\t 52e40eb234ae4e915249c8f1b151d72b & 0a91d577, 3e767dee & 2\\\\\n",
       "\t 85b51a5743da5d3afa3f4fff5e49930c & 0a91d577, 3e767dee & 2\\\\\n",
       "\t 87253f40d2bb0828aebd58d5dacdc64e & 0a91d577, eb58ce03 & 2\\\\\n",
       "\t 95c52b4f4e134fa302b8b73237e073d8 & 0a91d577, 3e767dee & 2\\\\\n",
       "\\end{tabular}\n"
      ],
      "text/markdown": [
       "\n",
       "A tibble: 5 x 3\n",
       "\n",
       "| case_id &lt;chr&gt; | unique_locations &lt;list&gt; | count_of_unique_locations &lt;int&gt; |\n",
       "|---|---|---|\n",
       "| 3fc41c6d61713e249759adb790b52e53 | 0a91d577, cc1dfeed | 2 |\n",
       "| 52e40eb234ae4e915249c8f1b151d72b | 0a91d577, 3e767dee | 2 |\n",
       "| 85b51a5743da5d3afa3f4fff5e49930c | 0a91d577, 3e767dee | 2 |\n",
       "| 87253f40d2bb0828aebd58d5dacdc64e | 0a91d577, eb58ce03 | 2 |\n",
       "| 95c52b4f4e134fa302b8b73237e073d8 | 0a91d577, 3e767dee | 2 |\n",
       "\n"
      ],
      "text/plain": [
       "  case_id                          unique_locations   count_of_unique_locations\n",
       "1 3fc41c6d61713e249759adb790b52e53 0a91d577, cc1dfeed 2                        \n",
       "2 52e40eb234ae4e915249c8f1b151d72b 0a91d577, 3e767dee 2                        \n",
       "3 85b51a5743da5d3afa3f4fff5e49930c 0a91d577, 3e767dee 2                        \n",
       "4 87253f40d2bb0828aebd58d5dacdc64e 0a91d577, eb58ce03 2                        \n",
       "5 95c52b4f4e134fa302b8b73237e073d8 0a91d577, 3e767dee 2                        "
      ]
     },
     "metadata": {},
     "output_type": "display_data"
    },
    {
     "data": {
      "text/html": [
       "<table class=\"dataframe\">\n",
       "<caption>A tibble: 2 x 3</caption>\n",
       "<thead>\n",
       "\t<tr><th scope=col>case_id</th><th scope=col>unique_locations</th><th scope=col>count_of_unique_locations</th></tr>\n",
       "\t<tr><th scope=col>&lt;chr&gt;</th><th scope=col>&lt;list&gt;</th><th scope=col>&lt;int&gt;</th></tr>\n",
       "</thead>\n",
       "<tbody>\n",
       "\t<tr><td>0bd41fb94257003e5e5d7c3c8f8d12ed</td><td>0a63bef4, 0b8769f2, 11b8b71f, 18d79a06, 19334d00, 19c12683, 2449a303, 2c30329f, 2cc2591c, 2d268e1a, 2e1d4b95, 371950f7, 3e767dee, 3f60c16b, 3f92aae8, 450d082e, 45ff63ad, 47d21aa7, 700e77b1, 7335b23e, 7a5a9f27, 815e313d, 8265f4b2, 88311c24, 91350746, a4c4135a, b5b999a4, b794e0ae, c572d3f4, cc1dfeed, cd0b4268, cdf929eb, d6222000, dc76c896, de5bb19c, dea9da1f, df4d0d19, e3d3341c, eabc1905, eb58ce03, ebaaa580, f083c7e8, f8083df7, f8fa5674, f9eceaf1</td><td>45</td></tr>\n",
       "\t<tr><td>0fc6b939596e8edafcd96065f9c1e75e</td><td>0a63bef4, 0b8769f2, 11b8b71f, 18d79a06, 19334d00, 19c12683, 2449a303, 2c30329f, 2cc2591c, 2d268e1a, 2e1d4b95, 371950f7, 3e767dee, 3f60c16b, 3f92aae8, 450d082e, 45ff63ad, 47d21aa7, 700e77b1, 7335b23e, 7a5a9f27, 815e313d, 8265f4b2, 88311c24, 91350746, a4c4135a, b5b999a4, b794e0ae, c572d3f4, cc1dfeed, cd0b4268, cdf929eb, d6222000, dc76c896, de5bb19c, dea9da1f, df4d0d19, e3d3341c, eabc1905, eb58ce03, ebaaa580, f083c7e8, f8083df7, f8fa5674, f9eceaf1</td><td>45</td></tr>\n",
       "</tbody>\n",
       "</table>\n"
      ],
      "text/latex": [
       "A tibble: 2 x 3\n",
       "\\begin{tabular}{lll}\n",
       " case\\_id & unique\\_locations & count\\_of\\_unique\\_locations\\\\\n",
       " <chr> & <list> & <int>\\\\\n",
       "\\hline\n",
       "\t 0bd41fb94257003e5e5d7c3c8f8d12ed & 0a63bef4, 0b8769f2, 11b8b71f, 18d79a06, 19334d00, 19c12683, 2449a303, 2c30329f, 2cc2591c, 2d268e1a, 2e1d4b95, 371950f7, 3e767dee, 3f60c16b, 3f92aae8, 450d082e, 45ff63ad, 47d21aa7, 700e77b1, 7335b23e, 7a5a9f27, 815e313d, 8265f4b2, 88311c24, 91350746, a4c4135a, b5b999a4, b794e0ae, c572d3f4, cc1dfeed, cd0b4268, cdf929eb, d6222000, dc76c896, de5bb19c, dea9da1f, df4d0d19, e3d3341c, eabc1905, eb58ce03, ebaaa580, f083c7e8, f8083df7, f8fa5674, f9eceaf1 & 45\\\\\n",
       "\t 0fc6b939596e8edafcd96065f9c1e75e & 0a63bef4, 0b8769f2, 11b8b71f, 18d79a06, 19334d00, 19c12683, 2449a303, 2c30329f, 2cc2591c, 2d268e1a, 2e1d4b95, 371950f7, 3e767dee, 3f60c16b, 3f92aae8, 450d082e, 45ff63ad, 47d21aa7, 700e77b1, 7335b23e, 7a5a9f27, 815e313d, 8265f4b2, 88311c24, 91350746, a4c4135a, b5b999a4, b794e0ae, c572d3f4, cc1dfeed, cd0b4268, cdf929eb, d6222000, dc76c896, de5bb19c, dea9da1f, df4d0d19, e3d3341c, eabc1905, eb58ce03, ebaaa580, f083c7e8, f8083df7, f8fa5674, f9eceaf1 & 45\\\\\n",
       "\\end{tabular}\n"
      ],
      "text/markdown": [
       "\n",
       "A tibble: 2 x 3\n",
       "\n",
       "| case_id &lt;chr&gt; | unique_locations &lt;list&gt; | count_of_unique_locations &lt;int&gt; |\n",
       "|---|---|---|\n",
       "| 0bd41fb94257003e5e5d7c3c8f8d12ed | 0a63bef4, 0b8769f2, 11b8b71f, 18d79a06, 19334d00, 19c12683, 2449a303, 2c30329f, 2cc2591c, 2d268e1a, 2e1d4b95, 371950f7, 3e767dee, 3f60c16b, 3f92aae8, 450d082e, 45ff63ad, 47d21aa7, 700e77b1, 7335b23e, 7a5a9f27, 815e313d, 8265f4b2, 88311c24, 91350746, a4c4135a, b5b999a4, b794e0ae, c572d3f4, cc1dfeed, cd0b4268, cdf929eb, d6222000, dc76c896, de5bb19c, dea9da1f, df4d0d19, e3d3341c, eabc1905, eb58ce03, ebaaa580, f083c7e8, f8083df7, f8fa5674, f9eceaf1 | 45 |\n",
       "| 0fc6b939596e8edafcd96065f9c1e75e | 0a63bef4, 0b8769f2, 11b8b71f, 18d79a06, 19334d00, 19c12683, 2449a303, 2c30329f, 2cc2591c, 2d268e1a, 2e1d4b95, 371950f7, 3e767dee, 3f60c16b, 3f92aae8, 450d082e, 45ff63ad, 47d21aa7, 700e77b1, 7335b23e, 7a5a9f27, 815e313d, 8265f4b2, 88311c24, 91350746, a4c4135a, b5b999a4, b794e0ae, c572d3f4, cc1dfeed, cd0b4268, cdf929eb, d6222000, dc76c896, de5bb19c, dea9da1f, df4d0d19, e3d3341c, eabc1905, eb58ce03, ebaaa580, f083c7e8, f8083df7, f8fa5674, f9eceaf1 | 45 |\n",
       "\n"
      ],
      "text/plain": [
       "  case_id                         \n",
       "1 0bd41fb94257003e5e5d7c3c8f8d12ed\n",
       "2 0fc6b939596e8edafcd96065f9c1e75e\n",
       "  unique_locations                                                                                                                                                                                                                                                                                                                                                                                                                                                \n",
       "1 0a63bef4, 0b8769f2, 11b8b71f, 18d79a06, 19334d00, 19c12683, 2449a303, 2c30329f, 2cc2591c, 2d268e1a, 2e1d4b95, 371950f7, 3e767dee, 3f60c16b, 3f92aae8, 450d082e, 45ff63ad, 47d21aa7, 700e77b1, 7335b23e, 7a5a9f27, 815e313d, 8265f4b2, 88311c24, 91350746, a4c4135a, b5b999a4, b794e0ae, c572d3f4, cc1dfeed, cd0b4268, cdf929eb, d6222000, dc76c896, de5bb19c, dea9da1f, df4d0d19, e3d3341c, eabc1905, eb58ce03, ebaaa580, f083c7e8, f8083df7, f8fa5674, f9eceaf1\n",
       "2 0a63bef4, 0b8769f2, 11b8b71f, 18d79a06, 19334d00, 19c12683, 2449a303, 2c30329f, 2cc2591c, 2d268e1a, 2e1d4b95, 371950f7, 3e767dee, 3f60c16b, 3f92aae8, 450d082e, 45ff63ad, 47d21aa7, 700e77b1, 7335b23e, 7a5a9f27, 815e313d, 8265f4b2, 88311c24, 91350746, a4c4135a, b5b999a4, b794e0ae, c572d3f4, cc1dfeed, cd0b4268, cdf929eb, d6222000, dc76c896, de5bb19c, dea9da1f, df4d0d19, e3d3341c, eabc1905, eb58ce03, ebaaa580, f083c7e8, f8083df7, f8fa5674, f9eceaf1\n",
       "  count_of_unique_locations\n",
       "1 45                       \n",
       "2 45                       "
      ]
     },
     "metadata": {},
     "output_type": "display_data"
    }
   ],
   "source": [
    "# for each case_id, find the list of unique arrival_location_id, and number of unique arrival_location_id\n",
    "\n",
    "\n",
    "unique_locations_per_case <- eligible_cases %>% group_by(case_id) %>%\n",
    " summarise(\n",
    "    unique_locations = list(unique(arrival_location_id)) , \n",
    "    count_of_unique_locations = n_distinct(arrival_location_id)\n",
    "    ) %>% \n",
    "    arrange(desc(count_of_unique_locations))\n",
    "\n",
    " tail(unique_locations_per_case, 5)\n",
    " head(unique_locations_per_case, 2)"
   ]
  },
  {
   "cell_type": "code",
   "execution_count": 27,
   "metadata": {
    "vscode": {
     "languageId": "r"
    }
   },
   "outputs": [
    {
     "data": {
      "text/html": [
       "<style>\n",
       ".list-inline {list-style: none; margin:0; padding: 0}\n",
       ".list-inline>li {display: inline-block}\n",
       ".list-inline>li:not(:last-child)::after {content: \"\\00b7\"; padding: 0 .5ex}\n",
       "</style>\n",
       "<ol class=list-inline><li>15</li><li>3</li></ol>\n"
      ],
      "text/latex": [
       "\\begin{enumerate*}\n",
       "\\item 15\n",
       "\\item 3\n",
       "\\end{enumerate*}\n"
      ],
      "text/markdown": [
       "1. 15\n",
       "2. 3\n",
       "\n",
       "\n"
      ],
      "text/plain": [
       "[1] 15  3"
      ]
     },
     "metadata": {},
     "output_type": "display_data"
    }
   ],
   "source": [
    "#how many cases have 45 unique locations\n",
    "dim(unique_locations_per_case %>% filter (count_of_unique_locations == 45))\n"
   ]
  },
  {
   "cell_type": "code",
   "execution_count": 28,
   "metadata": {
    "vscode": {
     "languageId": "r"
    }
   },
   "outputs": [
    {
     "data": {
      "text/html": [
       "<table class=\"dataframe\">\n",
       "<caption>A tibble: 5 x 2</caption>\n",
       "<thead>\n",
       "\t<tr><th scope=col>count_of_unique_locations</th><th scope=col>freq</th></tr>\n",
       "\t<tr><th scope=col>&lt;int&gt;</th><th scope=col>&lt;int&gt;</th></tr>\n",
       "</thead>\n",
       "<tbody>\n",
       "\t<tr><td>33</td><td>34</td></tr>\n",
       "\t<tr><td>24</td><td>29</td></tr>\n",
       "\t<tr><td>29</td><td>24</td></tr>\n",
       "\t<tr><td>45</td><td>15</td></tr>\n",
       "\t<tr><td>27</td><td>12</td></tr>\n",
       "</tbody>\n",
       "</table>\n"
      ],
      "text/latex": [
       "A tibble: 5 x 2\n",
       "\\begin{tabular}{ll}\n",
       " count\\_of\\_unique\\_locations & freq\\\\\n",
       " <int> & <int>\\\\\n",
       "\\hline\n",
       "\t 33 & 34\\\\\n",
       "\t 24 & 29\\\\\n",
       "\t 29 & 24\\\\\n",
       "\t 45 & 15\\\\\n",
       "\t 27 & 12\\\\\n",
       "\\end{tabular}\n"
      ],
      "text/markdown": [
       "\n",
       "A tibble: 5 x 2\n",
       "\n",
       "| count_of_unique_locations &lt;int&gt; | freq &lt;int&gt; |\n",
       "|---|---|\n",
       "| 33 | 34 |\n",
       "| 24 | 29 |\n",
       "| 29 | 24 |\n",
       "| 45 | 15 |\n",
       "| 27 | 12 |\n",
       "\n"
      ],
      "text/plain": [
       "  count_of_unique_locations freq\n",
       "1 33                        34  \n",
       "2 24                        29  \n",
       "3 29                        24  \n",
       "4 45                        15  \n",
       "5 27                        12  "
      ]
     },
     "metadata": {},
     "output_type": "display_data"
    }
   ],
   "source": [
    "# frequency of count_of_unique_locations\n",
    "\n",
    "count_of_locations_freq  =  unique_locations_per_case %>% \n",
    "group_by(count_of_unique_locations) %>%\n",
    " summarise(freq = n())  %>%\n",
    "    arrange(desc(freq))\n",
    "    \n",
    "head(count_of_locations_freq, 5)"
   ]
  },
  {
   "cell_type": "markdown",
   "metadata": {},
   "source": [
    "### Barplot of count_of_unique_locations for each case"
   ]
  },
  {
   "cell_type": "code",
   "execution_count": 29,
   "metadata": {
    "vscode": {
     "languageId": "r"
    }
   },
   "outputs": [
    {
     "data": {
      "image/png": "[encoded data removed]",
      "text/plain": [
       "Plot with title \"Frequency of unique locations per case\""
      ]
     },
     "metadata": {
      "image/png": {
       "height": 420,
       "width": 420
      }
     },
     "output_type": "display_data"
    }
   ],
   "source": [
    "#barplot of count_of_unique_locations for each case\n",
    "\n",
    "count_of_locations_freq <- count_of_locations_freq %>% \n",
    "                                    arrange(count_of_unique_locations)\n",
    "\n",
    "#set background color to white\n",
    "par(bg=\"white\")\n",
    "\n",
    "barplot(count_of_locations_freq$freq, names.arg = count_of_locations_freq$count_of_unique_locations,\n",
    " xlab = \"Number of unique locations\",\n",
    " ylab = \"Frequency\",\n",
    "  main = \"Frequency of unique locations per case\")\n",
    "\n"
   ]
  },
  {
   "cell_type": "markdown",
   "metadata": {},
   "source": [
    "### Refugees by nationality"
   ]
  },
  {
   "cell_type": "code",
   "execution_count": 30,
   "metadata": {
    "vscode": {
     "languageId": "r"
    }
   },
   "outputs": [
    {
     "data": {
      "text/html": [
       "<table class=\"dataframe\">\n",
       "<caption>A tibble: 5 x 2</caption>\n",
       "<thead>\n",
       "\t<tr><th scope=col>Nationality_norm</th><th scope=col>count</th></tr>\n",
       "\t<tr><th scope=col>&lt;fct&gt;</th><th scope=col>&lt;int&gt;</th></tr>\n",
       "</thead>\n",
       "<tbody>\n",
       "\t<tr><td>afghanistan</td><td>569</td></tr>\n",
       "\t<tr><td>demrepcongo</td><td>395</td></tr>\n",
       "\t<tr><td>burma      </td><td>281</td></tr>\n",
       "\t<tr><td>syria      </td><td>162</td></tr>\n",
       "\t<tr><td>iraq       </td><td> 49</td></tr>\n",
       "</tbody>\n",
       "</table>\n"
      ],
      "text/latex": [
       "A tibble: 5 x 2\n",
       "\\begin{tabular}{ll}\n",
       " Nationality\\_norm & count\\\\\n",
       " <fct> & <int>\\\\\n",
       "\\hline\n",
       "\t afghanistan & 569\\\\\n",
       "\t demrepcongo & 395\\\\\n",
       "\t burma       & 281\\\\\n",
       "\t syria       & 162\\\\\n",
       "\t iraq        &  49\\\\\n",
       "\\end{tabular}\n"
      ],
      "text/markdown": [
       "\n",
       "A tibble: 5 x 2\n",
       "\n",
       "| Nationality_norm &lt;fct&gt; | count &lt;int&gt; |\n",
       "|---|---|\n",
       "| afghanistan | 569 |\n",
       "| demrepcongo | 395 |\n",
       "| burma       | 281 |\n",
       "| syria       | 162 |\n",
       "| iraq        |  49 |\n",
       "\n"
      ],
      "text/plain": [
       "  Nationality_norm count\n",
       "1 afghanistan      569  \n",
       "2 demrepcongo      395  \n",
       "3 burma            281  \n",
       "4 syria            162  \n",
       "5 iraq              49  "
      ]
     },
     "metadata": {},
     "output_type": "display_data"
    }
   ],
   "source": [
    "### Which nationality has the most refugees\n",
    "# head(data)\n",
    "\n",
    "head(data %>% group_by(Nationality_norm) %>% \n",
    "        summarise(count = n()) %>%\n",
    "         arrange(desc(count)),5)"
   ]
  },
  {
   "cell_type": "markdown",
   "metadata": {},
   "source": []
  },
  {
   "cell_type": "markdown",
   "metadata": {},
   "source": [
    "#### Locations with the most eligible cases"
   ]
  },
  {
   "cell_type": "code",
   "execution_count": 31,
   "metadata": {
    "vscode": {
     "languageId": "r"
    }
   },
   "outputs": [
    {
     "data": {
      "text/html": [
       "<table class=\"dataframe\">\n",
       "<caption>A tibble: 5 x 2</caption>\n",
       "<thead>\n",
       "\t<tr><th scope=col>arrival_location_id</th><th scope=col>count_of_cases</th></tr>\n",
       "\t<tr><th scope=col>&lt;chr&gt;</th><th scope=col>&lt;int&gt;</th></tr>\n",
       "</thead>\n",
       "<tbody>\n",
       "\t<tr><td>2cc2591c</td><td>188</td></tr>\n",
       "\t<tr><td>0a91d577</td><td>185</td></tr>\n",
       "\t<tr><td>0b8769f2</td><td>181</td></tr>\n",
       "\t<tr><td>eb58ce03</td><td>181</td></tr>\n",
       "\t<tr><td>450d082e</td><td>178</td></tr>\n",
       "</tbody>\n",
       "</table>\n"
      ],
      "text/latex": [
       "A tibble: 5 x 2\n",
       "\\begin{tabular}{ll}\n",
       " arrival\\_location\\_id & count\\_of\\_cases\\\\\n",
       " <chr> & <int>\\\\\n",
       "\\hline\n",
       "\t 2cc2591c & 188\\\\\n",
       "\t 0a91d577 & 185\\\\\n",
       "\t 0b8769f2 & 181\\\\\n",
       "\t eb58ce03 & 181\\\\\n",
       "\t 450d082e & 178\\\\\n",
       "\\end{tabular}\n"
      ],
      "text/markdown": [
       "\n",
       "A tibble: 5 x 2\n",
       "\n",
       "| arrival_location_id &lt;chr&gt; | count_of_cases &lt;int&gt; |\n",
       "|---|---|\n",
       "| 2cc2591c | 188 |\n",
       "| 0a91d577 | 185 |\n",
       "| 0b8769f2 | 181 |\n",
       "| eb58ce03 | 181 |\n",
       "| 450d082e | 178 |\n",
       "\n"
      ],
      "text/plain": [
       "  arrival_location_id count_of_cases\n",
       "1 2cc2591c            188           \n",
       "2 0a91d577            185           \n",
       "3 0b8769f2            181           \n",
       "4 eb58ce03            181           \n",
       "5 450d082e            178           "
      ]
     },
     "metadata": {},
     "output_type": "display_data"
    },
    {
     "data": {
      "text/html": [
       "<table class=\"dataframe\">\n",
       "<caption>A tibble: 5 x 2</caption>\n",
       "<thead>\n",
       "\t<tr><th scope=col>arrival_location_id</th><th scope=col>count_of_cases</th></tr>\n",
       "\t<tr><th scope=col>&lt;chr&gt;</th><th scope=col>&lt;int&gt;</th></tr>\n",
       "</thead>\n",
       "<tbody>\n",
       "\t<tr><td>b5b999a4</td><td>25</td></tr>\n",
       "\t<tr><td>dc76c896</td><td>25</td></tr>\n",
       "\t<tr><td>f8083df7</td><td>19</td></tr>\n",
       "\t<tr><td>a61b01d3</td><td>11</td></tr>\n",
       "\t<tr><td>635e8445</td><td> 1</td></tr>\n",
       "</tbody>\n",
       "</table>\n"
      ],
      "text/latex": [
       "A tibble: 5 x 2\n",
       "\\begin{tabular}{ll}\n",
       " arrival\\_location\\_id & count\\_of\\_cases\\\\\n",
       " <chr> & <int>\\\\\n",
       "\\hline\n",
       "\t b5b999a4 & 25\\\\\n",
       "\t dc76c896 & 25\\\\\n",
       "\t f8083df7 & 19\\\\\n",
       "\t a61b01d3 & 11\\\\\n",
       "\t 635e8445 &  1\\\\\n",
       "\\end{tabular}\n"
      ],
      "text/markdown": [
       "\n",
       "A tibble: 5 x 2\n",
       "\n",
       "| arrival_location_id &lt;chr&gt; | count_of_cases &lt;int&gt; |\n",
       "|---|---|\n",
       "| b5b999a4 | 25 |\n",
       "| dc76c896 | 25 |\n",
       "| f8083df7 | 19 |\n",
       "| a61b01d3 | 11 |\n",
       "| 635e8445 |  1 |\n",
       "\n"
      ],
      "text/plain": [
       "  arrival_location_id count_of_cases\n",
       "1 b5b999a4            25            \n",
       "2 dc76c896            25            \n",
       "3 f8083df7            19            \n",
       "4 a61b01d3            11            \n",
       "5 635e8445             1            "
      ]
     },
     "metadata": {},
     "output_type": "display_data"
    }
   ],
   "source": [
    "# for each location_id, find the number of eligible cases\n",
    "\n",
    "cases_per_location <- eligible_cases %>% \n",
    "                        group_by(arrival_location_id) %>%\n",
    "                        summarise(count_of_cases = n()) %>%\n",
    "                        arrange(desc(count_of_cases))\n",
    "\n",
    "\n",
    "head(cases_per_location, 5)\n",
    "\n",
    "tail(cases_per_location, 5)"
   ]
  },
  {
   "cell_type": "markdown",
   "metadata": {},
   "source": [
    "# QUESTION 3 - Algorithmic Placements\n"
   ]
  },
  {
   "cell_type": "markdown",
   "metadata": {},
   "source": [
    "APPROACH\n",
    "\n",
    "For each case (group the cohort data by case to get this information) : do the following: \n",
    " 1. For each non free case, assign it to the pre existing location \n",
    " 2. For free cases, check eligible locations (calculated in Q2)\n",
    " 3. Check those locations whose capacity >= case_size\n",
    " 4. Check for the location with lowest buildup\n",
    " 5. in case of a tie, choose the one with lowest arrival order\n",
    " 6. Update buildup and capacity\n"
   ]
  },
  {
   "cell_type": "code",
   "execution_count": 32,
   "metadata": {
    "vscode": {
     "languageId": "r"
    }
   },
   "outputs": [
    {
     "data": {
      "text/html": [
       "<table class=\"dataframe\">\n",
       "<caption>A tibble: 5 x 3</caption>\n",
       "<thead>\n",
       "\t<tr><th scope=col>arrival_location_id</th><th scope=col>capacity_quota</th><th scope=col>capacity_rate</th></tr>\n",
       "\t<tr><th scope=col>&lt;chr&gt;</th><th scope=col>&lt;dbl&gt;</th><th scope=col>&lt;dbl&gt;</th></tr>\n",
       "</thead>\n",
       "<tbody>\n",
       "\t<tr><td>0a63bef4</td><td>57</td><td> 59.50877</td></tr>\n",
       "\t<tr><td>0a91d577</td><td>34</td><td> 99.76471</td></tr>\n",
       "\t<tr><td>0b8769f2</td><td>32</td><td>106.00000</td></tr>\n",
       "\t<tr><td>11b8b71f</td><td>65</td><td> 52.18462</td></tr>\n",
       "\t<tr><td>18d79a06</td><td>47</td><td> 72.17021</td></tr>\n",
       "</tbody>\n",
       "</table>\n"
      ],
      "text/latex": [
       "A tibble: 5 x 3\n",
       "\\begin{tabular}{lll}\n",
       " arrival\\_location\\_id & capacity\\_quota & capacity\\_rate\\\\\n",
       " <chr> & <dbl> & <dbl>\\\\\n",
       "\\hline\n",
       "\t 0a63bef4 & 57 &  59.50877\\\\\n",
       "\t 0a91d577 & 34 &  99.76471\\\\\n",
       "\t 0b8769f2 & 32 & 106.00000\\\\\n",
       "\t 11b8b71f & 65 &  52.18462\\\\\n",
       "\t 18d79a06 & 47 &  72.17021\\\\\n",
       "\\end{tabular}\n"
      ],
      "text/markdown": [
       "\n",
       "A tibble: 5 x 3\n",
       "\n",
       "| arrival_location_id &lt;chr&gt; | capacity_quota &lt;dbl&gt; | capacity_rate &lt;dbl&gt; |\n",
       "|---|---|---|\n",
       "| 0a63bef4 | 57 |  59.50877 |\n",
       "| 0a91d577 | 34 |  99.76471 |\n",
       "| 0b8769f2 | 32 | 106.00000 |\n",
       "| 11b8b71f | 65 |  52.18462 |\n",
       "| 18d79a06 | 47 |  72.17021 |\n",
       "\n"
      ],
      "text/plain": [
       "  arrival_location_id capacity_quota capacity_rate\n",
       "1 0a63bef4            57              59.50877    \n",
       "2 0a91d577            34              99.76471    \n",
       "3 0b8769f2            32             106.00000    \n",
       "4 11b8b71f            65              52.18462    \n",
       "5 18d79a06            47              72.17021    "
      ]
     },
     "metadata": {},
     "output_type": "display_data"
    }
   ],
   "source": [
    "#copy location capacity dataframe\n",
    "head(location_capacity, 5)\n",
    "location_capacity_saved = location_capacity\n"
   ]
  },
  {
   "cell_type": "code",
   "execution_count": 33,
   "metadata": {
    "vscode": {
     "languageId": "r"
    }
   },
   "outputs": [
    {
     "data": {
      "text/html": [
       "<table class=\"dataframe\">\n",
       "<caption>A tibble: 5 x 2</caption>\n",
       "<thead>\n",
       "\t<tr><th scope=col>case_id</th><th scope=col>eligible_locations</th></tr>\n",
       "\t<tr><th scope=col>&lt;chr&gt;</th><th scope=col>&lt;list&gt;</th></tr>\n",
       "</thead>\n",
       "<tbody>\n",
       "\t<tr><td>00ebf80e98ad62ff7fbc2e7b423f592a</td><td>0a91d577, 0b8769f2, 18d79a06, 2cc2591c, 2d268e1a, 2e1d4b95, 3e767dee, 3f92aae8, 450d082e, 45ff63ad, 47d21aa7, 7335b23e, 7a5a9f27, 815e313d, 88311c24, 91350746, b794e0ae, c572d3f4, df4d0d19, eabc1905, eb58ce03, ebaaa580, f8fa5674, f9eceaf1</td></tr>\n",
       "\t<tr><td>01c06c951c9a5f4c57e19975e70f9f6e</td><td>0a91d577, 0b8769f2, 18d79a06, 19334d00, 2449a303, 2c30329f, 2cc2591c, 2d268e1a, 2e1d4b95, 3e767dee, 3f92aae8, 450d082e, 45ff63ad, 47d21aa7, 7335b23e, 7a5a9f27, 815e313d, 88311c24, 91350746, b794e0ae, c572d3f4, cc1dfeed, cdf929eb, df4d0d19, eabc1905, eb58ce03, ebaaa580, f8fa5674, f9eceaf1</td></tr>\n",
       "\t<tr><td>01ec723682e2a490d930a06e38ba6891</td><td>0a63bef4, 0a91d577, 0b8769f2, 11b8b71f, 18d79a06, 19334d00, 19c12683, 2449a303, 2c30329f, 2cc2591c, 2e1d4b95, 3e767dee, 3f60c16b, 3f92aae8, 450d082e, 45ff63ad, 7a5a9f27, 8265f4b2, 91350746, a4c4135a, b794e0ae, c572d3f4, cc1dfeed, cd0b4268, cdf929eb, dea9da1f, df4d0d19, e3d3341c, eabc1905, eb58ce03, ebaaa580, f083c7e8, f8fa5674</td></tr>\n",
       "\t<tr><td>0376d9bd13537af8cd39a4b7143e7ee9</td><td>0a63bef4, 0a91d577, 0b8769f2, 11b8b71f, 18d79a06, 19334d00, 19c12683, 2449a303, 2c30329f, 2cc2591c, 2e1d4b95, 3e767dee, 3f60c16b, 3f92aae8, 450d082e, 45ff63ad, 7a5a9f27, 8265f4b2, 91350746, a4c4135a, b794e0ae, c572d3f4, cc1dfeed, cd0b4268, cdf929eb, dea9da1f, df4d0d19, e3d3341c, eabc1905, eb58ce03, ebaaa580, f083c7e8, f8fa5674</td></tr>\n",
       "\t<tr><td>0421935425294ee30e13f865c168b8f2</td><td>0a63bef4, 0a91d577, 0b8769f2, 11b8b71f, 18d79a06, 2449a303, 2cc2591c, 2e1d4b95, 450d082e, 45ff63ad, 547082d0, 700e77b1, 7a5a9f27, 88311c24, a61b01d3, b794e0ae, c572d3f4, cc1dfeed, cd0b4268, dea9da1f, df4d0d19</td></tr>\n",
       "</tbody>\n",
       "</table>\n"
      ],
      "text/latex": [
       "A tibble: 5 x 2\n",
       "\\begin{tabular}{ll}\n",
       " case\\_id & eligible\\_locations\\\\\n",
       " <chr> & <list>\\\\\n",
       "\\hline\n",
       "\t 00ebf80e98ad62ff7fbc2e7b423f592a & 0a91d577, 0b8769f2, 18d79a06, 2cc2591c, 2d268e1a, 2e1d4b95, 3e767dee, 3f92aae8, 450d082e, 45ff63ad, 47d21aa7, 7335b23e, 7a5a9f27, 815e313d, 88311c24, 91350746, b794e0ae, c572d3f4, df4d0d19, eabc1905, eb58ce03, ebaaa580, f8fa5674, f9eceaf1\\\\\n",
       "\t 01c06c951c9a5f4c57e19975e70f9f6e & 0a91d577, 0b8769f2, 18d79a06, 19334d00, 2449a303, 2c30329f, 2cc2591c, 2d268e1a, 2e1d4b95, 3e767dee, 3f92aae8, 450d082e, 45ff63ad, 47d21aa7, 7335b23e, 7a5a9f27, 815e313d, 88311c24, 91350746, b794e0ae, c572d3f4, cc1dfeed, cdf929eb, df4d0d19, eabc1905, eb58ce03, ebaaa580, f8fa5674, f9eceaf1\\\\\n",
       "\t 01ec723682e2a490d930a06e38ba6891 & 0a63bef4, 0a91d577, 0b8769f2, 11b8b71f, 18d79a06, 19334d00, 19c12683, 2449a303, 2c30329f, 2cc2591c, 2e1d4b95, 3e767dee, 3f60c16b, 3f92aae8, 450d082e, 45ff63ad, 7a5a9f27, 8265f4b2, 91350746, a4c4135a, b794e0ae, c572d3f4, cc1dfeed, cd0b4268, cdf929eb, dea9da1f, df4d0d19, e3d3341c, eabc1905, eb58ce03, ebaaa580, f083c7e8, f8fa5674\\\\\n",
       "\t 0376d9bd13537af8cd39a4b7143e7ee9 & 0a63bef4, 0a91d577, 0b8769f2, 11b8b71f, 18d79a06, 19334d00, 19c12683, 2449a303, 2c30329f, 2cc2591c, 2e1d4b95, 3e767dee, 3f60c16b, 3f92aae8, 450d082e, 45ff63ad, 7a5a9f27, 8265f4b2, 91350746, a4c4135a, b794e0ae, c572d3f4, cc1dfeed, cd0b4268, cdf929eb, dea9da1f, df4d0d19, e3d3341c, eabc1905, eb58ce03, ebaaa580, f083c7e8, f8fa5674\\\\\n",
       "\t 0421935425294ee30e13f865c168b8f2 & 0a63bef4, 0a91d577, 0b8769f2, 11b8b71f, 18d79a06, 2449a303, 2cc2591c, 2e1d4b95, 450d082e, 45ff63ad, 547082d0, 700e77b1, 7a5a9f27, 88311c24, a61b01d3, b794e0ae, c572d3f4, cc1dfeed, cd0b4268, dea9da1f, df4d0d19\\\\\n",
       "\\end{tabular}\n"
      ],
      "text/markdown": [
       "\n",
       "A tibble: 5 x 2\n",
       "\n",
       "| case_id &lt;chr&gt; | eligible_locations &lt;list&gt; |\n",
       "|---|---|\n",
       "| 00ebf80e98ad62ff7fbc2e7b423f592a | 0a91d577, 0b8769f2, 18d79a06, 2cc2591c, 2d268e1a, 2e1d4b95, 3e767dee, 3f92aae8, 450d082e, 45ff63ad, 47d21aa7, 7335b23e, 7a5a9f27, 815e313d, 88311c24, 91350746, b794e0ae, c572d3f4, df4d0d19, eabc1905, eb58ce03, ebaaa580, f8fa5674, f9eceaf1 |\n",
       "| 01c06c951c9a5f4c57e19975e70f9f6e | 0a91d577, 0b8769f2, 18d79a06, 19334d00, 2449a303, 2c30329f, 2cc2591c, 2d268e1a, 2e1d4b95, 3e767dee, 3f92aae8, 450d082e, 45ff63ad, 47d21aa7, 7335b23e, 7a5a9f27, 815e313d, 88311c24, 91350746, b794e0ae, c572d3f4, cc1dfeed, cdf929eb, df4d0d19, eabc1905, eb58ce03, ebaaa580, f8fa5674, f9eceaf1 |\n",
       "| 01ec723682e2a490d930a06e38ba6891 | 0a63bef4, 0a91d577, 0b8769f2, 11b8b71f, 18d79a06, 19334d00, 19c12683, 2449a303, 2c30329f, 2cc2591c, 2e1d4b95, 3e767dee, 3f60c16b, 3f92aae8, 450d082e, 45ff63ad, 7a5a9f27, 8265f4b2, 91350746, a4c4135a, b794e0ae, c572d3f4, cc1dfeed, cd0b4268, cdf929eb, dea9da1f, df4d0d19, e3d3341c, eabc1905, eb58ce03, ebaaa580, f083c7e8, f8fa5674 |\n",
       "| 0376d9bd13537af8cd39a4b7143e7ee9 | 0a63bef4, 0a91d577, 0b8769f2, 11b8b71f, 18d79a06, 19334d00, 19c12683, 2449a303, 2c30329f, 2cc2591c, 2e1d4b95, 3e767dee, 3f60c16b, 3f92aae8, 450d082e, 45ff63ad, 7a5a9f27, 8265f4b2, 91350746, a4c4135a, b794e0ae, c572d3f4, cc1dfeed, cd0b4268, cdf929eb, dea9da1f, df4d0d19, e3d3341c, eabc1905, eb58ce03, ebaaa580, f083c7e8, f8fa5674 |\n",
       "| 0421935425294ee30e13f865c168b8f2 | 0a63bef4, 0a91d577, 0b8769f2, 11b8b71f, 18d79a06, 2449a303, 2cc2591c, 2e1d4b95, 450d082e, 45ff63ad, 547082d0, 700e77b1, 7a5a9f27, 88311c24, a61b01d3, b794e0ae, c572d3f4, cc1dfeed, cd0b4268, dea9da1f, df4d0d19 |\n",
       "\n"
      ],
      "text/plain": [
       "  case_id                         \n",
       "1 00ebf80e98ad62ff7fbc2e7b423f592a\n",
       "2 01c06c951c9a5f4c57e19975e70f9f6e\n",
       "3 01ec723682e2a490d930a06e38ba6891\n",
       "4 0376d9bd13537af8cd39a4b7143e7ee9\n",
       "5 0421935425294ee30e13f865c168b8f2\n",
       "  eligible_locations                                                                                                                                                                                                                                                                                                                      \n",
       "1 0a91d577, 0b8769f2, 18d79a06, 2cc2591c, 2d268e1a, 2e1d4b95, 3e767dee, 3f92aae8, 450d082e, 45ff63ad, 47d21aa7, 7335b23e, 7a5a9f27, 815e313d, 88311c24, 91350746, b794e0ae, c572d3f4, df4d0d19, eabc1905, eb58ce03, ebaaa580, f8fa5674, f9eceaf1                                                                                          \n",
       "2 0a91d577, 0b8769f2, 18d79a06, 19334d00, 2449a303, 2c30329f, 2cc2591c, 2d268e1a, 2e1d4b95, 3e767dee, 3f92aae8, 450d082e, 45ff63ad, 47d21aa7, 7335b23e, 7a5a9f27, 815e313d, 88311c24, 91350746, b794e0ae, c572d3f4, cc1dfeed, cdf929eb, df4d0d19, eabc1905, eb58ce03, ebaaa580, f8fa5674, f9eceaf1                                        \n",
       "3 0a63bef4, 0a91d577, 0b8769f2, 11b8b71f, 18d79a06, 19334d00, 19c12683, 2449a303, 2c30329f, 2cc2591c, 2e1d4b95, 3e767dee, 3f60c16b, 3f92aae8, 450d082e, 45ff63ad, 7a5a9f27, 8265f4b2, 91350746, a4c4135a, b794e0ae, c572d3f4, cc1dfeed, cd0b4268, cdf929eb, dea9da1f, df4d0d19, e3d3341c, eabc1905, eb58ce03, ebaaa580, f083c7e8, f8fa5674\n",
       "4 0a63bef4, 0a91d577, 0b8769f2, 11b8b71f, 18d79a06, 19334d00, 19c12683, 2449a303, 2c30329f, 2cc2591c, 2e1d4b95, 3e767dee, 3f60c16b, 3f92aae8, 450d082e, 45ff63ad, 7a5a9f27, 8265f4b2, 91350746, a4c4135a, b794e0ae, c572d3f4, cc1dfeed, cd0b4268, cdf929eb, dea9da1f, df4d0d19, e3d3341c, eabc1905, eb58ce03, ebaaa580, f083c7e8, f8fa5674\n",
       "5 0a63bef4, 0a91d577, 0b8769f2, 11b8b71f, 18d79a06, 2449a303, 2cc2591c, 2e1d4b95, 450d082e, 45ff63ad, 547082d0, 700e77b1, 7a5a9f27, 88311c24, a61b01d3, b794e0ae, c572d3f4, cc1dfeed, cd0b4268, dea9da1f, df4d0d19                                                                                                                        "
      ]
     },
     "metadata": {},
     "output_type": "display_data"
    },
    {
     "data": {
      "text/html": [
       "<style>\n",
       ".list-inline {list-style: none; margin:0; padding: 0}\n",
       ".list-inline>li {display: inline-block}\n",
       ".list-inline>li:not(:last-child)::after {content: \"\\00b7\"; padding: 0 .5ex}\n",
       "</style>\n",
       "<ol class=list-inline><li>211</li><li>2</li></ol>\n"
      ],
      "text/latex": [
       "\\begin{enumerate*}\n",
       "\\item 211\n",
       "\\item 2\n",
       "\\end{enumerate*}\n"
      ],
      "text/markdown": [
       "1. 211\n",
       "2. 2\n",
       "\n",
       "\n"
      ],
      "text/plain": [
       "[1] 211   2"
      ]
     },
     "metadata": {},
     "output_type": "display_data"
    }
   ],
   "source": [
    "#eligible locations for each case\n",
    "\n",
    "eligible_locations <- eligible_cases %>% \n",
    "                      group_by(case_id) %>%\n",
    "                      summarise(eligible_locations = list(unique(arrival_location_id)))\n",
    "                      \n",
    "head(eligible_locations, 5)\n",
    "dim(eligible_locations)"
   ]
  },
  {
   "cell_type": "code",
   "execution_count": 34,
   "metadata": {
    "vscode": {
     "languageId": "r"
    }
   },
   "outputs": [
    {
     "data": {
      "text/html": [
       "<style>\n",
       ".list-inline {list-style: none; margin:0; padding: 0}\n",
       ".list-inline>li {display: inline-block}\n",
       ".list-inline>li:not(:last-child)::after {content: \"\\00b7\"; padding: 0 .5ex}\n",
       "</style>\n",
       "<ol class=list-inline><li>1029</li><li>7</li></ol>\n"
      ],
      "text/latex": [
       "\\begin{enumerate*}\n",
       "\\item 1029\n",
       "\\item 7\n",
       "\\end{enumerate*}\n"
      ],
      "text/markdown": [
       "1. 1029\n",
       "2. 7\n",
       "\n",
       "\n"
      ],
      "text/plain": [
       "[1] 1029    7"
      ]
     },
     "metadata": {},
     "output_type": "display_data"
    },
    {
     "data": {
      "text/html": [
       "<style>\n",
       ".list-inline {list-style: none; margin:0; padding: 0}\n",
       ".list-inline>li {display: inline-block}\n",
       ".list-inline>li:not(:last-child)::after {content: \"\\00b7\"; padding: 0 .5ex}\n",
       "</style>\n",
       "<ol class=list-inline><li>1740</li><li>14</li></ol>\n"
      ],
      "text/latex": [
       "\\begin{enumerate*}\n",
       "\\item 1740\n",
       "\\item 14\n",
       "\\end{enumerate*}\n"
      ],
      "text/markdown": [
       "1. 1740\n",
       "2. 14\n",
       "\n",
       "\n"
      ],
      "text/plain": [
       "[1] 1740   14"
      ]
     },
     "metadata": {},
     "output_type": "display_data"
    },
    {
     "data": {
      "text/html": [
       "3392"
      ],
      "text/latex": [
       "3392"
      ],
      "text/markdown": [
       "3392"
      ],
      "text/plain": [
       "[1] 3392"
      ]
     },
     "metadata": {},
     "output_type": "display_data"
    }
   ],
   "source": [
    "#sort data by case_placement_order\n",
    "data <- data %>% arrange(case_placement_order)\n",
    "\n",
    "#select unique case ids\n",
    "case_data =data[!duplicated(data$case_id),] %>% \n",
    "    select(case_id, arrival_location_id, case_size, case_placement_order,arrival_location_order,free_case) %>% \n",
    "    arrange(case_placement_order)\n",
    "    \n",
    "case_data$eligible_locations = eligible_locations[match(case_data$case_id, eligible_locations$case_id),]$eligible_locations\n",
    "\n",
    "# head(case_data, 5)\n",
    "dim(case_data)\n",
    "dim(data)\n",
    "sum(case_data$case_size)"
   ]
  },
  {
   "cell_type": "code",
   "execution_count": 35,
   "metadata": {
    "vscode": {
     "languageId": "r"
    }
   },
   "outputs": [
    {
     "data": {
      "text/html": [
       "<table class=\"dataframe\">\n",
       "<caption>A data.frame: 5 x 6</caption>\n",
       "<thead>\n",
       "\t<tr><th></th><th scope=col>arrival_location_id</th><th scope=col>capacity_quota</th><th scope=col>capacity_rate</th><th scope=col>available_capacity</th><th scope=col>arrival_location_order</th><th scope=col>buildup</th></tr>\n",
       "\t<tr><th></th><th scope=col>&lt;chr&gt;</th><th scope=col>&lt;dbl&gt;</th><th scope=col>&lt;dbl&gt;</th><th scope=col>&lt;dbl&gt;</th><th scope=col>&lt;int&gt;</th><th scope=col>&lt;dbl&gt;</th></tr>\n",
       "</thead>\n",
       "<tbody>\n",
       "\t<tr><th scope=row>1</th><td>0a63bef4</td><td>57</td><td> 59.50877</td><td>57</td><td>24</td><td>0</td></tr>\n",
       "\t<tr><th scope=row>20</th><td>0a91d577</td><td>34</td><td> 99.76471</td><td>34</td><td>48</td><td>0</td></tr>\n",
       "\t<tr><th scope=row>29</th><td>0b8769f2</td><td>32</td><td>106.00000</td><td>32</td><td>37</td><td>0</td></tr>\n",
       "\t<tr><th scope=row>37</th><td>11b8b71f</td><td>65</td><td> 52.18462</td><td>65</td><td>31</td><td>0</td></tr>\n",
       "\t<tr><th scope=row>58</th><td>18d79a06</td><td>47</td><td> 72.17021</td><td>47</td><td>16</td><td>0</td></tr>\n",
       "</tbody>\n",
       "</table>\n"
      ],
      "text/latex": [
       "A data.frame: 5 x 6\n",
       "\\begin{tabular}{r|llllll}\n",
       "  & arrival\\_location\\_id & capacity\\_quota & capacity\\_rate & available\\_capacity & arrival\\_location\\_order & buildup\\\\\n",
       "  & <chr> & <dbl> & <dbl> & <dbl> & <int> & <dbl>\\\\\n",
       "\\hline\n",
       "\t1 & 0a63bef4 & 57 &  59.50877 & 57 & 24 & 0\\\\\n",
       "\t20 & 0a91d577 & 34 &  99.76471 & 34 & 48 & 0\\\\\n",
       "\t29 & 0b8769f2 & 32 & 106.00000 & 32 & 37 & 0\\\\\n",
       "\t37 & 11b8b71f & 65 &  52.18462 & 65 & 31 & 0\\\\\n",
       "\t58 & 18d79a06 & 47 &  72.17021 & 47 & 16 & 0\\\\\n",
       "\\end{tabular}\n"
      ],
      "text/markdown": [
       "\n",
       "A data.frame: 5 x 6\n",
       "\n",
       "| <!--/--> | arrival_location_id &lt;chr&gt; | capacity_quota &lt;dbl&gt; | capacity_rate &lt;dbl&gt; | available_capacity &lt;dbl&gt; | arrival_location_order &lt;int&gt; | buildup &lt;dbl&gt; |\n",
       "|---|---|---|---|---|---|---|\n",
       "| 1 | 0a63bef4 | 57 |  59.50877 | 57 | 24 | 0 |\n",
       "| 20 | 0a91d577 | 34 |  99.76471 | 34 | 48 | 0 |\n",
       "| 29 | 0b8769f2 | 32 | 106.00000 | 32 | 37 | 0 |\n",
       "| 37 | 11b8b71f | 65 |  52.18462 | 65 | 31 | 0 |\n",
       "| 58 | 18d79a06 | 47 |  72.17021 | 47 | 16 | 0 |\n",
       "\n"
      ],
      "text/plain": [
       "   arrival_location_id capacity_quota capacity_rate available_capacity\n",
       "1  0a63bef4            57              59.50877     57                \n",
       "20 0a91d577            34              99.76471     34                \n",
       "29 0b8769f2            32             106.00000     32                \n",
       "37 11b8b71f            65              52.18462     65                \n",
       "58 18d79a06            47              72.17021     47                \n",
       "   arrival_location_order buildup\n",
       "1  24                     0      \n",
       "20 48                     0      \n",
       "29 37                     0      \n",
       "37 31                     0      \n",
       "58 16                     0      "
      ]
     },
     "metadata": {},
     "output_type": "display_data"
    },
    {
     "data": {
      "text/html": [
       "<style>\n",
       ".list-inline {list-style: none; margin:0; padding: 0}\n",
       ".list-inline>li {display: inline-block}\n",
       ".list-inline>li:not(:last-child)::after {content: \"\\00b7\"; padding: 0 .5ex}\n",
       "</style>\n",
       "<ol class=list-inline><li>50</li><li>6</li></ol>\n"
      ],
      "text/latex": [
       "\\begin{enumerate*}\n",
       "\\item 50\n",
       "\\item 6\n",
       "\\end{enumerate*}\n"
      ],
      "text/markdown": [
       "1. 50\n",
       "2. 6\n",
       "\n",
       "\n"
      ],
      "text/plain": [
       "[1] 50  6"
      ]
     },
     "metadata": {},
     "output_type": "display_data"
    }
   ],
   "source": [
    "location_capacity = location_capacity_saved\n",
    "location_capacity$available_capacity = location_capacity$capacity_quota\n",
    "\n",
    "tdf = case_data %>% \n",
    "    select(arrival_location_id, arrival_location_order)\n",
    "\n",
    "location_capacity = location_capacity %>%\n",
    "                     merge(tdf, by = 'arrival_location_id') \n",
    "\n",
    "#remove duplicates of arrival_location_id\n",
    "location_capacity = location_capacity[!duplicated(location_capacity$arrival_location_id),]\n",
    "location_capacity$buildup = 0\n",
    "head(location_capacity, 5)\n",
    "dim(location_capacity)"
   ]
  },
  {
   "cell_type": "code",
   "execution_count": 36,
   "metadata": {
    "vscode": {
     "languageId": "r"
    }
   },
   "outputs": [
    {
     "data": {
      "text/html": [
       "<style>\n",
       ".list-inline {list-style: none; margin:0; padding: 0}\n",
       ".list-inline>li {display: inline-block}\n",
       ".list-inline>li:not(:last-child)::after {content: \"\\00b7\"; padding: 0 .5ex}\n",
       "</style>\n",
       "<ol class=list-inline><li>50</li><li>6</li></ol>\n"
      ],
      "text/latex": [
       "\\begin{enumerate*}\n",
       "\\item 50\n",
       "\\item 6\n",
       "\\end{enumerate*}\n"
      ],
      "text/markdown": [
       "1. 50\n",
       "2. 6\n",
       "\n",
       "\n"
      ],
      "text/plain": [
       "[1] 50  6"
      ]
     },
     "metadata": {},
     "output_type": "display_data"
    }
   ],
   "source": [
    "location_capacity_checkpoint = location_capacity\n",
    "dim(location_capacity_checkpoint)\n"
   ]
  },
  {
   "cell_type": "markdown",
   "metadata": {},
   "source": [
    "### Main Algorithm"
   ]
  },
  {
   "cell_type": "code",
   "execution_count": 37,
   "metadata": {
    "vscode": {
     "languageId": "r"
    }
   },
   "outputs": [
    {
     "data": {
      "text/html": [
       "<table class=\"dataframe\">\n",
       "<caption>A data.frame: 2 x 6</caption>\n",
       "<thead>\n",
       "\t<tr><th></th><th scope=col>arrival_location_id</th><th scope=col>capacity_quota</th><th scope=col>capacity_rate</th><th scope=col>available_capacity</th><th scope=col>arrival_location_order</th><th scope=col>buildup</th></tr>\n",
       "\t<tr><th></th><th scope=col>&lt;chr&gt;</th><th scope=col>&lt;dbl&gt;</th><th scope=col>&lt;dbl&gt;</th><th scope=col>&lt;dbl&gt;</th><th scope=col>&lt;int&gt;</th><th scope=col>&lt;dbl&gt;</th></tr>\n",
       "</thead>\n",
       "<tbody>\n",
       "\t<tr><th scope=row>1</th><td>88311c24</td><td>104</td><td>32.61538</td><td>104</td><td>1</td><td>0</td></tr>\n",
       "\t<tr><th scope=row>2</th><td>2cc2591c</td><td>104</td><td>32.61538</td><td>104</td><td>2</td><td>0</td></tr>\n",
       "</tbody>\n",
       "</table>\n"
      ],
      "text/latex": [
       "A data.frame: 2 x 6\n",
       "\\begin{tabular}{r|llllll}\n",
       "  & arrival\\_location\\_id & capacity\\_quota & capacity\\_rate & available\\_capacity & arrival\\_location\\_order & buildup\\\\\n",
       "  & <chr> & <dbl> & <dbl> & <dbl> & <int> & <dbl>\\\\\n",
       "\\hline\n",
       "\t1 & 88311c24 & 104 & 32.61538 & 104 & 1 & 0\\\\\n",
       "\t2 & 2cc2591c & 104 & 32.61538 & 104 & 2 & 0\\\\\n",
       "\\end{tabular}\n"
      ],
      "text/markdown": [
       "\n",
       "A data.frame: 2 x 6\n",
       "\n",
       "| <!--/--> | arrival_location_id &lt;chr&gt; | capacity_quota &lt;dbl&gt; | capacity_rate &lt;dbl&gt; | available_capacity &lt;dbl&gt; | arrival_location_order &lt;int&gt; | buildup &lt;dbl&gt; |\n",
       "|---|---|---|---|---|---|---|\n",
       "| 1 | 88311c24 | 104 | 32.61538 | 104 | 1 | 0 |\n",
       "| 2 | 2cc2591c | 104 | 32.61538 | 104 | 2 | 0 |\n",
       "\n"
      ],
      "text/plain": [
       "  arrival_location_id capacity_quota capacity_rate available_capacity\n",
       "1 88311c24            104            32.61538      104               \n",
       "2 2cc2591c            104            32.61538      104               \n",
       "  arrival_location_order buildup\n",
       "1 1                      0      \n",
       "2 2                      0      "
      ]
     },
     "metadata": {},
     "output_type": "display_data"
    },
    {
     "name": "stdout",
     "output_type": "stream",
     "text": [
      "[1] 1029\n"
     ]
    }
   ],
   "source": [
    "# main algorithm\n",
    "\n",
    "location_capacity = location_capacity_checkpoint\n",
    "\n",
    "#find the number of rows in case_data\n",
    "\n",
    "num_rows = nrow(case_data)\n",
    "\n",
    "head(location_capacity %>% arrange(arrival_location_order),2)\n",
    "print(num_rows)"
   ]
  },
  {
   "cell_type": "markdown",
   "metadata": {},
   "source": [
    "### Dataframes to capture the case placement and buildup accumulations"
   ]
  },
  {
   "cell_type": "code",
   "execution_count": 38,
   "metadata": {
    "vscode": {
     "languageId": "r"
    }
   },
   "outputs": [],
   "source": [
    "#create empty dataframe with columns location id, case placement id and case size\n",
    "placement_accum = data.frame(arrival_location_id = character(),\n",
    "                             case_placement_order = numeric(), \n",
    "                             case_size = numeric(), stringsAsFactors = FALSE)\n",
    "# placement_accum\n",
    "\n",
    "buildup_accum = c()\n",
    "\n",
    "algorithmic_case_location  = data.frame(case_id = character(), \n",
    "                                    alogrithmic_location = character(), \n",
    "                                    stringsAsFactors = FALSE)\n"
   ]
  },
  {
   "cell_type": "code",
   "execution_count": 39,
   "metadata": {
    "vscode": {
     "languageId": "r"
    }
   },
   "outputs": [],
   "source": [
    "#create 2 empty lists for question D\n",
    "placement_19334d00 = c()\n",
    "case_size_19334d00 = c()\n",
    "\n",
    "suppressWarnings({\n",
    "\n",
    "\n",
    "running_ttl = 0\n",
    "for(i in 1:num_rows) {\n",
    "    #iterating through all the cases sorted by case placement order\n",
    "\n",
    "    curr_case_id = case_data$case_id[i]\n",
    "    curr_case_size = case_data$case_size[i]\n",
    "    free_case = case_data$free_case[i]\n",
    "    running_ttl = running_ttl + curr_case_size\n",
    "\n",
    "    #question e - buildup accumulation -buildup for all 50 locations in each iteration\n",
    "    buildup_accum = c(buildup_accum, location_capacity$buildup)\n",
    "\n",
    "    \n",
    "    if (free_case == 0) {\n",
    "        location_id = case_data$arrival_location_id[i] \n",
    "    }\n",
    "   \n",
    "    if (free_case != 0 ) {\n",
    "\n",
    "        #choose a location that is eligile for the case and has the capacity to accomodate the case\n",
    "        eligible_locations_for_case = case_data$eligible_locations[i]\n",
    "\n",
    "        eligible_locations_with_case_capacity = location_capacity %>% \n",
    "         filter(arrival_location_id %in% unlist(eligible_locations_for_case)) %>% \n",
    "         filter(available_capacity >= curr_case_size) \n",
    "\n",
    "\n",
    "        #choose locations with lowest buildup and lowest arrival_location_order\n",
    "        eligible_locations_for_case_with_lowest_buildup = eligible_locations_with_case_capacity %>%\n",
    "            filter(!is.na(buildup),buildup == min(buildup, na.rm=TRUE)) %>%\n",
    "            filter(!is.na(arrival_location_order),arrival_location_order == min(arrival_location_order, na.rm=TRUE)) %>%\n",
    "            select(arrival_location_id)\n",
    "\n",
    "        #if there are no eligible locations, choose the one with the lowest buildup\n",
    "        if (nrow(eligible_locations_for_case_with_lowest_buildup) == 0) {\n",
    "            # print(curr_case_id)\n",
    "            eligible_locations_for_case_with_lowest_buildup = location_capacity %>%\n",
    "                filter(!is.na(buildup),buildup == min(buildup, na.rm=TRUE)) %>%\n",
    "                select(arrival_location_id)\n",
    "        }\n",
    "\n",
    "        location_id = eligible_locations_for_case_with_lowest_buildup$arrival_location_id[1]\n",
    "    }\n",
    "\n",
    "    if (location_id == \"19334d00\"){\n",
    "        placement_19334d00 = c(placement_19334d00, case_data$case_placement_order[i])\n",
    "        case_size_19334d00 = c(case_size_19334d00, curr_case_size)\n",
    "    }\n",
    "\n",
    "\n",
    "    #update placement_accum\n",
    "    placement_accum = rbind(placement_accum, data.frame(arrival_location_id = location_id, case_placement_order = case_data$case_placement_order[i], case_size = curr_case_size))\n",
    "  \n",
    "\n",
    "    #update algorithmic_case_location\n",
    "    algorithmic_case_location = rbind(algorithmic_case_location, data.frame(case_id = curr_case_id, alogrithmic_location = location_id))\n",
    "    \n",
    "    #we have location_id for the case\n",
    "\n",
    "    #update capacity given location_id\n",
    "    updated_lc = location_capacity %>%\n",
    "        filter(arrival_location_id == location_id) %>%\n",
    "        mutate(available_capacity = available_capacity - curr_case_size)\n",
    "\n",
    "\n",
    "    #update buildup given location_id\n",
    "    updated_lc = updated_lc %>%\n",
    "        filter(arrival_location_id == location_id) %>%\n",
    "        mutate(buildup = max(0, (buildup - curr_case_size)) + (curr_case_size * capacity_rate))\n",
    "\n",
    "    update_non_lc =  location_capacity %>% \n",
    "        filter(arrival_location_id != location_id) %>%\n",
    "        mutate(buildup = buildup - curr_case_size)\n",
    "\n",
    "    rbind(updated_lc, update_non_lc) -> location_capacity\n",
    "\n",
    "}\n",
    "\n",
    "})\n",
    "\n",
    "\n",
    "cp1933_df = data.frame(placement = placement_19334d00,  case_size =case_size_19334d00)\n"
   ]
  },
  {
   "cell_type": "markdown",
   "metadata": {},
   "source": []
  },
  {
   "cell_type": "code",
   "execution_count": 40,
   "metadata": {
    "vscode": {
     "languageId": "r"
    }
   },
   "outputs": [
    {
     "data": {
      "text/html": [
       "<style>\n",
       ".list-inline {list-style: none; margin:0; padding: 0}\n",
       ".list-inline>li {display: inline-block}\n",
       ".list-inline>li:not(:last-child)::after {content: \"\\00b7\"; padding: 0 .5ex}\n",
       "</style>\n",
       "<ol class=list-inline><li>1029</li><li>3</li></ol>\n"
      ],
      "text/latex": [
       "\\begin{enumerate*}\n",
       "\\item 1029\n",
       "\\item 3\n",
       "\\end{enumerate*}\n"
      ],
      "text/markdown": [
       "1. 1029\n",
       "2. 3\n",
       "\n",
       "\n"
      ],
      "text/plain": [
       "[1] 1029    3"
      ]
     },
     "metadata": {},
     "output_type": "display_data"
    },
    {
     "data": {
      "text/html": [
       "<style>\n",
       ".list-inline {list-style: none; margin:0; padding: 0}\n",
       ".list-inline>li {display: inline-block}\n",
       ".list-inline>li:not(:last-child)::after {content: \"\\00b7\"; padding: 0 .5ex}\n",
       "</style>\n",
       "<ol class=list-inline><li>1029</li><li>2</li></ol>\n"
      ],
      "text/latex": [
       "\\begin{enumerate*}\n",
       "\\item 1029\n",
       "\\item 2\n",
       "\\end{enumerate*}\n"
      ],
      "text/markdown": [
       "1. 1029\n",
       "2. 2\n",
       "\n",
       "\n"
      ],
      "text/plain": [
       "[1] 1029    2"
      ]
     },
     "metadata": {},
     "output_type": "display_data"
    },
    {
     "data": {
      "text/html": [
       "<table class=\"dataframe\">\n",
       "<caption>A data.frame: 5 x 2</caption>\n",
       "<thead>\n",
       "\t<tr><th></th><th scope=col>case_id</th><th scope=col>alogrithmic_location</th></tr>\n",
       "\t<tr><th></th><th scope=col>&lt;chr&gt;</th><th scope=col>&lt;chr&gt;</th></tr>\n",
       "</thead>\n",
       "<tbody>\n",
       "\t<tr><th scope=row>1</th><td>1d31071c3708db8e408bc7db26f95b2c</td><td>88311c24</td></tr>\n",
       "\t<tr><th scope=row>2</th><td>3c01df8e5923ad49c08fe61e41972e32</td><td>eb58ce03</td></tr>\n",
       "\t<tr><th scope=row>3</th><td>471c3ac6818d8852b0bbfb82783a90d1</td><td>56af9059</td></tr>\n",
       "\t<tr><th scope=row>4</th><td>4ebd2d38396e5de256877b762172507e</td><td>b5b999a4</td></tr>\n",
       "\t<tr><th scope=row>5</th><td>510afb02c459e1d430eb3707bed23930</td><td>19c12683</td></tr>\n",
       "</tbody>\n",
       "</table>\n"
      ],
      "text/latex": [
       "A data.frame: 5 x 2\n",
       "\\begin{tabular}{r|ll}\n",
       "  & case\\_id & alogrithmic\\_location\\\\\n",
       "  & <chr> & <chr>\\\\\n",
       "\\hline\n",
       "\t1 & 1d31071c3708db8e408bc7db26f95b2c & 88311c24\\\\\n",
       "\t2 & 3c01df8e5923ad49c08fe61e41972e32 & eb58ce03\\\\\n",
       "\t3 & 471c3ac6818d8852b0bbfb82783a90d1 & 56af9059\\\\\n",
       "\t4 & 4ebd2d38396e5de256877b762172507e & b5b999a4\\\\\n",
       "\t5 & 510afb02c459e1d430eb3707bed23930 & 19c12683\\\\\n",
       "\\end{tabular}\n"
      ],
      "text/markdown": [
       "\n",
       "A data.frame: 5 x 2\n",
       "\n",
       "| <!--/--> | case_id &lt;chr&gt; | alogrithmic_location &lt;chr&gt; |\n",
       "|---|---|---|\n",
       "| 1 | 1d31071c3708db8e408bc7db26f95b2c | 88311c24 |\n",
       "| 2 | 3c01df8e5923ad49c08fe61e41972e32 | eb58ce03 |\n",
       "| 3 | 471c3ac6818d8852b0bbfb82783a90d1 | 56af9059 |\n",
       "| 4 | 4ebd2d38396e5de256877b762172507e | b5b999a4 |\n",
       "| 5 | 510afb02c459e1d430eb3707bed23930 | 19c12683 |\n",
       "\n"
      ],
      "text/plain": [
       "  case_id                          alogrithmic_location\n",
       "1 1d31071c3708db8e408bc7db26f95b2c 88311c24            \n",
       "2 3c01df8e5923ad49c08fe61e41972e32 eb58ce03            \n",
       "3 471c3ac6818d8852b0bbfb82783a90d1 56af9059            \n",
       "4 4ebd2d38396e5de256877b762172507e b5b999a4            \n",
       "5 510afb02c459e1d430eb3707bed23930 19c12683            "
      ]
     },
     "metadata": {},
     "output_type": "display_data"
    }
   ],
   "source": [
    "# for question d -making it generic\n",
    "dim(placement_accum)\n",
    "\n",
    "dim(algorithmic_case_location)\n",
    "head(algorithmic_case_location, 5)"
   ]
  },
  {
   "cell_type": "markdown",
   "metadata": {},
   "source": [
    "### Location 19334d00"
   ]
  },
  {
   "cell_type": "code",
   "execution_count": 41,
   "metadata": {
    "vscode": {
     "languageId": "r"
    }
   },
   "outputs": [
    {
     "data": {
      "text/html": [
       "<table class=\"dataframe\">\n",
       "<caption>A data.frame: 5 x 4</caption>\n",
       "<thead>\n",
       "\t<tr><th></th><th scope=col>arrival_location_id</th><th scope=col>case_placement_order</th><th scope=col>case_size</th><th scope=col>cumulative_sum</th></tr>\n",
       "\t<tr><th></th><th scope=col>&lt;chr&gt;</th><th scope=col>&lt;int&gt;</th><th scope=col>&lt;dbl&gt;</th><th scope=col>&lt;dbl&gt;</th></tr>\n",
       "</thead>\n",
       "<tbody>\n",
       "\t<tr><th scope=row>1</th><td>19334d00</td><td> 39</td><td>4</td><td> 4</td></tr>\n",
       "\t<tr><th scope=row>2</th><td>19334d00</td><td>110</td><td>1</td><td> 5</td></tr>\n",
       "\t<tr><th scope=row>3</th><td>19334d00</td><td>120</td><td>7</td><td>12</td></tr>\n",
       "\t<tr><th scope=row>4</th><td>19334d00</td><td>148</td><td>4</td><td>16</td></tr>\n",
       "\t<tr><th scope=row>5</th><td>19334d00</td><td>281</td><td>1</td><td>17</td></tr>\n",
       "</tbody>\n",
       "</table>\n"
      ],
      "text/latex": [
       "A data.frame: 5 x 4\n",
       "\\begin{tabular}{r|llll}\n",
       "  & arrival\\_location\\_id & case\\_placement\\_order & case\\_size & cumulative\\_sum\\\\\n",
       "  & <chr> & <int> & <dbl> & <dbl>\\\\\n",
       "\\hline\n",
       "\t1 & 19334d00 &  39 & 4 &  4\\\\\n",
       "\t2 & 19334d00 & 110 & 1 &  5\\\\\n",
       "\t3 & 19334d00 & 120 & 7 & 12\\\\\n",
       "\t4 & 19334d00 & 148 & 4 & 16\\\\\n",
       "\t5 & 19334d00 & 281 & 1 & 17\\\\\n",
       "\\end{tabular}\n"
      ],
      "text/markdown": [
       "\n",
       "A data.frame: 5 x 4\n",
       "\n",
       "| <!--/--> | arrival_location_id &lt;chr&gt; | case_placement_order &lt;int&gt; | case_size &lt;dbl&gt; | cumulative_sum &lt;dbl&gt; |\n",
       "|---|---|---|---|---|\n",
       "| 1 | 19334d00 |  39 | 4 |  4 |\n",
       "| 2 | 19334d00 | 110 | 1 |  5 |\n",
       "| 3 | 19334d00 | 120 | 7 | 12 |\n",
       "| 4 | 19334d00 | 148 | 4 | 16 |\n",
       "| 5 | 19334d00 | 281 | 1 | 17 |\n",
       "\n"
      ],
      "text/plain": [
       "  arrival_location_id case_placement_order case_size cumulative_sum\n",
       "1 19334d00             39                  4          4            \n",
       "2 19334d00            110                  1          5            \n",
       "3 19334d00            120                  7         12            \n",
       "4 19334d00            148                  4         16            \n",
       "5 19334d00            281                  1         17            "
      ]
     },
     "metadata": {},
     "output_type": "display_data"
    },
    {
     "data": {
      "image/png": "[encoded data removed]",
      "text/plain": [
       "Plot with title \"Cumulative Sum of Case Size for Location 19334d00\""
      ]
     },
     "metadata": {
      "image/png": {
       "height": 420,
       "width": 420
      }
     },
     "output_type": "display_data"
    }
   ],
   "source": [
    "loc_1933 = placement_accum %>% filter(arrival_location_id == \"19334d00\") %>%\n",
    "                     arrange(case_placement_order) %>% mutate(cumulative_sum = cumsum(case_size))\n",
    "head(loc_1933, 5)\n",
    "\n",
    "par(bg = \"white\")\n",
    "\n",
    "#plot of cumulative sum of case size for location 19334d00\n",
    "plot(loc_1933$case_placement_order, \n",
    "loc_1933$cumulative_sum, \n",
    "type = \"b\", col = \"blue\", \n",
    "xlab = \"Case Placement Order\",\n",
    "ylab = \"Cumulative Sum of Case Size\",\n",
    "main = \"Cumulative Sum of Case Size for Location 19334d00\")"
   ]
  },
  {
   "cell_type": "markdown",
   "metadata": {},
   "source": [
    "### Final algorithmic placement outcome"
   ]
  },
  {
   "cell_type": "code",
   "execution_count": 42,
   "metadata": {
    "vscode": {
     "languageId": "r"
    }
   },
   "outputs": [
    {
     "data": {
      "text/html": [
       "3392"
      ],
      "text/latex": [
       "3392"
      ],
      "text/markdown": [
       "3392"
      ],
      "text/plain": [
       "[1] 3392"
      ]
     },
     "metadata": {},
     "output_type": "display_data"
    },
    {
     "data": {
      "text/html": [
       "3392"
      ],
      "text/latex": [
       "3392"
      ],
      "text/markdown": [
       "3392"
      ],
      "text/plain": [
       "[1] 3392"
      ]
     },
     "metadata": {},
     "output_type": "display_data"
    },
    {
     "data": {
      "text/html": [
       "<table class=\"dataframe\">\n",
       "<caption>A data.frame: 50 x 7</caption>\n",
       "<thead>\n",
       "\t<tr><th></th><th scope=col>arrival_location_id</th><th scope=col>capacity_quota</th><th scope=col>capacity_rate</th><th scope=col>available_capacity</th><th scope=col>arrival_location_order</th><th scope=col>buildup</th><th scope=col>new_population</th></tr>\n",
       "\t<tr><th></th><th scope=col>&lt;chr&gt;</th><th scope=col>&lt;dbl&gt;</th><th scope=col>&lt;dbl&gt;</th><th scope=col>&lt;dbl&gt;</th><th scope=col>&lt;int&gt;</th><th scope=col>&lt;dbl&gt;</th><th scope=col>&lt;dbl&gt;</th></tr>\n",
       "</thead>\n",
       "<tbody>\n",
       "\t<tr><th scope=row>1</th><td>3f92aae8</td><td> 47</td><td> 72.17021</td><td>-21</td><td> 8</td><td>1756.31915</td><td> 68</td></tr>\n",
       "\t<tr><th scope=row>2</th><td>0a91d577</td><td> 34</td><td> 99.76471</td><td>-14</td><td>48</td><td>1431.70588</td><td> 48</td></tr>\n",
       "\t<tr><th scope=row>3</th><td>2449a303</td><td>103</td><td> 32.93204</td><td>-13</td><td>15</td><td> 852.07767</td><td>116</td></tr>\n",
       "\t<tr><th scope=row>4</th><td>eabc1905</td><td>253</td><td> 13.40711</td><td>-12</td><td>22</td><td> 302.88538</td><td>265</td></tr>\n",
       "\t<tr><th scope=row>5</th><td>cc1dfeed</td><td> 56</td><td> 60.57143</td><td>-11</td><td>39</td><td>1274.71429</td><td> 67</td></tr>\n",
       "\t<tr><th scope=row>6</th><td>f9eceaf1</td><td>121</td><td> 28.03306</td><td>-10</td><td>26</td><td> 507.57851</td><td>131</td></tr>\n",
       "\t<tr><th scope=row>7</th><td>815e313d</td><td> 49</td><td> 69.22449</td><td>-10</td><td>44</td><td>1475.34694</td><td> 59</td></tr>\n",
       "\t<tr><th scope=row>8</th><td>c572d3f4</td><td>178</td><td> 19.05618</td><td> -9</td><td> 6</td><td> 362.13483</td><td>187</td></tr>\n",
       "\t<tr><th scope=row>9</th><td>700e77b1</td><td> 27</td><td>125.62963</td><td> -9</td><td>41</td><td>2255.11111</td><td> 36</td></tr>\n",
       "\t<tr><th scope=row>10</th><td>88311c24</td><td>104</td><td> 32.61538</td><td> -8</td><td> 1</td><td> 637.07692</td><td>112</td></tr>\n",
       "\t<tr><th scope=row>11</th><td>56af9059</td><td>141</td><td> 24.05674</td><td> -5</td><td> 3</td><td> 241.09929</td><td>146</td></tr>\n",
       "\t<tr><th scope=row>12</th><td>19c12683</td><td>172</td><td> 19.72093</td><td> -5</td><td> 5</td><td> 564.11628</td><td>177</td></tr>\n",
       "\t<tr><th scope=row>13</th><td>cdf929eb</td><td> 20</td><td>169.60000</td><td> -5</td><td>32</td><td>1108.00000</td><td> 25</td></tr>\n",
       "\t<tr><th scope=row>14</th><td>19334d00</td><td> 93</td><td> 36.47312</td><td> -4</td><td>20</td><td> 675.44086</td><td> 97</td></tr>\n",
       "\t<tr><th scope=row>15</th><td>7a5a9f27</td><td> 39</td><td> 86.97436</td><td> -2</td><td>34</td><td> 425.94872</td><td> 41</td></tr>\n",
       "\t<tr><th scope=row>16</th><td>3e767dee</td><td> 56</td><td> 60.57143</td><td> -1</td><td>35</td><td> 541.14286</td><td> 57</td></tr>\n",
       "\t<tr><th scope=row>17</th><td>2c30329f</td><td> 52</td><td> 65.23077</td><td> -1</td><td>19</td><td> 183.23077</td><td> 53</td></tr>\n",
       "\t<tr><th scope=row>18</th><td>d6222000</td><td> 26</td><td>130.46154</td><td>  0</td><td>13</td><td> 204.76923</td><td> 26</td></tr>\n",
       "\t<tr><th scope=row>19</th><td>dea9da1f</td><td> 20</td><td>169.60000</td><td>  0</td><td>38</td><td> 478.80000</td><td> 20</td></tr>\n",
       "\t<tr><th scope=row>20</th><td>b794e0ae</td><td> 37</td><td> 91.67568</td><td>  0</td><td>17</td><td> 184.08108</td><td> 37</td></tr>\n",
       "\t<tr><th scope=row>21</th><td>3f60c16b</td><td> 33</td><td>102.78788</td><td>  0</td><td>27</td><td>  54.00000</td><td> 33</td></tr>\n",
       "\t<tr><th scope=row>22</th><td>eb58ce03</td><td>127</td><td> 26.70866</td><td>  0</td><td>10</td><td>  11.67717</td><td>127</td></tr>\n",
       "\t<tr><th scope=row>23</th><td>f8fa5674</td><td> 55</td><td> 61.67273</td><td>  0</td><td>18</td><td> 246.16364</td><td> 55</td></tr>\n",
       "\t<tr><th scope=row>24</th><td>2d268e1a</td><td> 37</td><td> 91.67568</td><td>  0</td><td>28</td><td> 219.64865</td><td> 37</td></tr>\n",
       "\t<tr><th scope=row>25</th><td>de5bb19c</td><td> 86</td><td> 39.44186</td><td>  0</td><td>11</td><td>  58.00000</td><td> 86</td></tr>\n",
       "\t<tr><th scope=row>26</th><td>0a63bef4</td><td> 57</td><td> 59.50877</td><td>  0</td><td>24</td><td> 224.91228</td><td> 57</td></tr>\n",
       "\t<tr><th scope=row>27</th><td>547082d0</td><td> 10</td><td>339.20000</td><td>  0</td><td>30</td><td> 945.00000</td><td> 10</td></tr>\n",
       "\t<tr><th scope=row>28</th><td>450d082e</td><td> 12</td><td>282.66667</td><td>  0</td><td>50</td><td> 305.00000</td><td> 12</td></tr>\n",
       "\t<tr><th scope=row>29</th><td>45ff63ad</td><td> 11</td><td>308.36364</td><td>  0</td><td> 9</td><td>  40.00000</td><td> 11</td></tr>\n",
       "\t<tr><th scope=row>30</th><td>df4d0d19</td><td>118</td><td> 28.74576</td><td>  1</td><td>14</td><td> 398.76271</td><td>117</td></tr>\n",
       "\t<tr><th scope=row>31</th><td>18d79a06</td><td> 47</td><td> 72.17021</td><td>  1</td><td>16</td><td> 234.91489</td><td> 46</td></tr>\n",
       "\t<tr><th scope=row>32</th><td>2e1d4b95</td><td> 19</td><td>178.52632</td><td>  1</td><td>43</td><td> 529.21053</td><td> 18</td></tr>\n",
       "\t<tr><th scope=row>33</th><td>a4c4135a</td><td> 18</td><td>188.44444</td><td>  1</td><td>49</td><td> 403.55556</td><td> 17</td></tr>\n",
       "\t<tr><th scope=row>34</th><td>371950f7</td><td>180</td><td> 18.84444</td><td>  2</td><td>12</td><td> 456.84444</td><td>178</td></tr>\n",
       "\t<tr><th scope=row>35</th><td>91350746</td><td> 29</td><td>116.96552</td><td>  2</td><td>42</td><td> 285.51724</td><td> 27</td></tr>\n",
       "\t<tr><th scope=row>36</th><td>ebaaa580</td><td> 43</td><td> 78.88372</td><td>  2</td><td>29</td><td> 531.16279</td><td> 41</td></tr>\n",
       "\t<tr><th scope=row>37</th><td>0b8769f2</td><td> 32</td><td>106.00000</td><td>  2</td><td>37</td><td> 235.00000</td><td> 30</td></tr>\n",
       "\t<tr><th scope=row>38</th><td>7335b23e</td><td> 21</td><td>161.52381</td><td>  2</td><td>45</td><td> 343.42857</td><td> 19</td></tr>\n",
       "\t<tr><th scope=row>39</th><td>2cc2591c</td><td>104</td><td> 32.61538</td><td>  3</td><td> 2</td><td> 364.15385</td><td>101</td></tr>\n",
       "\t<tr><th scope=row>40</th><td>8265f4b2</td><td> 29</td><td>116.96552</td><td>  3</td><td>46</td><td> 648.31034</td><td> 26</td></tr>\n",
       "\t<tr><th scope=row>41</th><td>47d21aa7</td><td> 80</td><td> 42.40000</td><td>  4</td><td> 7</td><td> 357.20000</td><td> 76</td></tr>\n",
       "\t<tr><th scope=row>42</th><td>11b8b71f</td><td> 65</td><td> 52.18462</td><td>  4</td><td>31</td><td> 558.24615</td><td> 61</td></tr>\n",
       "\t<tr><th scope=row>43</th><td>dc76c896</td><td> 14</td><td>242.28571</td><td>  4</td><td>47</td><td> 100.42857</td><td> 10</td></tr>\n",
       "\t<tr><th scope=row>44</th><td>cd0b4268</td><td> 59</td><td> 57.49153</td><td>  7</td><td>23</td><td> 590.27119</td><td> 52</td></tr>\n",
       "\t<tr><th scope=row>45</th><td>e3d3341c</td><td> 72</td><td> 47.11111</td><td> 12</td><td>36</td><td> 567.77778</td><td> 60</td></tr>\n",
       "\t<tr><th scope=row>46</th><td>f8083df7</td><td> 88</td><td> 38.54545</td><td> 14</td><td>21</td><td>  21.27273</td><td> 74</td></tr>\n",
       "\t<tr><th scope=row>47</th><td>a61b01d3</td><td> 49</td><td> 69.22449</td><td> 15</td><td>33</td><td> 247.93878</td><td> 34</td></tr>\n",
       "\t<tr><th scope=row>48</th><td>635e8445</td><td> 34</td><td> 99.76471</td><td> 16</td><td>40</td><td>-364.35294</td><td> 18</td></tr>\n",
       "\t<tr><th scope=row>49</th><td>b5b999a4</td><td>140</td><td> 24.22857</td><td> 17</td><td> 4</td><td> 721.60000</td><td>123</td></tr>\n",
       "\t<tr><th scope=row>50</th><td>f083c7e8</td><td> 95</td><td> 35.70526</td><td> 27</td><td>25</td><td> 202.62105</td><td> 68</td></tr>\n",
       "</tbody>\n",
       "</table>\n"
      ],
      "text/latex": [
       "A data.frame: 50 x 7\n",
       "\\begin{tabular}{r|lllllll}\n",
       "  & arrival\\_location\\_id & capacity\\_quota & capacity\\_rate & available\\_capacity & arrival\\_location\\_order & buildup & new\\_population\\\\\n",
       "  & <chr> & <dbl> & <dbl> & <dbl> & <int> & <dbl> & <dbl>\\\\\n",
       "\\hline\n",
       "\t1 & 3f92aae8 &  47 &  72.17021 & -21 &  8 & 1756.31915 &  68\\\\\n",
       "\t2 & 0a91d577 &  34 &  99.76471 & -14 & 48 & 1431.70588 &  48\\\\\n",
       "\t3 & 2449a303 & 103 &  32.93204 & -13 & 15 &  852.07767 & 116\\\\\n",
       "\t4 & eabc1905 & 253 &  13.40711 & -12 & 22 &  302.88538 & 265\\\\\n",
       "\t5 & cc1dfeed &  56 &  60.57143 & -11 & 39 & 1274.71429 &  67\\\\\n",
       "\t6 & f9eceaf1 & 121 &  28.03306 & -10 & 26 &  507.57851 & 131\\\\\n",
       "\t7 & 815e313d &  49 &  69.22449 & -10 & 44 & 1475.34694 &  59\\\\\n",
       "\t8 & c572d3f4 & 178 &  19.05618 &  -9 &  6 &  362.13483 & 187\\\\\n",
       "\t9 & 700e77b1 &  27 & 125.62963 &  -9 & 41 & 2255.11111 &  36\\\\\n",
       "\t10 & 88311c24 & 104 &  32.61538 &  -8 &  1 &  637.07692 & 112\\\\\n",
       "\t11 & 56af9059 & 141 &  24.05674 &  -5 &  3 &  241.09929 & 146\\\\\n",
       "\t12 & 19c12683 & 172 &  19.72093 &  -5 &  5 &  564.11628 & 177\\\\\n",
       "\t13 & cdf929eb &  20 & 169.60000 &  -5 & 32 & 1108.00000 &  25\\\\\n",
       "\t14 & 19334d00 &  93 &  36.47312 &  -4 & 20 &  675.44086 &  97\\\\\n",
       "\t15 & 7a5a9f27 &  39 &  86.97436 &  -2 & 34 &  425.94872 &  41\\\\\n",
       "\t16 & 3e767dee &  56 &  60.57143 &  -1 & 35 &  541.14286 &  57\\\\\n",
       "\t17 & 2c30329f &  52 &  65.23077 &  -1 & 19 &  183.23077 &  53\\\\\n",
       "\t18 & d6222000 &  26 & 130.46154 &   0 & 13 &  204.76923 &  26\\\\\n",
       "\t19 & dea9da1f &  20 & 169.60000 &   0 & 38 &  478.80000 &  20\\\\\n",
       "\t20 & b794e0ae &  37 &  91.67568 &   0 & 17 &  184.08108 &  37\\\\\n",
       "\t21 & 3f60c16b &  33 & 102.78788 &   0 & 27 &   54.00000 &  33\\\\\n",
       "\t22 & eb58ce03 & 127 &  26.70866 &   0 & 10 &   11.67717 & 127\\\\\n",
       "\t23 & f8fa5674 &  55 &  61.67273 &   0 & 18 &  246.16364 &  55\\\\\n",
       "\t24 & 2d268e1a &  37 &  91.67568 &   0 & 28 &  219.64865 &  37\\\\\n",
       "\t25 & de5bb19c &  86 &  39.44186 &   0 & 11 &   58.00000 &  86\\\\\n",
       "\t26 & 0a63bef4 &  57 &  59.50877 &   0 & 24 &  224.91228 &  57\\\\\n",
       "\t27 & 547082d0 &  10 & 339.20000 &   0 & 30 &  945.00000 &  10\\\\\n",
       "\t28 & 450d082e &  12 & 282.66667 &   0 & 50 &  305.00000 &  12\\\\\n",
       "\t29 & 45ff63ad &  11 & 308.36364 &   0 &  9 &   40.00000 &  11\\\\\n",
       "\t30 & df4d0d19 & 118 &  28.74576 &   1 & 14 &  398.76271 & 117\\\\\n",
       "\t31 & 18d79a06 &  47 &  72.17021 &   1 & 16 &  234.91489 &  46\\\\\n",
       "\t32 & 2e1d4b95 &  19 & 178.52632 &   1 & 43 &  529.21053 &  18\\\\\n",
       "\t33 & a4c4135a &  18 & 188.44444 &   1 & 49 &  403.55556 &  17\\\\\n",
       "\t34 & 371950f7 & 180 &  18.84444 &   2 & 12 &  456.84444 & 178\\\\\n",
       "\t35 & 91350746 &  29 & 116.96552 &   2 & 42 &  285.51724 &  27\\\\\n",
       "\t36 & ebaaa580 &  43 &  78.88372 &   2 & 29 &  531.16279 &  41\\\\\n",
       "\t37 & 0b8769f2 &  32 & 106.00000 &   2 & 37 &  235.00000 &  30\\\\\n",
       "\t38 & 7335b23e &  21 & 161.52381 &   2 & 45 &  343.42857 &  19\\\\\n",
       "\t39 & 2cc2591c & 104 &  32.61538 &   3 &  2 &  364.15385 & 101\\\\\n",
       "\t40 & 8265f4b2 &  29 & 116.96552 &   3 & 46 &  648.31034 &  26\\\\\n",
       "\t41 & 47d21aa7 &  80 &  42.40000 &   4 &  7 &  357.20000 &  76\\\\\n",
       "\t42 & 11b8b71f &  65 &  52.18462 &   4 & 31 &  558.24615 &  61\\\\\n",
       "\t43 & dc76c896 &  14 & 242.28571 &   4 & 47 &  100.42857 &  10\\\\\n",
       "\t44 & cd0b4268 &  59 &  57.49153 &   7 & 23 &  590.27119 &  52\\\\\n",
       "\t45 & e3d3341c &  72 &  47.11111 &  12 & 36 &  567.77778 &  60\\\\\n",
       "\t46 & f8083df7 &  88 &  38.54545 &  14 & 21 &   21.27273 &  74\\\\\n",
       "\t47 & a61b01d3 &  49 &  69.22449 &  15 & 33 &  247.93878 &  34\\\\\n",
       "\t48 & 635e8445 &  34 &  99.76471 &  16 & 40 & -364.35294 &  18\\\\\n",
       "\t49 & b5b999a4 & 140 &  24.22857 &  17 &  4 &  721.60000 & 123\\\\\n",
       "\t50 & f083c7e8 &  95 &  35.70526 &  27 & 25 &  202.62105 &  68\\\\\n",
       "\\end{tabular}\n"
      ],
      "text/markdown": [
       "\n",
       "A data.frame: 50 x 7\n",
       "\n",
       "| <!--/--> | arrival_location_id &lt;chr&gt; | capacity_quota &lt;dbl&gt; | capacity_rate &lt;dbl&gt; | available_capacity &lt;dbl&gt; | arrival_location_order &lt;int&gt; | buildup &lt;dbl&gt; | new_population &lt;dbl&gt; |\n",
       "|---|---|---|---|---|---|---|---|\n",
       "| 1 | 3f92aae8 |  47 |  72.17021 | -21 |  8 | 1756.31915 |  68 |\n",
       "| 2 | 0a91d577 |  34 |  99.76471 | -14 | 48 | 1431.70588 |  48 |\n",
       "| 3 | 2449a303 | 103 |  32.93204 | -13 | 15 |  852.07767 | 116 |\n",
       "| 4 | eabc1905 | 253 |  13.40711 | -12 | 22 |  302.88538 | 265 |\n",
       "| 5 | cc1dfeed |  56 |  60.57143 | -11 | 39 | 1274.71429 |  67 |\n",
       "| 6 | f9eceaf1 | 121 |  28.03306 | -10 | 26 |  507.57851 | 131 |\n",
       "| 7 | 815e313d |  49 |  69.22449 | -10 | 44 | 1475.34694 |  59 |\n",
       "| 8 | c572d3f4 | 178 |  19.05618 |  -9 |  6 |  362.13483 | 187 |\n",
       "| 9 | 700e77b1 |  27 | 125.62963 |  -9 | 41 | 2255.11111 |  36 |\n",
       "| 10 | 88311c24 | 104 |  32.61538 |  -8 |  1 |  637.07692 | 112 |\n",
       "| 11 | 56af9059 | 141 |  24.05674 |  -5 |  3 |  241.09929 | 146 |\n",
       "| 12 | 19c12683 | 172 |  19.72093 |  -5 |  5 |  564.11628 | 177 |\n",
       "| 13 | cdf929eb |  20 | 169.60000 |  -5 | 32 | 1108.00000 |  25 |\n",
       "| 14 | 19334d00 |  93 |  36.47312 |  -4 | 20 |  675.44086 |  97 |\n",
       "| 15 | 7a5a9f27 |  39 |  86.97436 |  -2 | 34 |  425.94872 |  41 |\n",
       "| 16 | 3e767dee |  56 |  60.57143 |  -1 | 35 |  541.14286 |  57 |\n",
       "| 17 | 2c30329f |  52 |  65.23077 |  -1 | 19 |  183.23077 |  53 |\n",
       "| 18 | d6222000 |  26 | 130.46154 |   0 | 13 |  204.76923 |  26 |\n",
       "| 19 | dea9da1f |  20 | 169.60000 |   0 | 38 |  478.80000 |  20 |\n",
       "| 20 | b794e0ae |  37 |  91.67568 |   0 | 17 |  184.08108 |  37 |\n",
       "| 21 | 3f60c16b |  33 | 102.78788 |   0 | 27 |   54.00000 |  33 |\n",
       "| 22 | eb58ce03 | 127 |  26.70866 |   0 | 10 |   11.67717 | 127 |\n",
       "| 23 | f8fa5674 |  55 |  61.67273 |   0 | 18 |  246.16364 |  55 |\n",
       "| 24 | 2d268e1a |  37 |  91.67568 |   0 | 28 |  219.64865 |  37 |\n",
       "| 25 | de5bb19c |  86 |  39.44186 |   0 | 11 |   58.00000 |  86 |\n",
       "| 26 | 0a63bef4 |  57 |  59.50877 |   0 | 24 |  224.91228 |  57 |\n",
       "| 27 | 547082d0 |  10 | 339.20000 |   0 | 30 |  945.00000 |  10 |\n",
       "| 28 | 450d082e |  12 | 282.66667 |   0 | 50 |  305.00000 |  12 |\n",
       "| 29 | 45ff63ad |  11 | 308.36364 |   0 |  9 |   40.00000 |  11 |\n",
       "| 30 | df4d0d19 | 118 |  28.74576 |   1 | 14 |  398.76271 | 117 |\n",
       "| 31 | 18d79a06 |  47 |  72.17021 |   1 | 16 |  234.91489 |  46 |\n",
       "| 32 | 2e1d4b95 |  19 | 178.52632 |   1 | 43 |  529.21053 |  18 |\n",
       "| 33 | a4c4135a |  18 | 188.44444 |   1 | 49 |  403.55556 |  17 |\n",
       "| 34 | 371950f7 | 180 |  18.84444 |   2 | 12 |  456.84444 | 178 |\n",
       "| 35 | 91350746 |  29 | 116.96552 |   2 | 42 |  285.51724 |  27 |\n",
       "| 36 | ebaaa580 |  43 |  78.88372 |   2 | 29 |  531.16279 |  41 |\n",
       "| 37 | 0b8769f2 |  32 | 106.00000 |   2 | 37 |  235.00000 |  30 |\n",
       "| 38 | 7335b23e |  21 | 161.52381 |   2 | 45 |  343.42857 |  19 |\n",
       "| 39 | 2cc2591c | 104 |  32.61538 |   3 |  2 |  364.15385 | 101 |\n",
       "| 40 | 8265f4b2 |  29 | 116.96552 |   3 | 46 |  648.31034 |  26 |\n",
       "| 41 | 47d21aa7 |  80 |  42.40000 |   4 |  7 |  357.20000 |  76 |\n",
       "| 42 | 11b8b71f |  65 |  52.18462 |   4 | 31 |  558.24615 |  61 |\n",
       "| 43 | dc76c896 |  14 | 242.28571 |   4 | 47 |  100.42857 |  10 |\n",
       "| 44 | cd0b4268 |  59 |  57.49153 |   7 | 23 |  590.27119 |  52 |\n",
       "| 45 | e3d3341c |  72 |  47.11111 |  12 | 36 |  567.77778 |  60 |\n",
       "| 46 | f8083df7 |  88 |  38.54545 |  14 | 21 |   21.27273 |  74 |\n",
       "| 47 | a61b01d3 |  49 |  69.22449 |  15 | 33 |  247.93878 |  34 |\n",
       "| 48 | 635e8445 |  34 |  99.76471 |  16 | 40 | -364.35294 |  18 |\n",
       "| 49 | b5b999a4 | 140 |  24.22857 |  17 |  4 |  721.60000 | 123 |\n",
       "| 50 | f083c7e8 |  95 |  35.70526 |  27 | 25 |  202.62105 |  68 |\n",
       "\n"
      ],
      "text/plain": [
       "   arrival_location_id capacity_quota capacity_rate available_capacity\n",
       "1  3f92aae8             47             72.17021     -21               \n",
       "2  0a91d577             34             99.76471     -14               \n",
       "3  2449a303            103             32.93204     -13               \n",
       "4  eabc1905            253             13.40711     -12               \n",
       "5  cc1dfeed             56             60.57143     -11               \n",
       "6  f9eceaf1            121             28.03306     -10               \n",
       "7  815e313d             49             69.22449     -10               \n",
       "8  c572d3f4            178             19.05618      -9               \n",
       "9  700e77b1             27            125.62963      -9               \n",
       "10 88311c24            104             32.61538      -8               \n",
       "11 56af9059            141             24.05674      -5               \n",
       "12 19c12683            172             19.72093      -5               \n",
       "13 cdf929eb             20            169.60000      -5               \n",
       "14 19334d00             93             36.47312      -4               \n",
       "15 7a5a9f27             39             86.97436      -2               \n",
       "16 3e767dee             56             60.57143      -1               \n",
       "17 2c30329f             52             65.23077      -1               \n",
       "18 d6222000             26            130.46154       0               \n",
       "19 dea9da1f             20            169.60000       0               \n",
       "20 b794e0ae             37             91.67568       0               \n",
       "21 3f60c16b             33            102.78788       0               \n",
       "22 eb58ce03            127             26.70866       0               \n",
       "23 f8fa5674             55             61.67273       0               \n",
       "24 2d268e1a             37             91.67568       0               \n",
       "25 de5bb19c             86             39.44186       0               \n",
       "26 0a63bef4             57             59.50877       0               \n",
       "27 547082d0             10            339.20000       0               \n",
       "28 450d082e             12            282.66667       0               \n",
       "29 45ff63ad             11            308.36364       0               \n",
       "30 df4d0d19            118             28.74576       1               \n",
       "31 18d79a06             47             72.17021       1               \n",
       "32 2e1d4b95             19            178.52632       1               \n",
       "33 a4c4135a             18            188.44444       1               \n",
       "34 371950f7            180             18.84444       2               \n",
       "35 91350746             29            116.96552       2               \n",
       "36 ebaaa580             43             78.88372       2               \n",
       "37 0b8769f2             32            106.00000       2               \n",
       "38 7335b23e             21            161.52381       2               \n",
       "39 2cc2591c            104             32.61538       3               \n",
       "40 8265f4b2             29            116.96552       3               \n",
       "41 47d21aa7             80             42.40000       4               \n",
       "42 11b8b71f             65             52.18462       4               \n",
       "43 dc76c896             14            242.28571       4               \n",
       "44 cd0b4268             59             57.49153       7               \n",
       "45 e3d3341c             72             47.11111      12               \n",
       "46 f8083df7             88             38.54545      14               \n",
       "47 a61b01d3             49             69.22449      15               \n",
       "48 635e8445             34             99.76471      16               \n",
       "49 b5b999a4            140             24.22857      17               \n",
       "50 f083c7e8             95             35.70526      27               \n",
       "   arrival_location_order buildup    new_population\n",
       "1   8                     1756.31915  68           \n",
       "2  48                     1431.70588  48           \n",
       "3  15                      852.07767 116           \n",
       "4  22                      302.88538 265           \n",
       "5  39                     1274.71429  67           \n",
       "6  26                      507.57851 131           \n",
       "7  44                     1475.34694  59           \n",
       "8   6                      362.13483 187           \n",
       "9  41                     2255.11111  36           \n",
       "10  1                      637.07692 112           \n",
       "11  3                      241.09929 146           \n",
       "12  5                      564.11628 177           \n",
       "13 32                     1108.00000  25           \n",
       "14 20                      675.44086  97           \n",
       "15 34                      425.94872  41           \n",
       "16 35                      541.14286  57           \n",
       "17 19                      183.23077  53           \n",
       "18 13                      204.76923  26           \n",
       "19 38                      478.80000  20           \n",
       "20 17                      184.08108  37           \n",
       "21 27                       54.00000  33           \n",
       "22 10                       11.67717 127           \n",
       "23 18                      246.16364  55           \n",
       "24 28                      219.64865  37           \n",
       "25 11                       58.00000  86           \n",
       "26 24                      224.91228  57           \n",
       "27 30                      945.00000  10           \n",
       "28 50                      305.00000  12           \n",
       "29  9                       40.00000  11           \n",
       "30 14                      398.76271 117           \n",
       "31 16                      234.91489  46           \n",
       "32 43                      529.21053  18           \n",
       "33 49                      403.55556  17           \n",
       "34 12                      456.84444 178           \n",
       "35 42                      285.51724  27           \n",
       "36 29                      531.16279  41           \n",
       "37 37                      235.00000  30           \n",
       "38 45                      343.42857  19           \n",
       "39  2                      364.15385 101           \n",
       "40 46                      648.31034  26           \n",
       "41  7                      357.20000  76           \n",
       "42 31                      558.24615  61           \n",
       "43 47                      100.42857  10           \n",
       "44 23                      590.27119  52           \n",
       "45 36                      567.77778  60           \n",
       "46 21                       21.27273  74           \n",
       "47 33                      247.93878  34           \n",
       "48 40                     -364.35294  18           \n",
       "49  4                      721.60000 123           \n",
       "50 25                      202.62105  68           "
      ]
     },
     "metadata": {},
     "output_type": "display_data"
    }
   ],
   "source": [
    "lc2 = location_capacity\n",
    "# lc2$added_population = lc2$capacity_quota - lc2$available_capacity\n",
    "lc2$new_population = lc2$capacity_quota - lc2$available_capacity\n",
    "sum(lc2$new_population)\n",
    "sum(lc2$capacity_quota)\n",
    "head(lc2 %>% arrange(available_capacity),50)\n"
   ]
  },
  {
   "cell_type": "markdown",
   "metadata": {},
   "source": [
    "### Question 3 Part A"
   ]
  },
  {
   "cell_type": "markdown",
   "metadata": {},
   "source": [
    "    From the above table , we can see that location 3f92aae8 gained the most population compared to its staus quo. This location gained 21 extra people.\n"
   ]
  },
  {
   "cell_type": "markdown",
   "metadata": {},
   "source": [
    "### Question 3 Part B"
   ]
  },
  {
   "cell_type": "markdown",
   "metadata": {},
   "source": [
    "    From the above table, we see that location f083c7e8 lost the most people - it received 27 fewer people"
   ]
  },
  {
   "cell_type": "markdown",
   "metadata": {},
   "source": [
    "### Question 3 Part C"
   ]
  },
  {
   "cell_type": "markdown",
   "metadata": {},
   "source": [
    "    Some locations went over their quotas. One possible reason for this happening is the number of non free cases. When a case isn't free, we don't consider any of the constraints, and therefore this could lead to going over the quota. It is also likely that there are some locations that are popular for refugees and will hence tie incoming refugees to that location. \n",
    "    Another reason is the case size"
   ]
  },
  {
   "cell_type": "markdown",
   "metadata": {},
   "source": [
    "### Question 3 Part D"
   ]
  },
  {
   "cell_type": "code",
   "execution_count": 43,
   "metadata": {
    "vscode": {
     "languageId": "r"
    }
   },
   "outputs": [
    {
     "data": {
      "image/png": "[encoded data removed]",
      "text/plain": [
       "Plot with title \"location = 19334d00 \n",
       " case_placement_order - algorithmic (red) vs status quo\""
      ]
     },
     "metadata": {
      "image/png": {
       "height": 420,
       "width": 420
      }
     },
     "output_type": "display_data"
    }
   ],
   "source": [
    "case_data_19334d00 = case_data %>% filter (arrival_location_id == \"19334d00\")\n",
    "\n",
    "algo_data_19334d00 = data.frame(placement = placement_19334d00,  case_size =case_size_19334d00)%>% \n",
    "                    mutate (case_size_cumsum = cumsum(case_size)) %>% \n",
    "                    arrange(placement)\n",
    "\n",
    "par(bg = \"white\")\n",
    "\n",
    "case_data_19334d00$case_size_cumsum = cumsum(case_data_19334d00$case_size)\n",
    "\n",
    "plot(case_data_19334d00$case_placement_order,\n",
    "    case_data_19334d00$case_size_cumsum, \n",
    "    main = \"location = 19334d00 \\n case_placement_order - algorithmic (red) vs status quo\", \n",
    "    xlab = \"case_placement_order\", \n",
    "    ylab = \"case_size_cumsum\", \n",
    "    type = 'b', col = \"blue\"\n",
    "    )\n",
    "\n",
    "par(bg = \"white\")\n",
    "\n",
    "lines(algo_data_19334d00$placement, \n",
    "    algo_data_19334d00$case_size_cumsum, \n",
    "    type = 'b', col = \"red\"\n",
    "    )\n"
   ]
  },
  {
   "cell_type": "code",
   "execution_count": 77,
   "metadata": {
    "vscode": {
     "languageId": "r"
    }
   },
   "outputs": [
    {
     "data": {
      "text/html": [
       "<style>\n",
       ".list-inline {list-style: none; margin:0; padding: 0}\n",
       ".list-inline>li {display: inline-block}\n",
       ".list-inline>li:not(:last-child)::after {content: \"\\00b7\"; padding: 0 .5ex}\n",
       "</style>\n",
       "<ol class=list-inline><li>23</li><li>7</li></ol>\n"
      ],
      "text/latex": [
       "\\begin{enumerate*}\n",
       "\\item 23\n",
       "\\item 7\n",
       "\\end{enumerate*}\n"
      ],
      "text/markdown": [
       "1. 23\n",
       "2. 7\n",
       "\n",
       "\n"
      ],
      "text/plain": [
       "[1] 23  7"
      ]
     },
     "metadata": {},
     "output_type": "display_data"
    },
    {
     "data": {
      "text/html": [
       "<table class=\"dataframe\">\n",
       "<caption>A data.frame: 1 x 1</caption>\n",
       "<thead>\n",
       "\t<tr><th scope=col>sum(free_case)</th></tr>\n",
       "\t<tr><th scope=col>&lt;dbl&gt;</th></tr>\n",
       "</thead>\n",
       "<tbody>\n",
       "\t<tr><td>4</td></tr>\n",
       "</tbody>\n",
       "</table>\n"
      ],
      "text/latex": [
       "A data.frame: 1 x 1\n",
       "\\begin{tabular}{l}\n",
       " sum(free\\_case)\\\\\n",
       " <dbl>\\\\\n",
       "\\hline\n",
       "\t 4\\\\\n",
       "\\end{tabular}\n"
      ],
      "text/markdown": [
       "\n",
       "A data.frame: 1 x 1\n",
       "\n",
       "| sum(free_case) &lt;dbl&gt; |\n",
       "|---|\n",
       "| 4 |\n",
       "\n"
      ],
      "text/plain": [
       "  sum(free_case)\n",
       "1 4             "
      ]
     },
     "metadata": {},
     "output_type": "display_data"
    }
   ],
   "source": [
    "dim(case_data %>% filter(arrival_location_id == \"19334d00\"))\n",
    "\n",
    "case_data %>% filter(arrival_location_id == \"19334d00\") %>% summarise(sum(free_case))"
   ]
  },
  {
   "cell_type": "markdown",
   "metadata": {},
   "source": [
    "We can see here that the algorithm smooths out the arrivals compared to status quo. "
   ]
  },
  {
   "cell_type": "code",
   "execution_count": 44,
   "metadata": {
    "vscode": {
     "languageId": "r"
    }
   },
   "outputs": [
    {
     "data": {
      "text/html": [
       "<table class=\"dataframe\">\n",
       "<caption>A data.frame: 5 x 4</caption>\n",
       "<thead>\n",
       "\t<tr><th></th><th scope=col>arrival_location_id</th><th scope=col>case_placement_order</th><th scope=col>case_size</th><th scope=col>cumulative_sum</th></tr>\n",
       "\t<tr><th></th><th scope=col>&lt;chr&gt;</th><th scope=col>&lt;int&gt;</th><th scope=col>&lt;dbl&gt;</th><th scope=col>&lt;dbl&gt;</th></tr>\n",
       "</thead>\n",
       "<tbody>\n",
       "\t<tr><th scope=row>1</th><td>2cc2591c</td><td> 16</td><td>6</td><td> 6</td></tr>\n",
       "\t<tr><th scope=row>2</th><td>2cc2591c</td><td>124</td><td>1</td><td> 7</td></tr>\n",
       "\t<tr><th scope=row>3</th><td>2cc2591c</td><td>182</td><td>6</td><td>13</td></tr>\n",
       "\t<tr><th scope=row>4</th><td>2cc2591c</td><td>260</td><td>8</td><td>21</td></tr>\n",
       "\t<tr><th scope=row>5</th><td>2cc2591c</td><td>274</td><td>7</td><td>28</td></tr>\n",
       "</tbody>\n",
       "</table>\n"
      ],
      "text/latex": [
       "A data.frame: 5 x 4\n",
       "\\begin{tabular}{r|llll}\n",
       "  & arrival\\_location\\_id & case\\_placement\\_order & case\\_size & cumulative\\_sum\\\\\n",
       "  & <chr> & <int> & <dbl> & <dbl>\\\\\n",
       "\\hline\n",
       "\t1 & 2cc2591c &  16 & 6 &  6\\\\\n",
       "\t2 & 2cc2591c & 124 & 1 &  7\\\\\n",
       "\t3 & 2cc2591c & 182 & 6 & 13\\\\\n",
       "\t4 & 2cc2591c & 260 & 8 & 21\\\\\n",
       "\t5 & 2cc2591c & 274 & 7 & 28\\\\\n",
       "\\end{tabular}\n"
      ],
      "text/markdown": [
       "\n",
       "A data.frame: 5 x 4\n",
       "\n",
       "| <!--/--> | arrival_location_id &lt;chr&gt; | case_placement_order &lt;int&gt; | case_size &lt;dbl&gt; | cumulative_sum &lt;dbl&gt; |\n",
       "|---|---|---|---|---|\n",
       "| 1 | 2cc2591c |  16 | 6 |  6 |\n",
       "| 2 | 2cc2591c | 124 | 1 |  7 |\n",
       "| 3 | 2cc2591c | 182 | 6 | 13 |\n",
       "| 4 | 2cc2591c | 260 | 8 | 21 |\n",
       "| 5 | 2cc2591c | 274 | 7 | 28 |\n",
       "\n"
      ],
      "text/plain": [
       "  arrival_location_id case_placement_order case_size cumulative_sum\n",
       "1 2cc2591c             16                  6          6            \n",
       "2 2cc2591c            124                  1          7            \n",
       "3 2cc2591c            182                  6         13            \n",
       "4 2cc2591c            260                  8         21            \n",
       "5 2cc2591c            274                  7         28            "
      ]
     },
     "metadata": {},
     "output_type": "display_data"
    },
    {
     "data": {
      "image/png": "[encoded data removed]",
      "text/plain": [
       "Plot with title \"location = 2cc2591c \n",
       " case_placement_order - algorithmic (red) vs status quo\""
      ]
     },
     "metadata": {
      "image/png": {
       "height": 420,
       "width": 420
      }
     },
     "output_type": "display_data"
    }
   ],
   "source": [
    "loc_2cc = placement_accum %>% filter(arrival_location_id == \"2cc2591c\") %>%\n",
    "                     arrange(case_placement_order) %>% mutate(cumulative_sum = cumsum(case_size))\n",
    "head(loc_2cc, 5)\n",
    "\n",
    "par(bg = \"white\")\n",
    "\n",
    "\n",
    "\n",
    "case_data_2cc = case_data %>% filter (arrival_location_id == \"2cc2591c\")\n",
    "\n",
    "\n",
    "par(bg = \"white\")\n",
    "\n",
    "case_data_2cc$case_size_cumsum = cumsum(case_data_2cc$case_size)\n",
    "\n",
    "plot(case_data_2cc$case_placement_order,\n",
    "    case_data_2cc$case_size_cumsum, \n",
    "    main = \"location = 2cc2591c \\n case_placement_order - algorithmic (red) vs status quo\", \n",
    "    xlab = \"case_placement_order\", \n",
    "    ylab = \"case_size_cumsum\", \n",
    "    type = 'b', col = \"blue\"\n",
    "    )\n",
    "\n",
    "\n",
    "lines(loc_2cc$case_placement_order, \n",
    "    loc_2cc$cumulative_sum, \n",
    "    type = 'b', col = \"red\"\n",
    "    )"
   ]
  },
  {
   "cell_type": "code",
   "execution_count": 76,
   "metadata": {
    "vscode": {
     "languageId": "r"
    }
   },
   "outputs": [
    {
     "data": {
      "text/html": [
       "<style>\n",
       ".list-inline {list-style: none; margin:0; padding: 0}\n",
       ".list-inline>li {display: inline-block}\n",
       ".list-inline>li:not(:last-child)::after {content: \"\\00b7\"; padding: 0 .5ex}\n",
       "</style>\n",
       "<ol class=list-inline><li>31</li><li>7</li></ol>\n"
      ],
      "text/latex": [
       "\\begin{enumerate*}\n",
       "\\item 31\n",
       "\\item 7\n",
       "\\end{enumerate*}\n"
      ],
      "text/markdown": [
       "1. 31\n",
       "2. 7\n",
       "\n",
       "\n"
      ],
      "text/plain": [
       "[1] 31  7"
      ]
     },
     "metadata": {},
     "output_type": "display_data"
    },
    {
     "data": {
      "text/html": [
       "<table class=\"dataframe\">\n",
       "<caption>A data.frame: 1 x 1</caption>\n",
       "<thead>\n",
       "\t<tr><th scope=col>sum(free_case)</th></tr>\n",
       "\t<tr><th scope=col>&lt;dbl&gt;</th></tr>\n",
       "</thead>\n",
       "<tbody>\n",
       "\t<tr><td>9</td></tr>\n",
       "</tbody>\n",
       "</table>\n"
      ],
      "text/latex": [
       "A data.frame: 1 x 1\n",
       "\\begin{tabular}{l}\n",
       " sum(free\\_case)\\\\\n",
       " <dbl>\\\\\n",
       "\\hline\n",
       "\t 9\\\\\n",
       "\\end{tabular}\n"
      ],
      "text/markdown": [
       "\n",
       "A data.frame: 1 x 1\n",
       "\n",
       "| sum(free_case) &lt;dbl&gt; |\n",
       "|---|\n",
       "| 9 |\n",
       "\n"
      ],
      "text/plain": [
       "  sum(free_case)\n",
       "1 9             "
      ]
     },
     "metadata": {},
     "output_type": "display_data"
    }
   ],
   "source": [
    "# most cases are not free for this location\n",
    "\n",
    "dim(case_data %>% filter(arrival_location_id == \"2cc2591c\"))\n",
    "\n",
    "case_data %>% filter(arrival_location_id == \"2cc2591c\") %>% summarise(sum(free_case))"
   ]
  },
  {
   "cell_type": "code",
   "execution_count": 45,
   "metadata": {
    "vscode": {
     "languageId": "r"
    }
   },
   "outputs": [
    {
     "data": {
      "text/html": [
       "<table class=\"dataframe\">\n",
       "<caption>A data.frame: 6 x 3</caption>\n",
       "<thead>\n",
       "\t<tr><th scope=col>arrival_location_id</th><th scope=col>CaseType</th><th scope=col>Accepted</th></tr>\n",
       "\t<tr><th scope=col>&lt;chr&gt;</th><th scope=col>&lt;chr&gt;</th><th scope=col>&lt;chr&gt;</th></tr>\n",
       "</thead>\n",
       "<tbody>\n",
       "\t<tr><td>2cc2591c</td><td>SingleIndividualFemale</td><td>Yes</td></tr>\n",
       "\t<tr><td>2cc2591c</td><td>SingleIndividualMale  </td><td>Yes</td></tr>\n",
       "\t<tr><td>2cc2591c</td><td>SingleParentFamilies  </td><td>Yes</td></tr>\n",
       "\t<tr><td>19334d00</td><td>SingleIndividualFemale</td><td>Yes</td></tr>\n",
       "\t<tr><td>19334d00</td><td>SingleIndividualMale  </td><td>Yes</td></tr>\n",
       "\t<tr><td>19334d00</td><td>SingleParentFamilies  </td><td>No </td></tr>\n",
       "</tbody>\n",
       "</table>\n"
      ],
      "text/latex": [
       "A data.frame: 6 x 3\n",
       "\\begin{tabular}{lll}\n",
       " arrival\\_location\\_id & CaseType & Accepted\\\\\n",
       " <chr> & <chr> & <chr>\\\\\n",
       "\\hline\n",
       "\t 2cc2591c & SingleIndividualFemale & Yes\\\\\n",
       "\t 2cc2591c & SingleIndividualMale   & Yes\\\\\n",
       "\t 2cc2591c & SingleParentFamilies   & Yes\\\\\n",
       "\t 19334d00 & SingleIndividualFemale & Yes\\\\\n",
       "\t 19334d00 & SingleIndividualMale   & Yes\\\\\n",
       "\t 19334d00 & SingleParentFamilies   & No \\\\\n",
       "\\end{tabular}\n"
      ],
      "text/markdown": [
       "\n",
       "A data.frame: 6 x 3\n",
       "\n",
       "| arrival_location_id &lt;chr&gt; | CaseType &lt;chr&gt; | Accepted &lt;chr&gt; |\n",
       "|---|---|---|\n",
       "| 2cc2591c | SingleIndividualFemale | Yes |\n",
       "| 2cc2591c | SingleIndividualMale   | Yes |\n",
       "| 2cc2591c | SingleParentFamilies   | Yes |\n",
       "| 19334d00 | SingleIndividualFemale | Yes |\n",
       "| 19334d00 | SingleIndividualMale   | Yes |\n",
       "| 19334d00 | SingleParentFamilies   | No  |\n",
       "\n"
      ],
      "text/plain": [
       "  arrival_location_id CaseType               Accepted\n",
       "1 2cc2591c            SingleIndividualFemale Yes     \n",
       "2 2cc2591c            SingleIndividualMale   Yes     \n",
       "3 2cc2591c            SingleParentFamilies   Yes     \n",
       "4 19334d00            SingleIndividualFemale Yes     \n",
       "5 19334d00            SingleIndividualMale   Yes     \n",
       "6 19334d00            SingleParentFamilies   No      "
      ]
     },
     "metadata": {},
     "output_type": "display_data"
    }
   ],
   "source": [
    "casetype %>% filter (arrival_location_id == \"19334d00\" | arrival_location_id == \"2cc2591c\") \n"
   ]
  },
  {
   "cell_type": "code",
   "execution_count": 46,
   "metadata": {
    "vscode": {
     "languageId": "r"
    }
   },
   "outputs": [
    {
     "data": {
      "text/html": [
       "<table class=\"dataframe\">\n",
       "<caption>A data.frame: 37 x 2</caption>\n",
       "<thead>\n",
       "\t<tr><th scope=col>arrival_location_id</th><th scope=col>Nationality_norm</th></tr>\n",
       "\t<tr><th scope=col>&lt;chr&gt;</th><th scope=col>&lt;chr&gt;</th></tr>\n",
       "</thead>\n",
       "<tbody>\n",
       "\t<tr><td>2cc2591c</td><td>afghanistan</td></tr>\n",
       "\t<tr><td>2cc2591c</td><td>burma      </td></tr>\n",
       "\t<tr><td>2cc2591c</td><td>bhutan     </td></tr>\n",
       "\t<tr><td>2cc2591c</td><td>burundi    </td></tr>\n",
       "\t<tr><td>2cc2591c</td><td>demrepcongo</td></tr>\n",
       "\t<tr><td>2cc2591c</td><td>cameroon   </td></tr>\n",
       "\t<tr><td>2cc2591c</td><td>colombia   </td></tr>\n",
       "\t<tr><td>2cc2591c</td><td>cuba       </td></tr>\n",
       "\t<tr><td>2cc2591c</td><td>djibouti   </td></tr>\n",
       "\t<tr><td>2cc2591c</td><td>eritrea    </td></tr>\n",
       "\t<tr><td>2cc2591c</td><td>elsalvador </td></tr>\n",
       "\t<tr><td>2cc2591c</td><td>guatemala  </td></tr>\n",
       "\t<tr><td>2cc2591c</td><td>honduras   </td></tr>\n",
       "\t<tr><td>2cc2591c</td><td>iran       </td></tr>\n",
       "\t<tr><td>2cc2591c</td><td>iraq       </td></tr>\n",
       "\t<tr><td>2cc2591c</td><td>kazakhstan </td></tr>\n",
       "\t<tr><td>2cc2591c</td><td>liberia    </td></tr>\n",
       "\t<tr><td>2cc2591c</td><td>moldova    </td></tr>\n",
       "\t<tr><td>2cc2591c</td><td>nicaragua  </td></tr>\n",
       "\t<tr><td>2cc2591c</td><td>rwanda     </td></tr>\n",
       "\t<tr><td>2cc2591c</td><td>somalia    </td></tr>\n",
       "\t<tr><td>2cc2591c</td><td>southsudan </td></tr>\n",
       "\t<tr><td>2cc2591c</td><td>sudan      </td></tr>\n",
       "\t<tr><td>2cc2591c</td><td>syria      </td></tr>\n",
       "\t<tr><td>2cc2591c</td><td>ukraine    </td></tr>\n",
       "\t<tr><td>2cc2591c</td><td>venezuela  </td></tr>\n",
       "\t<tr><td>2cc2591c</td><td>vietnam    </td></tr>\n",
       "\t<tr><td>2cc2591c</td><td>yemen      </td></tr>\n",
       "\t<tr><td>19334d00</td><td>afghanistan</td></tr>\n",
       "\t<tr><td>19334d00</td><td>burma      </td></tr>\n",
       "\t<tr><td>19334d00</td><td>belarus    </td></tr>\n",
       "\t<tr><td>19334d00</td><td>congo      </td></tr>\n",
       "\t<tr><td>19334d00</td><td>demrepcongo</td></tr>\n",
       "\t<tr><td>19334d00</td><td>iraq       </td></tr>\n",
       "\t<tr><td>19334d00</td><td>russia     </td></tr>\n",
       "\t<tr><td>19334d00</td><td>syria      </td></tr>\n",
       "\t<tr><td>19334d00</td><td>ukraine    </td></tr>\n",
       "</tbody>\n",
       "</table>\n"
      ],
      "text/latex": [
       "A data.frame: 37 x 2\n",
       "\\begin{tabular}{ll}\n",
       " arrival\\_location\\_id & Nationality\\_norm\\\\\n",
       " <chr> & <chr>\\\\\n",
       "\\hline\n",
       "\t 2cc2591c & afghanistan\\\\\n",
       "\t 2cc2591c & burma      \\\\\n",
       "\t 2cc2591c & bhutan     \\\\\n",
       "\t 2cc2591c & burundi    \\\\\n",
       "\t 2cc2591c & demrepcongo\\\\\n",
       "\t 2cc2591c & cameroon   \\\\\n",
       "\t 2cc2591c & colombia   \\\\\n",
       "\t 2cc2591c & cuba       \\\\\n",
       "\t 2cc2591c & djibouti   \\\\\n",
       "\t 2cc2591c & eritrea    \\\\\n",
       "\t 2cc2591c & elsalvador \\\\\n",
       "\t 2cc2591c & guatemala  \\\\\n",
       "\t 2cc2591c & honduras   \\\\\n",
       "\t 2cc2591c & iran       \\\\\n",
       "\t 2cc2591c & iraq       \\\\\n",
       "\t 2cc2591c & kazakhstan \\\\\n",
       "\t 2cc2591c & liberia    \\\\\n",
       "\t 2cc2591c & moldova    \\\\\n",
       "\t 2cc2591c & nicaragua  \\\\\n",
       "\t 2cc2591c & rwanda     \\\\\n",
       "\t 2cc2591c & somalia    \\\\\n",
       "\t 2cc2591c & southsudan \\\\\n",
       "\t 2cc2591c & sudan      \\\\\n",
       "\t 2cc2591c & syria      \\\\\n",
       "\t 2cc2591c & ukraine    \\\\\n",
       "\t 2cc2591c & venezuela  \\\\\n",
       "\t 2cc2591c & vietnam    \\\\\n",
       "\t 2cc2591c & yemen      \\\\\n",
       "\t 19334d00 & afghanistan\\\\\n",
       "\t 19334d00 & burma      \\\\\n",
       "\t 19334d00 & belarus    \\\\\n",
       "\t 19334d00 & congo      \\\\\n",
       "\t 19334d00 & demrepcongo\\\\\n",
       "\t 19334d00 & iraq       \\\\\n",
       "\t 19334d00 & russia     \\\\\n",
       "\t 19334d00 & syria      \\\\\n",
       "\t 19334d00 & ukraine    \\\\\n",
       "\\end{tabular}\n"
      ],
      "text/markdown": [
       "\n",
       "A data.frame: 37 x 2\n",
       "\n",
       "| arrival_location_id &lt;chr&gt; | Nationality_norm &lt;chr&gt; |\n",
       "|---|---|\n",
       "| 2cc2591c | afghanistan |\n",
       "| 2cc2591c | burma       |\n",
       "| 2cc2591c | bhutan      |\n",
       "| 2cc2591c | burundi     |\n",
       "| 2cc2591c | demrepcongo |\n",
       "| 2cc2591c | cameroon    |\n",
       "| 2cc2591c | colombia    |\n",
       "| 2cc2591c | cuba        |\n",
       "| 2cc2591c | djibouti    |\n",
       "| 2cc2591c | eritrea     |\n",
       "| 2cc2591c | elsalvador  |\n",
       "| 2cc2591c | guatemala   |\n",
       "| 2cc2591c | honduras    |\n",
       "| 2cc2591c | iran        |\n",
       "| 2cc2591c | iraq        |\n",
       "| 2cc2591c | kazakhstan  |\n",
       "| 2cc2591c | liberia     |\n",
       "| 2cc2591c | moldova     |\n",
       "| 2cc2591c | nicaragua   |\n",
       "| 2cc2591c | rwanda      |\n",
       "| 2cc2591c | somalia     |\n",
       "| 2cc2591c | southsudan  |\n",
       "| 2cc2591c | sudan       |\n",
       "| 2cc2591c | syria       |\n",
       "| 2cc2591c | ukraine     |\n",
       "| 2cc2591c | venezuela   |\n",
       "| 2cc2591c | vietnam     |\n",
       "| 2cc2591c | yemen       |\n",
       "| 19334d00 | afghanistan |\n",
       "| 19334d00 | burma       |\n",
       "| 19334d00 | belarus     |\n",
       "| 19334d00 | congo       |\n",
       "| 19334d00 | demrepcongo |\n",
       "| 19334d00 | iraq        |\n",
       "| 19334d00 | russia      |\n",
       "| 19334d00 | syria       |\n",
       "| 19334d00 | ukraine     |\n",
       "\n"
      ],
      "text/plain": [
       "   arrival_location_id Nationality_norm\n",
       "1  2cc2591c            afghanistan     \n",
       "2  2cc2591c            burma           \n",
       "3  2cc2591c            bhutan          \n",
       "4  2cc2591c            burundi         \n",
       "5  2cc2591c            demrepcongo     \n",
       "6  2cc2591c            cameroon        \n",
       "7  2cc2591c            colombia        \n",
       "8  2cc2591c            cuba            \n",
       "9  2cc2591c            djibouti        \n",
       "10 2cc2591c            eritrea         \n",
       "11 2cc2591c            elsalvador      \n",
       "12 2cc2591c            guatemala       \n",
       "13 2cc2591c            honduras        \n",
       "14 2cc2591c            iran            \n",
       "15 2cc2591c            iraq            \n",
       "16 2cc2591c            kazakhstan      \n",
       "17 2cc2591c            liberia         \n",
       "18 2cc2591c            moldova         \n",
       "19 2cc2591c            nicaragua       \n",
       "20 2cc2591c            rwanda          \n",
       "21 2cc2591c            somalia         \n",
       "22 2cc2591c            southsudan      \n",
       "23 2cc2591c            sudan           \n",
       "24 2cc2591c            syria           \n",
       "25 2cc2591c            ukraine         \n",
       "26 2cc2591c            venezuela       \n",
       "27 2cc2591c            vietnam         \n",
       "28 2cc2591c            yemen           \n",
       "29 19334d00            afghanistan     \n",
       "30 19334d00            burma           \n",
       "31 19334d00            belarus         \n",
       "32 19334d00            congo           \n",
       "33 19334d00            demrepcongo     \n",
       "34 19334d00            iraq            \n",
       "35 19334d00            russia          \n",
       "36 19334d00            syria           \n",
       "37 19334d00            ukraine         "
      ]
     },
     "metadata": {},
     "output_type": "display_data"
    }
   ],
   "source": [
    "nationality %>% filter (arrival_location_id == \"19334d00\" | arrival_location_id == \"2cc2591c\") \n"
   ]
  },
  {
   "cell_type": "markdown",
   "metadata": {},
   "source": [
    "### Question 3 Part E"
   ]
  },
  {
   "cell_type": "code",
   "execution_count": 47,
   "metadata": {
    "vscode": {
     "languageId": "r"
    }
   },
   "outputs": [
    {
     "data": {
      "text/html": [
       "418.424164540388"
      ],
      "text/latex": [
       "418.424164540388"
      ],
      "text/markdown": [
       "418.424164540388"
      ],
      "text/plain": [
       "[1] 418.4242"
      ]
     },
     "metadata": {},
     "output_type": "display_data"
    }
   ],
   "source": [
    "mean(buildup_accum)"
   ]
  },
  {
   "cell_type": "markdown",
   "metadata": {},
   "source": [
    "Avegrage buildup under algorithmic placement is 418.42"
   ]
  },
  {
   "cell_type": "markdown",
   "metadata": {},
   "source": [
    "### Distribution of Buildup Accumulation"
   ]
  },
  {
   "cell_type": "code",
   "execution_count": 48,
   "metadata": {
    "vscode": {
     "languageId": "r"
    }
   },
   "outputs": [
    {
     "data": {
      "image/png": "[encoded data removed]",
      "text/plain": [
       "Plot with title \"Distribution of buildup_accum\""
      ]
     },
     "metadata": {
      "image/png": {
       "height": 420,
       "width": 420
      }
     },
     "output_type": "display_data"
    }
   ],
   "source": [
    "#plot the distribution of buildup_accum\n",
    "\n",
    "par(bg = \"white\")\n",
    "\n",
    "hist(buildup_accum, \n",
    "    main = \"Distribution of buildup_accum\", \n",
    "    xlab = \"buildup_accum\", \n",
    "    col = \"lightblue\", \n",
    "    border = \"black\"\n",
    "    )"
   ]
  },
  {
   "cell_type": "markdown",
   "metadata": {},
   "source": [
    " The average buildup across all locations finally is 418.4"
   ]
  },
  {
   "cell_type": "markdown",
   "metadata": {},
   "source": [
    "### Question 3 Part F"
   ]
  },
  {
   "cell_type": "markdown",
   "metadata": {},
   "source": [
    "I would expect the algorithmic average build up to be more evenly distributed than the status quo average build up. This is because while assigning cases to locations, we check across all locations buildup to make sure that no place has too many people."
   ]
  },
  {
   "cell_type": "markdown",
   "metadata": {},
   "source": [
    "### Question 3 Part G"
   ]
  },
  {
   "cell_type": "markdown",
   "metadata": {},
   "source": [
    "Depends on how the status quo placements are made - if they consider constraints, then algorithmic placements will be different when there are no constraint (due to round robin nature). If they do not consider constraints, then algorithm will differ where there are many constraints.\n",
    "\n",
    "Either way - number of free cases \n",
    "\n",
    "\n",
    "I think that case constraints would increase the difference between the algorithmic and status quo average buildups. Cases are assigned locations based on case constraints , and less constraints means that algorithm can assign the cases in a more round robin fashion. Similarly free cases will lead to a difference in average buildups. The more the free cases, the more the cases can be distributed. "
   ]
  },
  {
   "cell_type": "code",
   "execution_count": 49,
   "metadata": {
    "vscode": {
     "languageId": "r"
    }
   },
   "outputs": [],
   "source": [
    "unique_cases = data[!duplicated(data$case_id),] \n"
   ]
  },
  {
   "cell_type": "code",
   "execution_count": 50,
   "metadata": {
    "vscode": {
     "languageId": "r"
    }
   },
   "outputs": [
    {
     "data": {
      "text/html": [
       "<style>\n",
       ".list-inline {list-style: none; margin:0; padding: 0}\n",
       ".list-inline>li {display: inline-block}\n",
       ".list-inline>li:not(:last-child)::after {content: \"\\00b7\"; padding: 0 .5ex}\n",
       "</style>\n",
       "<ol class=list-inline><li>211</li><li>9</li></ol>\n"
      ],
      "text/latex": [
       "\\begin{enumerate*}\n",
       "\\item 211\n",
       "\\item 9\n",
       "\\end{enumerate*}\n"
      ],
      "text/markdown": [
       "1. 211\n",
       "2. 9\n",
       "\n",
       "\n"
      ],
      "text/plain": [
       "[1] 211   9"
      ]
     },
     "metadata": {},
     "output_type": "display_data"
    },
    {
     "data": {
      "text/html": [
       "<table class=\"dataframe\">\n",
       "<caption>A data.frame: 5 x 9</caption>\n",
       "<thead>\n",
       "\t<tr><th></th><th scope=col>case_id</th><th scope=col>arrival_location_id.x</th><th scope=col>alogrithmic_location</th><th scope=col>algo_same</th><th scope=col>case_size</th><th scope=col>free_case</th><th scope=col>hard_singles_male</th><th scope=col>hard_singles_female</th><th scope=col>hard_spf</th></tr>\n",
       "\t<tr><th></th><th scope=col>&lt;chr&gt;</th><th scope=col>&lt;chr&gt;</th><th scope=col>&lt;chr&gt;</th><th scope=col>&lt;dbl&gt;</th><th scope=col>&lt;dbl&gt;</th><th scope=col>&lt;dbl&gt;</th><th scope=col>&lt;dbl&gt;</th><th scope=col>&lt;dbl&gt;</th><th scope=col>&lt;dbl&gt;</th></tr>\n",
       "</thead>\n",
       "<tbody>\n",
       "\t<tr><th scope=row>1</th><td>3c01df8e5923ad49c08fe61e41972e32</td><td>2cc2591c</td><td>eb58ce03</td><td>0</td><td>2</td><td>1</td><td>1</td><td>0</td><td>1</td></tr>\n",
       "\t<tr><th scope=row>2</th><td>87253f40d2bb0828aebd58d5dacdc64e</td><td>2cc2591c</td><td>0a91d577</td><td>0</td><td>7</td><td>1</td><td>0</td><td>0</td><td>1</td></tr>\n",
       "\t<tr><th scope=row>3</th><td>fecc7defc2cfeb19c5a59be1f362640c</td><td>2cc2591c</td><td>3f60c16b</td><td>0</td><td>2</td><td>1</td><td>1</td><td>0</td><td>1</td></tr>\n",
       "\t<tr><th scope=row>4</th><td>101f0746ae4dfe8c6d7607020fd1b50e</td><td>eb58ce03</td><td>2cc2591c</td><td>0</td><td>6</td><td>1</td><td>0</td><td>0</td><td>0</td></tr>\n",
       "\t<tr><th scope=row>5</th><td>942eeaacb5c9678d9381d8f93a524a47</td><td>c572d3f4</td><td>b794e0ae</td><td>0</td><td>1</td><td>1</td><td>0</td><td>0</td><td>0</td></tr>\n",
       "</tbody>\n",
       "</table>\n"
      ],
      "text/latex": [
       "A data.frame: 5 x 9\n",
       "\\begin{tabular}{r|lllllllll}\n",
       "  & case\\_id & arrival\\_location\\_id.x & alogrithmic\\_location & algo\\_same & case\\_size & free\\_case & hard\\_singles\\_male & hard\\_singles\\_female & hard\\_spf\\\\\n",
       "  & <chr> & <chr> & <chr> & <dbl> & <dbl> & <dbl> & <dbl> & <dbl> & <dbl>\\\\\n",
       "\\hline\n",
       "\t1 & 3c01df8e5923ad49c08fe61e41972e32 & 2cc2591c & eb58ce03 & 0 & 2 & 1 & 1 & 0 & 1\\\\\n",
       "\t2 & 87253f40d2bb0828aebd58d5dacdc64e & 2cc2591c & 0a91d577 & 0 & 7 & 1 & 0 & 0 & 1\\\\\n",
       "\t3 & fecc7defc2cfeb19c5a59be1f362640c & 2cc2591c & 3f60c16b & 0 & 2 & 1 & 1 & 0 & 1\\\\\n",
       "\t4 & 101f0746ae4dfe8c6d7607020fd1b50e & eb58ce03 & 2cc2591c & 0 & 6 & 1 & 0 & 0 & 0\\\\\n",
       "\t5 & 942eeaacb5c9678d9381d8f93a524a47 & c572d3f4 & b794e0ae & 0 & 1 & 1 & 0 & 0 & 0\\\\\n",
       "\\end{tabular}\n"
      ],
      "text/markdown": [
       "\n",
       "A data.frame: 5 x 9\n",
       "\n",
       "| <!--/--> | case_id &lt;chr&gt; | arrival_location_id.x &lt;chr&gt; | alogrithmic_location &lt;chr&gt; | algo_same &lt;dbl&gt; | case_size &lt;dbl&gt; | free_case &lt;dbl&gt; | hard_singles_male &lt;dbl&gt; | hard_singles_female &lt;dbl&gt; | hard_spf &lt;dbl&gt; |\n",
       "|---|---|---|---|---|---|---|---|---|---|\n",
       "| 1 | 3c01df8e5923ad49c08fe61e41972e32 | 2cc2591c | eb58ce03 | 0 | 2 | 1 | 1 | 0 | 1 |\n",
       "| 2 | 87253f40d2bb0828aebd58d5dacdc64e | 2cc2591c | 0a91d577 | 0 | 7 | 1 | 0 | 0 | 1 |\n",
       "| 3 | fecc7defc2cfeb19c5a59be1f362640c | 2cc2591c | 3f60c16b | 0 | 2 | 1 | 1 | 0 | 1 |\n",
       "| 4 | 101f0746ae4dfe8c6d7607020fd1b50e | eb58ce03 | 2cc2591c | 0 | 6 | 1 | 0 | 0 | 0 |\n",
       "| 5 | 942eeaacb5c9678d9381d8f93a524a47 | c572d3f4 | b794e0ae | 0 | 1 | 1 | 0 | 0 | 0 |\n",
       "\n"
      ],
      "text/plain": [
       "  case_id                          arrival_location_id.x alogrithmic_location\n",
       "1 3c01df8e5923ad49c08fe61e41972e32 2cc2591c              eb58ce03            \n",
       "2 87253f40d2bb0828aebd58d5dacdc64e 2cc2591c              0a91d577            \n",
       "3 fecc7defc2cfeb19c5a59be1f362640c 2cc2591c              3f60c16b            \n",
       "4 101f0746ae4dfe8c6d7607020fd1b50e eb58ce03              2cc2591c            \n",
       "5 942eeaacb5c9678d9381d8f93a524a47 c572d3f4              b794e0ae            \n",
       "  algo_same case_size free_case hard_singles_male hard_singles_female hard_spf\n",
       "1 0         2         1         1                 0                   1       \n",
       "2 0         7         1         0                 0                   1       \n",
       "3 0         2         1         1                 0                   1       \n",
       "4 0         6         1         0                 0                   0       \n",
       "5 0         1         1         0                 0                   0       "
      ]
     },
     "metadata": {},
     "output_type": "display_data"
    }
   ],
   "source": [
    "#join case_data with algorithmic_case_location\n",
    "#trying to see which constraints will result in the maximum difference in algorithmic placement and status quo placement\n",
    "\n",
    "case_data_and_algorithmic_location = case_data %>% \n",
    "    left_join(algorithmic_case_location, by = c('case_id' = 'case_id')) %>%\n",
    "    select(case_id, arrival_location_id, alogrithmic_location)\n",
    "\n",
    "\n",
    "# head(case_data_and_algorithmic_location,5)\n",
    "\n",
    "\n",
    "case_data_and_algorithmic_location = case_data_and_algorithmic_location %>%\n",
    "    left_join(unique_cases, by = c('case_id' = 'case_id')) %>%\n",
    "    mutate (algo_same = ifelse(arrival_location_id.x == alogrithmic_location, 1, 0)) %>%\n",
    "    select(case_id, arrival_location_id.x, alogrithmic_location, algo_same, case_size, free_case, hard_singles_male, hard_singles_female, hard_spf) %>%\n",
    "    arrange(algo_same)\n",
    "\n",
    "\n",
    "free_case_data_and_algorithmic_location = case_data_and_algorithmic_location %>% filter(free_case == 1)\n",
    " \n",
    "dim(free_case_data_and_algorithmic_location)\n",
    "head(free_case_data_and_algorithmic_location,5)\n"
   ]
  },
  {
   "cell_type": "code",
   "execution_count": 51,
   "metadata": {
    "vscode": {
     "languageId": "r"
    }
   },
   "outputs": [],
   "source": [
    "# count of cases by free case and algo_same\n",
    "# case_data_and_algorithmic_location %>% group_by(free_case, algo_same) %>% summarise(count = n())\n",
    "\n",
    "# free_case_data_and_algorithmic_location %>% group_by( algo_same,hard_singles_female) %>% summarise(count = n())\n",
    "\n",
    "# free_case_data_and_algorithmic_location %>% group_by( algo_same,hard_singles_male) %>% summarise(count = n())\n",
    "\n",
    "# free_case_data_and_algorithmic_location %>% group_by( algo_same,hard_spf) %>% summarise(count = n())"
   ]
  },
  {
   "cell_type": "markdown",
   "metadata": {},
   "source": [
    "### Question 3 Part H"
   ]
  },
  {
   "cell_type": "markdown",
   "metadata": {},
   "source": [
    "I think one factor that we can look at is rate of intake of cases. It is slightly from buildup in the sense that we look at the pattern of the locations previous intakes. We can maintain a priority queue, and locations with a lower rate of intake can be assigned a higher priority - new cases can be assigned to them. This way we can further ensure that cases are distributed and no place is overloaded.\n"
   ]
  },
  {
   "cell_type": "markdown",
   "metadata": {},
   "source": [
    "### Question 3 Part I- Avg Buildup under status quo"
   ]
  },
  {
   "cell_type": "code",
   "execution_count": 52,
   "metadata": {
    "vscode": {
     "languageId": "r"
    }
   },
   "outputs": [
    {
     "data": {
      "text/html": [
       "<table class=\"dataframe\">\n",
       "<caption>A data.frame: 5 x 6</caption>\n",
       "<thead>\n",
       "\t<tr><th></th><th scope=col>arrival_location_id</th><th scope=col>capacity_quota</th><th scope=col>capacity_rate</th><th scope=col>available_capacity</th><th scope=col>arrival_location_order</th><th scope=col>buildup</th></tr>\n",
       "\t<tr><th></th><th scope=col>&lt;chr&gt;</th><th scope=col>&lt;dbl&gt;</th><th scope=col>&lt;dbl&gt;</th><th scope=col>&lt;dbl&gt;</th><th scope=col>&lt;int&gt;</th><th scope=col>&lt;dbl&gt;</th></tr>\n",
       "</thead>\n",
       "<tbody>\n",
       "\t<tr><th scope=row>1</th><td>88311c24</td><td>104</td><td>32.61538</td><td>104</td><td>1</td><td>0</td></tr>\n",
       "\t<tr><th scope=row>2</th><td>2cc2591c</td><td>104</td><td>32.61538</td><td>104</td><td>2</td><td>0</td></tr>\n",
       "\t<tr><th scope=row>3</th><td>56af9059</td><td>141</td><td>24.05674</td><td>141</td><td>3</td><td>0</td></tr>\n",
       "\t<tr><th scope=row>4</th><td>b5b999a4</td><td>140</td><td>24.22857</td><td>140</td><td>4</td><td>0</td></tr>\n",
       "\t<tr><th scope=row>5</th><td>19c12683</td><td>172</td><td>19.72093</td><td>172</td><td>5</td><td>0</td></tr>\n",
       "</tbody>\n",
       "</table>\n"
      ],
      "text/latex": [
       "A data.frame: 5 x 6\n",
       "\\begin{tabular}{r|llllll}\n",
       "  & arrival\\_location\\_id & capacity\\_quota & capacity\\_rate & available\\_capacity & arrival\\_location\\_order & buildup\\\\\n",
       "  & <chr> & <dbl> & <dbl> & <dbl> & <int> & <dbl>\\\\\n",
       "\\hline\n",
       "\t1 & 88311c24 & 104 & 32.61538 & 104 & 1 & 0\\\\\n",
       "\t2 & 2cc2591c & 104 & 32.61538 & 104 & 2 & 0\\\\\n",
       "\t3 & 56af9059 & 141 & 24.05674 & 141 & 3 & 0\\\\\n",
       "\t4 & b5b999a4 & 140 & 24.22857 & 140 & 4 & 0\\\\\n",
       "\t5 & 19c12683 & 172 & 19.72093 & 172 & 5 & 0\\\\\n",
       "\\end{tabular}\n"
      ],
      "text/markdown": [
       "\n",
       "A data.frame: 5 x 6\n",
       "\n",
       "| <!--/--> | arrival_location_id &lt;chr&gt; | capacity_quota &lt;dbl&gt; | capacity_rate &lt;dbl&gt; | available_capacity &lt;dbl&gt; | arrival_location_order &lt;int&gt; | buildup &lt;dbl&gt; |\n",
       "|---|---|---|---|---|---|---|\n",
       "| 1 | 88311c24 | 104 | 32.61538 | 104 | 1 | 0 |\n",
       "| 2 | 2cc2591c | 104 | 32.61538 | 104 | 2 | 0 |\n",
       "| 3 | 56af9059 | 141 | 24.05674 | 141 | 3 | 0 |\n",
       "| 4 | b5b999a4 | 140 | 24.22857 | 140 | 4 | 0 |\n",
       "| 5 | 19c12683 | 172 | 19.72093 | 172 | 5 | 0 |\n",
       "\n"
      ],
      "text/plain": [
       "  arrival_location_id capacity_quota capacity_rate available_capacity\n",
       "1 88311c24            104            32.61538      104               \n",
       "2 2cc2591c            104            32.61538      104               \n",
       "3 56af9059            141            24.05674      141               \n",
       "4 b5b999a4            140            24.22857      140               \n",
       "5 19c12683            172            19.72093      172               \n",
       "  arrival_location_order buildup\n",
       "1 1                      0      \n",
       "2 2                      0      \n",
       "3 3                      0      \n",
       "4 4                      0      \n",
       "5 5                      0      "
      ]
     },
     "metadata": {},
     "output_type": "display_data"
    }
   ],
   "source": [
    "# head(location_capacity_checkpoint,2)\n",
    "location_capacity_copy = location_capacity_checkpoint\n",
    "# head(location_capacity_copy,2)\n",
    "\n",
    "#ordering by arrival_location_order\n",
    "location_capacity_copy = location_capacity_copy %>%\n",
    "                         arrange(arrival_location_order)\n",
    "head(location_capacity_copy,5)\n",
    "\n",
    "status_quo_buildup_accum = c()\n"
   ]
  },
  {
   "cell_type": "code",
   "execution_count": 53,
   "metadata": {
    "vscode": {
     "languageId": "r"
    }
   },
   "outputs": [],
   "source": [
    "#calculating buildup \n",
    "\n",
    "case_data_copy =data[!duplicated(data$case_id),] %>% \n",
    "    select(case_id, arrival_location_id, case_size, case_placement_order,arrival_location_order,free_case) %>% \n",
    "    arrange(case_placement_order)"
   ]
  },
  {
   "cell_type": "code",
   "execution_count": 54,
   "metadata": {
    "vscode": {
     "languageId": "r"
    }
   },
   "outputs": [],
   "source": [
    "num_rows = nrow(case_data_copy)\n",
    "\n",
    "for (i in 1:num_rows) {\n",
    "\n",
    "\n",
    "    curr_arrival_location_id = case_data_copy$arrival_location_id[i]\n",
    "    curr_case_size = case_data_copy$case_size[i]\n",
    "\n",
    "    # print(curr_arrival_location_id)\n",
    "    # print(curr_case_size)\n",
    "    # print('*********')\n",
    "\n",
    "    status_quo_buildup_accum = c(status_quo_buildup_accum, location_capacity_copy$buildup)\n",
    "\n",
    "    #update capacity given location_id\n",
    "    updated_lc = location_capacity_copy %>%\n",
    "        filter(arrival_location_id == curr_arrival_location_id) %>%\n",
    "        mutate(available_capacity = available_capacity - curr_case_size)\n",
    "\n",
    "    # update buildup given location_id\n",
    "    updated_lc= updated_lc %>%\n",
    "        filter(arrival_location_id == curr_arrival_location_id) %>%\n",
    "        mutate(buildup = max(0, (buildup - curr_case_size)) + (curr_case_size * capacity_rate))\n",
    "\n",
    "\n",
    "    #update buildup of non location_id\n",
    "    update_non_lc =  location_capacity_copy %>% \n",
    "        filter(arrival_location_id != curr_arrival_location_id) %>%\n",
    "        mutate(buildup = buildup - curr_case_size)\n",
    "\n",
    "\n",
    "\n",
    "    location_capacity_copy =  rbind(updated_lc, update_non_lc) \n",
    "\n",
    "\n",
    "\n",
    "}\n"
   ]
  },
  {
   "cell_type": "code",
   "execution_count": 55,
   "metadata": {
    "vscode": {
     "languageId": "r"
    }
   },
   "outputs": [
    {
     "data": {
      "text/html": [
       "464.352209926145"
      ],
      "text/latex": [
       "464.352209926145"
      ],
      "text/markdown": [
       "464.352209926145"
      ],
      "text/plain": [
       "[1] 464.3522"
      ]
     },
     "metadata": {},
     "output_type": "display_data"
    }
   ],
   "source": [
    "#find the average buildup\n",
    "avg_buildup = mean(status_quo_buildup_accum)\n",
    "avg_buildup"
   ]
  },
  {
   "cell_type": "markdown",
   "metadata": {},
   "source": [
    "Average buildup under status quo placments is 464.35 (agorithmic - 418.42)"
   ]
  },
  {
   "cell_type": "markdown",
   "metadata": {},
   "source": [
    "### Distributions of buildups for status quo and algorithmic placements"
   ]
  },
  {
   "cell_type": "code",
   "execution_count": 56,
   "metadata": {
    "vscode": {
     "languageId": "r"
    }
   },
   "outputs": [
    {
     "data": {
      "image/png": "[encoded data removed]",
      "text/plain": [
       "Plot with title \"Distribution of algorithmic buildup_accum\""
      ]
     },
     "metadata": {
      "image/png": {
       "height": 420,
       "width": 420
      }
     },
     "output_type": "display_data"
    },
    {
     "data": {
      "image/png": "[encoded data removed]",
      "text/plain": [
       "Plot with title \"Distribution of status_quo_buildup_accum\""
      ]
     },
     "metadata": {
      "image/png": {
       "height": 420,
       "width": 420
      }
     },
     "output_type": "display_data"
    }
   ],
   "source": [
    "#plot the distribution of buildup_accum\n",
    "\n",
    "common_range <- range(c(buildup_accum, status_quo_buildup_accum))\n",
    "\n",
    "#calculate histogram without plotting\n",
    "hist_buildup <- hist(buildup_accum, plot = FALSE)\n",
    "hist_status_quo_buildup <- hist(status_quo_buildup_accum, plot = FALSE)\n",
    "\n",
    "# Find the maximum frequency from both histograms\n",
    "max_freq <- max(hist_buildup$counts, hist_status_quo_buildup$counts)\n",
    "\n",
    "\n",
    "par(bg = \"white\")\n",
    "hist(buildup_accum, \n",
    "    main = \"Distribution of algorithmic buildup_accum\", \n",
    "    xlab = \"buildup_accum\", \n",
    "    col = \"red\", \n",
    "    border = \"black\",\n",
    "    xlim = common_range,\n",
    "    ylim = c(0, max_freq)\n",
    "    )\n",
    "\n",
    "par(bg = \"white\")\n",
    "hist(status_quo_buildup_accum, \n",
    "    main = \"Distribution of status_quo_buildup_accum\", \n",
    "    xlab = \"buildup_accum\", \n",
    "    col = \"lightblue\", \n",
    "    border = \"black\",\n",
    "    xlim = common_range,\n",
    "    ylim = c(0, max_freq)\n",
    "    )\n",
    "\n"
   ]
  },
  {
   "cell_type": "markdown",
   "metadata": {},
   "source": [
    "### plots of buildups for everything but the first 4 cycles"
   ]
  },
  {
   "cell_type": "code",
   "execution_count": 57,
   "metadata": {
    "vscode": {
     "languageId": "r"
    }
   },
   "outputs": [
    {
     "data": {
      "image/png": "[encoded data removed]",
      "text/plain": [
       "Plot with title \"Distribution of algorithmic buildup_accum\""
      ]
     },
     "metadata": {
      "image/png": {
       "height": 420,
       "width": 420
      }
     },
     "output_type": "display_data"
    },
    {
     "data": {
      "image/png": "[encoded data removed]",
      "text/plain": [
       "Plot with title \"Distribution of status_quo_buildup_accum\""
      ]
     },
     "metadata": {
      "image/png": {
       "height": 420,
       "width": 420
      }
     },
     "output_type": "display_data"
    }
   ],
   "source": [
    "#plot the distribution of buildup_accum\n",
    "\n",
    "#everything but the first four cycles\n",
    "\n",
    "par(bg = \"white\")\n",
    "hist(tail(buildup_accum, \n",
    "        length(buildup_accum)-200) , \n",
    "        main = \"Distribution of algorithmic buildup_accum\",\n",
    "        xlab = \"buildup_accum\", \n",
    "        col = \"red\", \n",
    "        border = \"black\")\n",
    "\n",
    "\n",
    "par(bg = \"white\")\n",
    "hist(head(status_quo_buildup_accum, \n",
    "    length(status_quo_buildup_accum)-200),\n",
    "     main = \"Distribution of status_quo_buildup_accum\", \n",
    "     xlab = \"buildup_accum\", \n",
    "     col = \"lightblue\",\n",
    "      border = \"black\")\n",
    "\n",
    "#algorithmic better because more locations with less buildup and less locations with more buildup"
   ]
  },
  {
   "cell_type": "code",
   "execution_count": 58,
   "metadata": {
    "vscode": {
     "languageId": "r"
    }
   },
   "outputs": [],
   "source": [
    "#plot the distribution of buildup_accum\n",
    "\n",
    "# par(bg = \"white\")\n",
    "#     hist(tail(buildup_accum,100),\n",
    "#     main = \"Distribution of algorithmic buildup_accum\", \n",
    "#     xlab = \"buildup_accum\", \n",
    "#     col = \"red\", \n",
    "#     border = \"black\")\n",
    "\n",
    "# par(bg = \"white\")\n",
    "#     hist(tail(status_quo_buildup_accum,100),\n",
    "#     main = \"Distribution of status_quo_buildup_accum\",\n",
    "#     xlab = \"buildup_accum\", \n",
    "#     col = \"lightblue\", \n",
    "#     order = \"black\")"
   ]
  },
  {
   "cell_type": "markdown",
   "metadata": {},
   "source": [
    "# Problem 2"
   ]
  },
  {
   "cell_type": "markdown",
   "metadata": {},
   "source": [
    "For this question, we want to check how many jobs per month each immigrant has"
   ]
  },
  {
   "cell_type": "markdown",
   "metadata": {},
   "source": [
    "### Approach\n",
    " 1. In the Dem data, create a column of all the 36 months we are interested in. (in date -> 3 years after)\n",
    " 2. In the job data, for each row , create a list of all the months where the person was employed.\n",
    " 3. Group the job data by person_id -> we will get a df of person_id and all the months they were employed\n",
    " 4. Join the dem data with the grouped job data and find the intersection of the months (i.e intersection of months employed and the first 36 months)\n",
    " 5. This resulting DF will give us the employment information for that period of 36 months."
   ]
  },
  {
   "cell_type": "markdown",
   "metadata": {},
   "source": []
  },
  {
   "cell_type": "code",
   "execution_count": 59,
   "metadata": {
    "vscode": {
     "languageId": "r"
    }
   },
   "outputs": [
    {
     "data": {
      "text/html": [
       "<table class=\"dataframe\">\n",
       "<caption>A data.frame: 5 x 3</caption>\n",
       "<thead>\n",
       "\t<tr><th></th><th scope=col>PERS_ID</th><th scope=col>YM_in</th><th scope=col>YM_out</th></tr>\n",
       "\t<tr><th></th><th scope=col>&lt;int&gt;</th><th scope=col>&lt;int&gt;</th><th scope=col>&lt;int&gt;</th></tr>\n",
       "</thead>\n",
       "<tbody>\n",
       "\t<tr><th scope=row>1</th><td>117620359</td><td>201108</td><td>201412</td></tr>\n",
       "\t<tr><th scope=row>2</th><td>118209775</td><td>201201</td><td>201804</td></tr>\n",
       "\t<tr><th scope=row>3</th><td>118897301</td><td>201009</td><td>201412</td></tr>\n",
       "\t<tr><th scope=row>4</th><td>119235707</td><td>201305</td><td>201712</td></tr>\n",
       "\t<tr><th scope=row>5</th><td>120243185</td><td>200803</td><td>201711</td></tr>\n",
       "</tbody>\n",
       "</table>\n"
      ],
      "text/latex": [
       "A data.frame: 5 x 3\n",
       "\\begin{tabular}{r|lll}\n",
       "  & PERS\\_ID & YM\\_in & YM\\_out\\\\\n",
       "  & <int> & <int> & <int>\\\\\n",
       "\\hline\n",
       "\t1 & 117620359 & 201108 & 201412\\\\\n",
       "\t2 & 118209775 & 201201 & 201804\\\\\n",
       "\t3 & 118897301 & 201009 & 201412\\\\\n",
       "\t4 & 119235707 & 201305 & 201712\\\\\n",
       "\t5 & 120243185 & 200803 & 201711\\\\\n",
       "\\end{tabular}\n"
      ],
      "text/markdown": [
       "\n",
       "A data.frame: 5 x 3\n",
       "\n",
       "| <!--/--> | PERS_ID &lt;int&gt; | YM_in &lt;int&gt; | YM_out &lt;int&gt; |\n",
       "|---|---|---|---|\n",
       "| 1 | 117620359 | 201108 | 201412 |\n",
       "| 2 | 118209775 | 201201 | 201804 |\n",
       "| 3 | 118897301 | 201009 | 201412 |\n",
       "| 4 | 119235707 | 201305 | 201712 |\n",
       "| 5 | 120243185 | 200803 | 201711 |\n",
       "\n"
      ],
      "text/plain": [
       "  PERS_ID   YM_in  YM_out\n",
       "1 117620359 201108 201412\n",
       "2 118209775 201201 201804\n",
       "3 118897301 201009 201412\n",
       "4 119235707 201305 201712\n",
       "5 120243185 200803 201711"
      ]
     },
     "metadata": {},
     "output_type": "display_data"
    },
    {
     "data": {
      "text/html": [
       "<table class=\"dataframe\">\n",
       "<caption>A data.frame: 5 x 3</caption>\n",
       "<thead>\n",
       "\t<tr><th></th><th scope=col>PERS_ID</th><th scope=col>YM_start</th><th scope=col>YM_end</th></tr>\n",
       "\t<tr><th></th><th scope=col>&lt;int&gt;</th><th scope=col>&lt;int&gt;</th><th scope=col>&lt;int&gt;</th></tr>\n",
       "</thead>\n",
       "<tbody>\n",
       "\t<tr><th scope=row>1</th><td>114366763</td><td>201711</td><td>201802</td></tr>\n",
       "\t<tr><th scope=row>2</th><td>116609197</td><td>199408</td><td>199408</td></tr>\n",
       "\t<tr><th scope=row>3</th><td>116609197</td><td>199408</td><td>199508</td></tr>\n",
       "\t<tr><th scope=row>4</th><td>116609197</td><td>200103</td><td>200301</td></tr>\n",
       "\t<tr><th scope=row>5</th><td>117477969</td><td>199406</td><td>199505</td></tr>\n",
       "</tbody>\n",
       "</table>\n"
      ],
      "text/latex": [
       "A data.frame: 5 x 3\n",
       "\\begin{tabular}{r|lll}\n",
       "  & PERS\\_ID & YM\\_start & YM\\_end\\\\\n",
       "  & <int> & <int> & <int>\\\\\n",
       "\\hline\n",
       "\t1 & 114366763 & 201711 & 201802\\\\\n",
       "\t2 & 116609197 & 199408 & 199408\\\\\n",
       "\t3 & 116609197 & 199408 & 199508\\\\\n",
       "\t4 & 116609197 & 200103 & 200301\\\\\n",
       "\t5 & 117477969 & 199406 & 199505\\\\\n",
       "\\end{tabular}\n"
      ],
      "text/markdown": [
       "\n",
       "A data.frame: 5 x 3\n",
       "\n",
       "| <!--/--> | PERS_ID &lt;int&gt; | YM_start &lt;int&gt; | YM_end &lt;int&gt; |\n",
       "|---|---|---|---|\n",
       "| 1 | 114366763 | 201711 | 201802 |\n",
       "| 2 | 116609197 | 199408 | 199408 |\n",
       "| 3 | 116609197 | 199408 | 199508 |\n",
       "| 4 | 116609197 | 200103 | 200301 |\n",
       "| 5 | 117477969 | 199406 | 199505 |\n",
       "\n"
      ],
      "text/plain": [
       "  PERS_ID   YM_start YM_end\n",
       "1 114366763 201711   201802\n",
       "2 116609197 199408   199408\n",
       "3 116609197 199408   199508\n",
       "4 116609197 200103   200301\n",
       "5 117477969 199406   199505"
      ]
     },
     "metadata": {},
     "output_type": "display_data"
    }
   ],
   "source": [
    "demdf = read.csv('data/dem_dat.csv')\n",
    "head(demdf, 5)\n",
    "jobdf = read.csv('data/job_dat.csv')\n",
    "head(jobdf,5)"
   ]
  },
  {
   "cell_type": "code",
   "execution_count": 60,
   "metadata": {
    "vscode": {
     "languageId": "r"
    }
   },
   "outputs": [
    {
     "data": {
      "text/html": [
       "<table class=\"dataframe\">\n",
       "<caption>A tibble: 0 x 2</caption>\n",
       "<thead>\n",
       "\t<tr><th scope=col>PERS_ID</th><th scope=col>count</th></tr>\n",
       "\t<tr><th scope=col>&lt;int&gt;</th><th scope=col>&lt;int&gt;</th></tr>\n",
       "</thead>\n",
       "<tbody>\n",
       "</tbody>\n",
       "</table>\n"
      ],
      "text/latex": [
       "A tibble: 0 x 2\n",
       "\\begin{tabular}{ll}\n",
       " PERS\\_ID & count\\\\\n",
       " <int> & <int>\\\\\n",
       "\\hline\n",
       "\\end{tabular}\n"
      ],
      "text/markdown": [
       "\n",
       "A tibble: 0 x 2\n",
       "\n",
       "| PERS_ID &lt;int&gt; | count &lt;int&gt; |\n",
       "|---|---|\n",
       "\n"
      ],
      "text/plain": [
       "     PERS_ID count"
      ]
     },
     "metadata": {},
     "output_type": "display_data"
    }
   ],
   "source": [
    "# check if there are multiple rows for a single PERS_ID in demdf\n",
    "\n",
    "demdf %>%\n",
    "    group_by(PERS_ID) %>% \n",
    "    summarise(count = n()) %>% \n",
    "    filter(count > 1)"
   ]
  },
  {
   "cell_type": "code",
   "execution_count": 61,
   "metadata": {
    "vscode": {
     "languageId": "r"
    }
   },
   "outputs": [
    {
     "data": {
      "text/html": [
       "<table class=\"dataframe\">\n",
       "<caption>A data.frame: 5 x 6</caption>\n",
       "<thead>\n",
       "\t<tr><th></th><th scope=col>PERS_ID</th><th scope=col>YM_in</th><th scope=col>YM_out</th><th scope=col>YM_in_date</th><th scope=col>YM_out_date</th><th scope=col>YM_diff</th></tr>\n",
       "\t<tr><th></th><th scope=col>&lt;int&gt;</th><th scope=col>&lt;int&gt;</th><th scope=col>&lt;int&gt;</th><th scope=col>&lt;date&gt;</th><th scope=col>&lt;date&gt;</th><th scope=col>&lt;dbl&gt;</th></tr>\n",
       "</thead>\n",
       "<tbody>\n",
       "\t<tr><th scope=row>1</th><td>117620359</td><td>201108</td><td>201412</td><td>2011-08-01</td><td>2014-12-01</td><td> 43.50000</td></tr>\n",
       "\t<tr><th scope=row>2</th><td>118209775</td><td>201201</td><td>201804</td><td>2012-01-01</td><td>2018-04-01</td><td> 81.50000</td></tr>\n",
       "\t<tr><th scope=row>3</th><td>118897301</td><td>201009</td><td>201412</td><td>2010-09-01</td><td>2014-12-01</td><td> 55.42857</td></tr>\n",
       "\t<tr><th scope=row>4</th><td>119235707</td><td>201305</td><td>201712</td><td>2013-05-01</td><td>2017-12-01</td><td> 59.82143</td></tr>\n",
       "\t<tr><th scope=row>5</th><td>120243185</td><td>200803</td><td>201711</td><td>2008-03-01</td><td>2017-11-01</td><td>126.14286</td></tr>\n",
       "</tbody>\n",
       "</table>\n"
      ],
      "text/latex": [
       "A data.frame: 5 x 6\n",
       "\\begin{tabular}{r|llllll}\n",
       "  & PERS\\_ID & YM\\_in & YM\\_out & YM\\_in\\_date & YM\\_out\\_date & YM\\_diff\\\\\n",
       "  & <int> & <int> & <int> & <date> & <date> & <dbl>\\\\\n",
       "\\hline\n",
       "\t1 & 117620359 & 201108 & 201412 & 2011-08-01 & 2014-12-01 &  43.50000\\\\\n",
       "\t2 & 118209775 & 201201 & 201804 & 2012-01-01 & 2018-04-01 &  81.50000\\\\\n",
       "\t3 & 118897301 & 201009 & 201412 & 2010-09-01 & 2014-12-01 &  55.42857\\\\\n",
       "\t4 & 119235707 & 201305 & 201712 & 2013-05-01 & 2017-12-01 &  59.82143\\\\\n",
       "\t5 & 120243185 & 200803 & 201711 & 2008-03-01 & 2017-11-01 & 126.14286\\\\\n",
       "\\end{tabular}\n"
      ],
      "text/markdown": [
       "\n",
       "A data.frame: 5 x 6\n",
       "\n",
       "| <!--/--> | PERS_ID &lt;int&gt; | YM_in &lt;int&gt; | YM_out &lt;int&gt; | YM_in_date &lt;date&gt; | YM_out_date &lt;date&gt; | YM_diff &lt;dbl&gt; |\n",
       "|---|---|---|---|---|---|---|\n",
       "| 1 | 117620359 | 201108 | 201412 | 2011-08-01 | 2014-12-01 |  43.50000 |\n",
       "| 2 | 118209775 | 201201 | 201804 | 2012-01-01 | 2018-04-01 |  81.50000 |\n",
       "| 3 | 118897301 | 201009 | 201412 | 2010-09-01 | 2014-12-01 |  55.42857 |\n",
       "| 4 | 119235707 | 201305 | 201712 | 2013-05-01 | 2017-12-01 |  59.82143 |\n",
       "| 5 | 120243185 | 200803 | 201711 | 2008-03-01 | 2017-11-01 | 126.14286 |\n",
       "\n"
      ],
      "text/plain": [
       "  PERS_ID   YM_in  YM_out YM_in_date YM_out_date YM_diff  \n",
       "1 117620359 201108 201412 2011-08-01 2014-12-01   43.50000\n",
       "2 118209775 201201 201804 2012-01-01 2018-04-01   81.50000\n",
       "3 118897301 201009 201412 2010-09-01 2014-12-01   55.42857\n",
       "4 119235707 201305 201712 2013-05-01 2017-12-01   59.82143\n",
       "5 120243185 200803 201711 2008-03-01 2017-11-01  126.14286"
      ]
     },
     "metadata": {},
     "output_type": "display_data"
    }
   ],
   "source": [
    "#convert integer to date\n",
    "demdf$YM_in_date <- as.Date(paste0(as.character(demdf$YM_in), '01'), format='%Y%m%d')\n",
    "demdf$YM_out_date <- as.Date(paste0(as.character(demdf$YM_out), '01'), format='%Y%m%d')\n",
    "#diff in months between YM_in and YM_out date\n",
    "demdf$YM_diff <- as.numeric(difftime(demdf$YM_out_date, demdf$YM_in_date, units = 'weeks'))/4\n",
    "head(demdf, 5)\n",
    "\n",
    "\n",
    "#do the same thing for jobdf\n",
    "jobdf$job_start_date <- as.Date(paste0(as.character(jobdf$YM_start), '01'), format='%Y%m%d')\n",
    "jobdf$job_end_date <- as.Date(paste0(as.character(jobdf$YM_end), '01'), format='%Y%m%d')"
   ]
  },
  {
   "cell_type": "code",
   "execution_count": 62,
   "metadata": {
    "vscode": {
     "languageId": "r"
    }
   },
   "outputs": [
    {
     "data": {
      "text/html": [
       "<table class=\"dataframe\">\n",
       "<caption>A data.frame: 6 x 5</caption>\n",
       "<thead>\n",
       "\t<tr><th></th><th scope=col>PERS_ID</th><th scope=col>YM_start</th><th scope=col>YM_end</th><th scope=col>job_start_date</th><th scope=col>job_end_date</th></tr>\n",
       "\t<tr><th></th><th scope=col>&lt;int&gt;</th><th scope=col>&lt;int&gt;</th><th scope=col>&lt;int&gt;</th><th scope=col>&lt;date&gt;</th><th scope=col>&lt;date&gt;</th></tr>\n",
       "</thead>\n",
       "<tbody>\n",
       "\t<tr><th scope=row>1</th><td>114366763</td><td>201711</td><td>201802</td><td>2017-11-01</td><td>2018-02-01</td></tr>\n",
       "\t<tr><th scope=row>2</th><td>116609197</td><td>199408</td><td>199408</td><td>1994-08-01</td><td>1994-08-01</td></tr>\n",
       "\t<tr><th scope=row>3</th><td>116609197</td><td>199408</td><td>199508</td><td>1994-08-01</td><td>1995-08-01</td></tr>\n",
       "\t<tr><th scope=row>4</th><td>116609197</td><td>200103</td><td>200301</td><td>2001-03-01</td><td>2003-01-01</td></tr>\n",
       "\t<tr><th scope=row>5</th><td>117477969</td><td>199406</td><td>199505</td><td>1994-06-01</td><td>1995-05-01</td></tr>\n",
       "\t<tr><th scope=row>6</th><td>117477969</td><td>199505</td><td>199608</td><td>1995-05-01</td><td>1996-08-01</td></tr>\n",
       "</tbody>\n",
       "</table>\n"
      ],
      "text/latex": [
       "A data.frame: 6 x 5\n",
       "\\begin{tabular}{r|lllll}\n",
       "  & PERS\\_ID & YM\\_start & YM\\_end & job\\_start\\_date & job\\_end\\_date\\\\\n",
       "  & <int> & <int> & <int> & <date> & <date>\\\\\n",
       "\\hline\n",
       "\t1 & 114366763 & 201711 & 201802 & 2017-11-01 & 2018-02-01\\\\\n",
       "\t2 & 116609197 & 199408 & 199408 & 1994-08-01 & 1994-08-01\\\\\n",
       "\t3 & 116609197 & 199408 & 199508 & 1994-08-01 & 1995-08-01\\\\\n",
       "\t4 & 116609197 & 200103 & 200301 & 2001-03-01 & 2003-01-01\\\\\n",
       "\t5 & 117477969 & 199406 & 199505 & 1994-06-01 & 1995-05-01\\\\\n",
       "\t6 & 117477969 & 199505 & 199608 & 1995-05-01 & 1996-08-01\\\\\n",
       "\\end{tabular}\n"
      ],
      "text/markdown": [
       "\n",
       "A data.frame: 6 x 5\n",
       "\n",
       "| <!--/--> | PERS_ID &lt;int&gt; | YM_start &lt;int&gt; | YM_end &lt;int&gt; | job_start_date &lt;date&gt; | job_end_date &lt;date&gt; |\n",
       "|---|---|---|---|---|---|\n",
       "| 1 | 114366763 | 201711 | 201802 | 2017-11-01 | 2018-02-01 |\n",
       "| 2 | 116609197 | 199408 | 199408 | 1994-08-01 | 1994-08-01 |\n",
       "| 3 | 116609197 | 199408 | 199508 | 1994-08-01 | 1995-08-01 |\n",
       "| 4 | 116609197 | 200103 | 200301 | 2001-03-01 | 2003-01-01 |\n",
       "| 5 | 117477969 | 199406 | 199505 | 1994-06-01 | 1995-05-01 |\n",
       "| 6 | 117477969 | 199505 | 199608 | 1995-05-01 | 1996-08-01 |\n",
       "\n"
      ],
      "text/plain": [
       "  PERS_ID   YM_start YM_end job_start_date job_end_date\n",
       "1 114366763 201711   201802 2017-11-01     2018-02-01  \n",
       "2 116609197 199408   199408 1994-08-01     1994-08-01  \n",
       "3 116609197 199408   199508 1994-08-01     1995-08-01  \n",
       "4 116609197 200103   200301 2001-03-01     2003-01-01  \n",
       "5 117477969 199406   199505 1994-06-01     1995-05-01  \n",
       "6 117477969 199505   199608 1995-05-01     1996-08-01  "
      ]
     },
     "metadata": {},
     "output_type": "display_data"
    }
   ],
   "source": [
    "head(jobdf)"
   ]
  },
  {
   "cell_type": "code",
   "execution_count": 63,
   "metadata": {
    "vscode": {
     "languageId": "r"
    }
   },
   "outputs": [
    {
     "data": {
      "text/html": [
       "<style>\n",
       ".list-inline {list-style: none; margin:0; padding: 0}\n",
       ".list-inline>li {display: inline-block}\n",
       ".list-inline>li:not(:last-child)::after {content: \"\\00b7\"; padding: 0 .5ex}\n",
       "</style>\n",
       "<ol class=list-inline><li>23102</li><li>2</li></ol>\n"
      ],
      "text/latex": [
       "\\begin{enumerate*}\n",
       "\\item 23102\n",
       "\\item 2\n",
       "\\end{enumerate*}\n"
      ],
      "text/markdown": [
       "1. 23102\n",
       "2. 2\n",
       "\n",
       "\n"
      ],
      "text/plain": [
       "[1] 23102     2"
      ]
     },
     "metadata": {},
     "output_type": "display_data"
    }
   ],
   "source": [
    "#df of person and months they were employed for\n",
    "library(\"dplyr\")\n",
    "jobdf$months <- mapply(function(start, end) {\n",
    "# c(seq(start, end, by = \"month\"))\n",
    "  format(seq(start, end, by = \"month\"), \"%Y%m\")\n",
    "}, jobdf$job_start_date, jobdf$job_end_date)\n",
    "\n",
    "#sort by person_id\n",
    "jobdf <- jobdf %>% arrange(PERS_ID)\n",
    "\n",
    "\n",
    "#group by person_id and concatenate the months\n",
    "person_employed_months <- jobdf %>% \n",
    "                            group_by(PERS_ID) %>%\n",
    "                            summarise(months = unique(list(unlist(months))))\n",
    "                            \n",
    "\n",
    "dim(person_employed_months)\n"
   ]
  },
  {
   "cell_type": "code",
   "execution_count": 64,
   "metadata": {
    "vscode": {
     "languageId": "r"
    }
   },
   "outputs": [
    {
     "data": {
      "text/html": [
       "<table class=\"dataframe\">\n",
       "<caption>A tibble: 6 x 3</caption>\n",
       "<thead>\n",
       "\t<tr><th scope=col>PERS_ID</th><th scope=col>months</th><th scope=col>num_months</th></tr>\n",
       "\t<tr><th scope=col>&lt;int&gt;</th><th scope=col>&lt;list&gt;</th><th scope=col>&lt;int&gt;</th></tr>\n",
       "</thead>\n",
       "<tbody>\n",
       "\t<tr><td>114366763</td><td>201711, 201712, 201801, 201802</td><td> 4</td></tr>\n",
       "\t<tr><td>116609197</td><td>199408, 199408, 199409, 199410, 199411, 199412, 199501, 199502, 199503, 199504, 199505, 199506, 199507, 199508, 200103, 200104, 200105, 200106, 200107, 200108, 200109, 200110, 200111, 200112, 200201, 200202, 200203, 200204, 200205, 200206, 200207, 200208, 200209, 200210, 200211, 200212, 200301</td><td>37</td></tr>\n",
       "\t<tr><td>117477969</td><td>199406, 199407, 199408, 199409, 199410, 199411, 199412, 199501, 199502, 199503, 199504, 199505, 199505, 199506, 199507, 199508, 199509, 199510, 199511, 199512, 199601, 199602, 199603, 199604, 199605, 199606, 199607, 199608, 201508, 201510, 201511, 201512, 201601, 201602, 201603, 201604, 201605, 201606, 201607, 201608, 201609, 201610, 201611, 201612</td><td>44</td></tr>\n",
       "\t<tr><td>117735987</td><td>200007, 200105, 200106, 200107, 200108, 200109, 200110, 200111, 200207, 200208, 200209, 200210, 200211, 200305</td><td>14</td></tr>\n",
       "\t<tr><td>118209775</td><td>201512, 201601, 201602, 201603, 201604, 201605, 201606, 201607, 201608, 201609, 201610, 201611, 201612, 201701, 201702, 201703, 201704, 201705, 201706, 201707, 201708, 201709, 201710, 201711, 201712, 201801, 201802, 201803, 201804</td><td>29</td></tr>\n",
       "\t<tr><td>118298911</td><td>200109, 200110, 200111, 200112, 200201, 200202, 200203, 200204, 200205, 200206</td><td>10</td></tr>\n",
       "</tbody>\n",
       "</table>\n"
      ],
      "text/latex": [
       "A tibble: 6 x 3\n",
       "\\begin{tabular}{lll}\n",
       " PERS\\_ID & months & num\\_months\\\\\n",
       " <int> & <list> & <int>\\\\\n",
       "\\hline\n",
       "\t 114366763 & 201711, 201712, 201801, 201802 &  4\\\\\n",
       "\t 116609197 & 199408, 199408, 199409, 199410, 199411, 199412, 199501, 199502, 199503, 199504, 199505, 199506, 199507, 199508, 200103, 200104, 200105, 200106, 200107, 200108, 200109, 200110, 200111, 200112, 200201, 200202, 200203, 200204, 200205, 200206, 200207, 200208, 200209, 200210, 200211, 200212, 200301 & 37\\\\\n",
       "\t 117477969 & 199406, 199407, 199408, 199409, 199410, 199411, 199412, 199501, 199502, 199503, 199504, 199505, 199505, 199506, 199507, 199508, 199509, 199510, 199511, 199512, 199601, 199602, 199603, 199604, 199605, 199606, 199607, 199608, 201508, 201510, 201511, 201512, 201601, 201602, 201603, 201604, 201605, 201606, 201607, 201608, 201609, 201610, 201611, 201612 & 44\\\\\n",
       "\t 117735987 & 200007, 200105, 200106, 200107, 200108, 200109, 200110, 200111, 200207, 200208, 200209, 200210, 200211, 200305 & 14\\\\\n",
       "\t 118209775 & 201512, 201601, 201602, 201603, 201604, 201605, 201606, 201607, 201608, 201609, 201610, 201611, 201612, 201701, 201702, 201703, 201704, 201705, 201706, 201707, 201708, 201709, 201710, 201711, 201712, 201801, 201802, 201803, 201804 & 29\\\\\n",
       "\t 118298911 & 200109, 200110, 200111, 200112, 200201, 200202, 200203, 200204, 200205, 200206 & 10\\\\\n",
       "\\end{tabular}\n"
      ],
      "text/markdown": [
       "\n",
       "A tibble: 6 x 3\n",
       "\n",
       "| PERS_ID &lt;int&gt; | months &lt;list&gt; | num_months &lt;int&gt; |\n",
       "|---|---|---|\n",
       "| 114366763 | 201711, 201712, 201801, 201802 |  4 |\n",
       "| 116609197 | 199408, 199408, 199409, 199410, 199411, 199412, 199501, 199502, 199503, 199504, 199505, 199506, 199507, 199508, 200103, 200104, 200105, 200106, 200107, 200108, 200109, 200110, 200111, 200112, 200201, 200202, 200203, 200204, 200205, 200206, 200207, 200208, 200209, 200210, 200211, 200212, 200301 | 37 |\n",
       "| 117477969 | 199406, 199407, 199408, 199409, 199410, 199411, 199412, 199501, 199502, 199503, 199504, 199505, 199505, 199506, 199507, 199508, 199509, 199510, 199511, 199512, 199601, 199602, 199603, 199604, 199605, 199606, 199607, 199608, 201508, 201510, 201511, 201512, 201601, 201602, 201603, 201604, 201605, 201606, 201607, 201608, 201609, 201610, 201611, 201612 | 44 |\n",
       "| 117735987 | 200007, 200105, 200106, 200107, 200108, 200109, 200110, 200111, 200207, 200208, 200209, 200210, 200211, 200305 | 14 |\n",
       "| 118209775 | 201512, 201601, 201602, 201603, 201604, 201605, 201606, 201607, 201608, 201609, 201610, 201611, 201612, 201701, 201702, 201703, 201704, 201705, 201706, 201707, 201708, 201709, 201710, 201711, 201712, 201801, 201802, 201803, 201804 | 29 |\n",
       "| 118298911 | 200109, 200110, 200111, 200112, 200201, 200202, 200203, 200204, 200205, 200206 | 10 |\n",
       "\n"
      ],
      "text/plain": [
       "  PERS_ID  \n",
       "1 114366763\n",
       "2 116609197\n",
       "3 117477969\n",
       "4 117735987\n",
       "5 118209775\n",
       "6 118298911\n",
       "  months                                                                                                                                                                                                                                                                                                                                                        \n",
       "1 201711, 201712, 201801, 201802                                                                                                                                                                                                                                                                                                                                \n",
       "2 199408, 199408, 199409, 199410, 199411, 199412, 199501, 199502, 199503, 199504, 199505, 199506, 199507, 199508, 200103, 200104, 200105, 200106, 200107, 200108, 200109, 200110, 200111, 200112, 200201, 200202, 200203, 200204, 200205, 200206, 200207, 200208, 200209, 200210, 200211, 200212, 200301                                                        \n",
       "3 199406, 199407, 199408, 199409, 199410, 199411, 199412, 199501, 199502, 199503, 199504, 199505, 199505, 199506, 199507, 199508, 199509, 199510, 199511, 199512, 199601, 199602, 199603, 199604, 199605, 199606, 199607, 199608, 201508, 201510, 201511, 201512, 201601, 201602, 201603, 201604, 201605, 201606, 201607, 201608, 201609, 201610, 201611, 201612\n",
       "4 200007, 200105, 200106, 200107, 200108, 200109, 200110, 200111, 200207, 200208, 200209, 200210, 200211, 200305                                                                                                                                                                                                                                                \n",
       "5 201512, 201601, 201602, 201603, 201604, 201605, 201606, 201607, 201608, 201609, 201610, 201611, 201612, 201701, 201702, 201703, 201704, 201705, 201706, 201707, 201708, 201709, 201710, 201711, 201712, 201801, 201802, 201803, 201804                                                                                                                        \n",
       "6 200109, 200110, 200111, 200112, 200201, 200202, 200203, 200204, 200205, 200206                                                                                                                                                                                                                                                                                \n",
       "  num_months\n",
       "1  4        \n",
       "2 37        \n",
       "3 44        \n",
       "4 14        \n",
       "5 29        \n",
       "6 10        "
      ]
     },
     "metadata": {},
     "output_type": "display_data"
    }
   ],
   "source": [
    "person_employed_months$num_months <- lengths(person_employed_months$months)\n",
    "head(person_employed_months)"
   ]
  },
  {
   "cell_type": "code",
   "execution_count": 65,
   "metadata": {
    "vscode": {
     "languageId": "r"
    }
   },
   "outputs": [
    {
     "data": {
      "text/html": [
       "<table class=\"dataframe\">\n",
       "<caption>A data.frame: 6 x 9</caption>\n",
       "<thead>\n",
       "\t<tr><th></th><th scope=col>PERS_ID</th><th scope=col>YM_in</th><th scope=col>YM_out</th><th scope=col>YM_in_date</th><th scope=col>YM_out_date</th><th scope=col>YM_diff</th><th scope=col>year3</th><th scope=col>months_36</th><th scope=col>months_36_len</th></tr>\n",
       "\t<tr><th></th><th scope=col>&lt;int&gt;</th><th scope=col>&lt;int&gt;</th><th scope=col>&lt;int&gt;</th><th scope=col>&lt;date&gt;</th><th scope=col>&lt;date&gt;</th><th scope=col>&lt;dbl&gt;</th><th scope=col>&lt;date&gt;</th><th scope=col>&lt;list&gt;</th><th scope=col>&lt;int&gt;</th></tr>\n",
       "</thead>\n",
       "<tbody>\n",
       "\t<tr><th scope=row>1</th><td>117620359</td><td>201108</td><td>201412</td><td>2011-08-01</td><td>2014-12-01</td><td> 43.50000</td><td>2014-07-31</td><td>201108, 201109, 201110, 201111, 201112, 201201, 201202, 201203, 201204, 201205, 201206, 201207, 201208, 201209, 201210, 201211, 201212, 201301, 201302, 201303, 201304, 201305, 201306, 201307, 201308, 201309, 201310, 201311, 201312, 201401, 201402, 201403, 201404, 201405, 201406, 201407</td><td>36</td></tr>\n",
       "\t<tr><th scope=row>2</th><td>118209775</td><td>201201</td><td>201804</td><td>2012-01-01</td><td>2018-04-01</td><td> 81.50000</td><td>2014-12-31</td><td>201201, 201202, 201203, 201204, 201205, 201206, 201207, 201208, 201209, 201210, 201211, 201212, 201301, 201302, 201303, 201304, 201305, 201306, 201307, 201308, 201309, 201310, 201311, 201312, 201401, 201402, 201403, 201404, 201405, 201406, 201407, 201408, 201409, 201410, 201411, 201412</td><td>36</td></tr>\n",
       "\t<tr><th scope=row>3</th><td>118897301</td><td>201009</td><td>201412</td><td>2010-09-01</td><td>2014-12-01</td><td> 55.42857</td><td>2013-08-31</td><td>201009, 201010, 201011, 201012, 201101, 201102, 201103, 201104, 201105, 201106, 201107, 201108, 201109, 201110, 201111, 201112, 201201, 201202, 201203, 201204, 201205, 201206, 201207, 201208, 201209, 201210, 201211, 201212, 201301, 201302, 201303, 201304, 201305, 201306, 201307, 201308</td><td>36</td></tr>\n",
       "\t<tr><th scope=row>4</th><td>119235707</td><td>201305</td><td>201712</td><td>2013-05-01</td><td>2017-12-01</td><td> 59.82143</td><td>2016-04-30</td><td>201305, 201306, 201307, 201308, 201309, 201310, 201311, 201312, 201401, 201402, 201403, 201404, 201405, 201406, 201407, 201408, 201409, 201410, 201411, 201412, 201501, 201502, 201503, 201504, 201505, 201506, 201507, 201508, 201509, 201510, 201511, 201512, 201601, 201602, 201603, 201604</td><td>36</td></tr>\n",
       "\t<tr><th scope=row>5</th><td>120243185</td><td>200803</td><td>201711</td><td>2008-03-01</td><td>2017-11-01</td><td>126.14286</td><td>2011-03-01</td><td>200803, 200804, 200805, 200806, 200807, 200808, 200809, 200810, 200811, 200812, 200901, 200902, 200903, 200904, 200905, 200906, 200907, 200908, 200909, 200910, 200911, 200912, 201001, 201002, 201003, 201004, 201005, 201006, 201007, 201008, 201009, 201010, 201011, 201012, 201101, 201102, 201103</td><td>37</td></tr>\n",
       "\t<tr><th scope=row>6</th><td>120286227</td><td>201108</td><td>201711</td><td>2011-08-01</td><td>2017-11-01</td><td> 81.57143</td><td>2014-07-31</td><td>201108, 201109, 201110, 201111, 201112, 201201, 201202, 201203, 201204, 201205, 201206, 201207, 201208, 201209, 201210, 201211, 201212, 201301, 201302, 201303, 201304, 201305, 201306, 201307, 201308, 201309, 201310, 201311, 201312, 201401, 201402, 201403, 201404, 201405, 201406, 201407</td><td>36</td></tr>\n",
       "</tbody>\n",
       "</table>\n"
      ],
      "text/latex": [
       "A data.frame: 6 x 9\n",
       "\\begin{tabular}{r|lllllllll}\n",
       "  & PERS\\_ID & YM\\_in & YM\\_out & YM\\_in\\_date & YM\\_out\\_date & YM\\_diff & year3 & months\\_36 & months\\_36\\_len\\\\\n",
       "  & <int> & <int> & <int> & <date> & <date> & <dbl> & <date> & <list> & <int>\\\\\n",
       "\\hline\n",
       "\t1 & 117620359 & 201108 & 201412 & 2011-08-01 & 2014-12-01 &  43.50000 & 2014-07-31 & 201108, 201109, 201110, 201111, 201112, 201201, 201202, 201203, 201204, 201205, 201206, 201207, 201208, 201209, 201210, 201211, 201212, 201301, 201302, 201303, 201304, 201305, 201306, 201307, 201308, 201309, 201310, 201311, 201312, 201401, 201402, 201403, 201404, 201405, 201406, 201407 & 36\\\\\n",
       "\t2 & 118209775 & 201201 & 201804 & 2012-01-01 & 2018-04-01 &  81.50000 & 2014-12-31 & 201201, 201202, 201203, 201204, 201205, 201206, 201207, 201208, 201209, 201210, 201211, 201212, 201301, 201302, 201303, 201304, 201305, 201306, 201307, 201308, 201309, 201310, 201311, 201312, 201401, 201402, 201403, 201404, 201405, 201406, 201407, 201408, 201409, 201410, 201411, 201412 & 36\\\\\n",
       "\t3 & 118897301 & 201009 & 201412 & 2010-09-01 & 2014-12-01 &  55.42857 & 2013-08-31 & 201009, 201010, 201011, 201012, 201101, 201102, 201103, 201104, 201105, 201106, 201107, 201108, 201109, 201110, 201111, 201112, 201201, 201202, 201203, 201204, 201205, 201206, 201207, 201208, 201209, 201210, 201211, 201212, 201301, 201302, 201303, 201304, 201305, 201306, 201307, 201308 & 36\\\\\n",
       "\t4 & 119235707 & 201305 & 201712 & 2013-05-01 & 2017-12-01 &  59.82143 & 2016-04-30 & 201305, 201306, 201307, 201308, 201309, 201310, 201311, 201312, 201401, 201402, 201403, 201404, 201405, 201406, 201407, 201408, 201409, 201410, 201411, 201412, 201501, 201502, 201503, 201504, 201505, 201506, 201507, 201508, 201509, 201510, 201511, 201512, 201601, 201602, 201603, 201604 & 36\\\\\n",
       "\t5 & 120243185 & 200803 & 201711 & 2008-03-01 & 2017-11-01 & 126.14286 & 2011-03-01 & 200803, 200804, 200805, 200806, 200807, 200808, 200809, 200810, 200811, 200812, 200901, 200902, 200903, 200904, 200905, 200906, 200907, 200908, 200909, 200910, 200911, 200912, 201001, 201002, 201003, 201004, 201005, 201006, 201007, 201008, 201009, 201010, 201011, 201012, 201101, 201102, 201103 & 37\\\\\n",
       "\t6 & 120286227 & 201108 & 201711 & 2011-08-01 & 2017-11-01 &  81.57143 & 2014-07-31 & 201108, 201109, 201110, 201111, 201112, 201201, 201202, 201203, 201204, 201205, 201206, 201207, 201208, 201209, 201210, 201211, 201212, 201301, 201302, 201303, 201304, 201305, 201306, 201307, 201308, 201309, 201310, 201311, 201312, 201401, 201402, 201403, 201404, 201405, 201406, 201407 & 36\\\\\n",
       "\\end{tabular}\n"
      ],
      "text/markdown": [
       "\n",
       "A data.frame: 6 x 9\n",
       "\n",
       "| <!--/--> | PERS_ID &lt;int&gt; | YM_in &lt;int&gt; | YM_out &lt;int&gt; | YM_in_date &lt;date&gt; | YM_out_date &lt;date&gt; | YM_diff &lt;dbl&gt; | year3 &lt;date&gt; | months_36 &lt;list&gt; | months_36_len &lt;int&gt; |\n",
       "|---|---|---|---|---|---|---|---|---|---|\n",
       "| 1 | 117620359 | 201108 | 201412 | 2011-08-01 | 2014-12-01 |  43.50000 | 2014-07-31 | 201108, 201109, 201110, 201111, 201112, 201201, 201202, 201203, 201204, 201205, 201206, 201207, 201208, 201209, 201210, 201211, 201212, 201301, 201302, 201303, 201304, 201305, 201306, 201307, 201308, 201309, 201310, 201311, 201312, 201401, 201402, 201403, 201404, 201405, 201406, 201407 | 36 |\n",
       "| 2 | 118209775 | 201201 | 201804 | 2012-01-01 | 2018-04-01 |  81.50000 | 2014-12-31 | 201201, 201202, 201203, 201204, 201205, 201206, 201207, 201208, 201209, 201210, 201211, 201212, 201301, 201302, 201303, 201304, 201305, 201306, 201307, 201308, 201309, 201310, 201311, 201312, 201401, 201402, 201403, 201404, 201405, 201406, 201407, 201408, 201409, 201410, 201411, 201412 | 36 |\n",
       "| 3 | 118897301 | 201009 | 201412 | 2010-09-01 | 2014-12-01 |  55.42857 | 2013-08-31 | 201009, 201010, 201011, 201012, 201101, 201102, 201103, 201104, 201105, 201106, 201107, 201108, 201109, 201110, 201111, 201112, 201201, 201202, 201203, 201204, 201205, 201206, 201207, 201208, 201209, 201210, 201211, 201212, 201301, 201302, 201303, 201304, 201305, 201306, 201307, 201308 | 36 |\n",
       "| 4 | 119235707 | 201305 | 201712 | 2013-05-01 | 2017-12-01 |  59.82143 | 2016-04-30 | 201305, 201306, 201307, 201308, 201309, 201310, 201311, 201312, 201401, 201402, 201403, 201404, 201405, 201406, 201407, 201408, 201409, 201410, 201411, 201412, 201501, 201502, 201503, 201504, 201505, 201506, 201507, 201508, 201509, 201510, 201511, 201512, 201601, 201602, 201603, 201604 | 36 |\n",
       "| 5 | 120243185 | 200803 | 201711 | 2008-03-01 | 2017-11-01 | 126.14286 | 2011-03-01 | 200803, 200804, 200805, 200806, 200807, 200808, 200809, 200810, 200811, 200812, 200901, 200902, 200903, 200904, 200905, 200906, 200907, 200908, 200909, 200910, 200911, 200912, 201001, 201002, 201003, 201004, 201005, 201006, 201007, 201008, 201009, 201010, 201011, 201012, 201101, 201102, 201103 | 37 |\n",
       "| 6 | 120286227 | 201108 | 201711 | 2011-08-01 | 2017-11-01 |  81.57143 | 2014-07-31 | 201108, 201109, 201110, 201111, 201112, 201201, 201202, 201203, 201204, 201205, 201206, 201207, 201208, 201209, 201210, 201211, 201212, 201301, 201302, 201303, 201304, 201305, 201306, 201307, 201308, 201309, 201310, 201311, 201312, 201401, 201402, 201403, 201404, 201405, 201406, 201407 | 36 |\n",
       "\n"
      ],
      "text/plain": [
       "  PERS_ID   YM_in  YM_out YM_in_date YM_out_date YM_diff   year3     \n",
       "1 117620359 201108 201412 2011-08-01 2014-12-01   43.50000 2014-07-31\n",
       "2 118209775 201201 201804 2012-01-01 2018-04-01   81.50000 2014-12-31\n",
       "3 118897301 201009 201412 2010-09-01 2014-12-01   55.42857 2013-08-31\n",
       "4 119235707 201305 201712 2013-05-01 2017-12-01   59.82143 2016-04-30\n",
       "5 120243185 200803 201711 2008-03-01 2017-11-01  126.14286 2011-03-01\n",
       "6 120286227 201108 201711 2011-08-01 2017-11-01   81.57143 2014-07-31\n",
       "  months_36                                                                                                                                                                                                                                                                                             \n",
       "1 201108, 201109, 201110, 201111, 201112, 201201, 201202, 201203, 201204, 201205, 201206, 201207, 201208, 201209, 201210, 201211, 201212, 201301, 201302, 201303, 201304, 201305, 201306, 201307, 201308, 201309, 201310, 201311, 201312, 201401, 201402, 201403, 201404, 201405, 201406, 201407        \n",
       "2 201201, 201202, 201203, 201204, 201205, 201206, 201207, 201208, 201209, 201210, 201211, 201212, 201301, 201302, 201303, 201304, 201305, 201306, 201307, 201308, 201309, 201310, 201311, 201312, 201401, 201402, 201403, 201404, 201405, 201406, 201407, 201408, 201409, 201410, 201411, 201412        \n",
       "3 201009, 201010, 201011, 201012, 201101, 201102, 201103, 201104, 201105, 201106, 201107, 201108, 201109, 201110, 201111, 201112, 201201, 201202, 201203, 201204, 201205, 201206, 201207, 201208, 201209, 201210, 201211, 201212, 201301, 201302, 201303, 201304, 201305, 201306, 201307, 201308        \n",
       "4 201305, 201306, 201307, 201308, 201309, 201310, 201311, 201312, 201401, 201402, 201403, 201404, 201405, 201406, 201407, 201408, 201409, 201410, 201411, 201412, 201501, 201502, 201503, 201504, 201505, 201506, 201507, 201508, 201509, 201510, 201511, 201512, 201601, 201602, 201603, 201604        \n",
       "5 200803, 200804, 200805, 200806, 200807, 200808, 200809, 200810, 200811, 200812, 200901, 200902, 200903, 200904, 200905, 200906, 200907, 200908, 200909, 200910, 200911, 200912, 201001, 201002, 201003, 201004, 201005, 201006, 201007, 201008, 201009, 201010, 201011, 201012, 201101, 201102, 201103\n",
       "6 201108, 201109, 201110, 201111, 201112, 201201, 201202, 201203, 201204, 201205, 201206, 201207, 201208, 201209, 201210, 201211, 201212, 201301, 201302, 201303, 201304, 201305, 201306, 201307, 201308, 201309, 201310, 201311, 201312, 201401, 201402, 201403, 201404, 201405, 201406, 201407        \n",
       "  months_36_len\n",
       "1 36           \n",
       "2 36           \n",
       "3 36           \n",
       "4 36           \n",
       "5 37           \n",
       "6 36           "
      ]
     },
     "metadata": {},
     "output_type": "display_data"
    }
   ],
   "source": [
    "# the first 36 months of each person\n",
    "\n",
    "#create a column for 3 years after YM_in_date\n",
    "demdf$year3 =  demdf$YM_in_date + 3*365\n",
    "\n",
    "demdf$months_36 = mapply(function(start, end) {\n",
    "  format(seq(start, end, by = \"month\"), \"%Y%m\")\n",
    "}, demdf$YM_in_date, demdf$year3)\n",
    "\n",
    "\n",
    "\n",
    "demdf$months_36_len = lengths(demdf$months_36)\n",
    "head(demdf,4)"
   ]
  },
  {
   "cell_type": "code",
   "execution_count": 66,
   "metadata": {
    "vscode": {
     "languageId": "r"
    }
   },
   "outputs": [
    {
     "data": {
      "text/html": [
       "<table class=\"dataframe\">\n",
       "<caption>A data.frame: 20 x 2</caption>\n",
       "<thead>\n",
       "\t<tr><th></th><th scope=col>PERS_ID</th><th scope=col>employed_months_len</th></tr>\n",
       "\t<tr><th></th><th scope=col>&lt;int&gt;</th><th scope=col>&lt;int&gt;</th></tr>\n",
       "</thead>\n",
       "<tbody>\n",
       "\t<tr><th scope=row>1</th><td>117620359</td><td> 0</td></tr>\n",
       "\t<tr><th scope=row>2</th><td>118209775</td><td> 0</td></tr>\n",
       "\t<tr><th scope=row>3</th><td>118897301</td><td> 0</td></tr>\n",
       "\t<tr><th scope=row>4</th><td>119235707</td><td> 0</td></tr>\n",
       "\t<tr><th scope=row>5</th><td>120243185</td><td> 5</td></tr>\n",
       "\t<tr><th scope=row>6</th><td>120286227</td><td> 5</td></tr>\n",
       "\t<tr><th scope=row>7</th><td>120640421</td><td> 2</td></tr>\n",
       "\t<tr><th scope=row>8</th><td>120779575</td><td> 0</td></tr>\n",
       "\t<tr><th scope=row>9</th><td>120938691</td><td> 1</td></tr>\n",
       "\t<tr><th scope=row>10</th><td>120946243</td><td> 0</td></tr>\n",
       "\t<tr><th scope=row>11</th><td>121144283</td><td> 1</td></tr>\n",
       "\t<tr><th scope=row>12</th><td>121391231</td><td>21</td></tr>\n",
       "\t<tr><th scope=row>13</th><td>121417077</td><td> 0</td></tr>\n",
       "\t<tr><th scope=row>14</th><td>121489187</td><td> 0</td></tr>\n",
       "\t<tr><th scope=row>15</th><td>121499421</td><td> 0</td></tr>\n",
       "\t<tr><th scope=row>16</th><td>121526725</td><td> 0</td></tr>\n",
       "\t<tr><th scope=row>17</th><td>121773299</td><td>16</td></tr>\n",
       "\t<tr><th scope=row>18</th><td>121794009</td><td> 0</td></tr>\n",
       "\t<tr><th scope=row>19</th><td>121951301</td><td> 0</td></tr>\n",
       "\t<tr><th scope=row>20</th><td>122210893</td><td> 0</td></tr>\n",
       "</tbody>\n",
       "</table>\n"
      ],
      "text/latex": [
       "A data.frame: 20 x 2\n",
       "\\begin{tabular}{r|ll}\n",
       "  & PERS\\_ID & employed\\_months\\_len\\\\\n",
       "  & <int> & <int>\\\\\n",
       "\\hline\n",
       "\t1 & 117620359 &  0\\\\\n",
       "\t2 & 118209775 &  0\\\\\n",
       "\t3 & 118897301 &  0\\\\\n",
       "\t4 & 119235707 &  0\\\\\n",
       "\t5 & 120243185 &  5\\\\\n",
       "\t6 & 120286227 &  5\\\\\n",
       "\t7 & 120640421 &  2\\\\\n",
       "\t8 & 120779575 &  0\\\\\n",
       "\t9 & 120938691 &  1\\\\\n",
       "\t10 & 120946243 &  0\\\\\n",
       "\t11 & 121144283 &  1\\\\\n",
       "\t12 & 121391231 & 21\\\\\n",
       "\t13 & 121417077 &  0\\\\\n",
       "\t14 & 121489187 &  0\\\\\n",
       "\t15 & 121499421 &  0\\\\\n",
       "\t16 & 121526725 &  0\\\\\n",
       "\t17 & 121773299 & 16\\\\\n",
       "\t18 & 121794009 &  0\\\\\n",
       "\t19 & 121951301 &  0\\\\\n",
       "\t20 & 122210893 &  0\\\\\n",
       "\\end{tabular}\n"
      ],
      "text/markdown": [
       "\n",
       "A data.frame: 20 x 2\n",
       "\n",
       "| <!--/--> | PERS_ID &lt;int&gt; | employed_months_len &lt;int&gt; |\n",
       "|---|---|---|\n",
       "| 1 | 117620359 |  0 |\n",
       "| 2 | 118209775 |  0 |\n",
       "| 3 | 118897301 |  0 |\n",
       "| 4 | 119235707 |  0 |\n",
       "| 5 | 120243185 |  5 |\n",
       "| 6 | 120286227 |  5 |\n",
       "| 7 | 120640421 |  2 |\n",
       "| 8 | 120779575 |  0 |\n",
       "| 9 | 120938691 |  1 |\n",
       "| 10 | 120946243 |  0 |\n",
       "| 11 | 121144283 |  1 |\n",
       "| 12 | 121391231 | 21 |\n",
       "| 13 | 121417077 |  0 |\n",
       "| 14 | 121489187 |  0 |\n",
       "| 15 | 121499421 |  0 |\n",
       "| 16 | 121526725 |  0 |\n",
       "| 17 | 121773299 | 16 |\n",
       "| 18 | 121794009 |  0 |\n",
       "| 19 | 121951301 |  0 |\n",
       "| 20 | 122210893 |  0 |\n",
       "\n"
      ],
      "text/plain": [
       "   PERS_ID   employed_months_len\n",
       "1  117620359  0                 \n",
       "2  118209775  0                 \n",
       "3  118897301  0                 \n",
       "4  119235707  0                 \n",
       "5  120243185  5                 \n",
       "6  120286227  5                 \n",
       "7  120640421  2                 \n",
       "8  120779575  0                 \n",
       "9  120938691  1                 \n",
       "10 120946243  0                 \n",
       "11 121144283  1                 \n",
       "12 121391231 21                 \n",
       "13 121417077  0                 \n",
       "14 121489187  0                 \n",
       "15 121499421  0                 \n",
       "16 121526725  0                 \n",
       "17 121773299 16                 \n",
       "18 121794009  0                 \n",
       "19 121951301  0                 \n",
       "20 122210893  0                 "
      ]
     },
     "metadata": {},
     "output_type": "display_data"
    },
    {
     "data": {
      "text/plain": [
       "   Min. 1st Qu.  Median    Mean 3rd Qu.    Max. \n",
       "  0.000   0.000   0.000   5.386   8.000  37.000 "
      ]
     },
     "metadata": {},
     "output_type": "display_data"
    }
   ],
   "source": [
    "#Joining these dfs\n",
    "\n",
    "demdf_subset <- demdf %>% select(PERS_ID, months_36)\n",
    "\n",
    "# head(demdf_subset, 2)\n",
    "# head(person_employed_months, 2)\n",
    "\n",
    "result <- left_join(demdf_subset, person_employed_months, by = \"PERS_ID\")\n",
    "\n",
    "#take the intersection of months_36 and months\n",
    "result$employed_months <- mapply(function(x, y) {\n",
    "  intersect(x, y)\n",
    "}, result$months_36, result$months)\n",
    "\n",
    "result$employed_months_len = lengths(result$employed_months)\n",
    "\n",
    "result =result %>% select(PERS_ID, employed_months_len)\n",
    "\n",
    "\n",
    "head(result, 20)\n",
    "\n",
    "summary(result$employed_months_len)\n"
   ]
  },
  {
   "cell_type": "markdown",
   "metadata": {},
   "source": [
    "### From the table above we can see that \n",
    "    mean : 5.386\n",
    "    median : 0\n",
    "    max : 36\n",
    "\n",
    "note: as a limitation , there is an off by 1 error for some cases while calculating the first 36 months. "
   ]
  }
 ],
 "metadata": {
  "kernelspec": {
   "display_name": "R",
   "language": "R",
   "name": "ir"
  },
  "language_info": {
   "codemirror_mode": "r",
   "file_extension": ".r",
   "mimetype": "text/x-r-source",
   "name": "R",
   "pygments_lexer": "r",
   "version": "4.3.2"
  }
 },
 "nbformat": 4,
 "nbformat_minor": 2
}
